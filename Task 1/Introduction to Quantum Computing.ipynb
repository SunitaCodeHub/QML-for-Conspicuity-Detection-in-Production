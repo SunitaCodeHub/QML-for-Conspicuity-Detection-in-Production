{
 "cells": [
  {
   "cell_type": "markdown",
   "metadata": {},
   "source": [
    "## TEAM NAME: QUANTUM ENTANGLERS\n",
    "\n",
    "### Team Members\n",
    "\n",
    "**Rajana Rama Satya Sai Durga Prasad**  \n",
    "**Enrollment ID:** WQ24-UkA0PEQyOfbIQTn  \n",
    "**Email:** rajanasatyasai@gmail.com\n",
    "\n",
    "**Sunita**  \n",
    "**Enrollment ID:** WQ24-kntLxdjlEEqKqC9  \n",
    "**Email:** khothsunita1508@gmail.com\n",
    "\n",
    "### Project: QML-for-Conspicuity-Detection-in-Production\n"
   ]
  },
  {
   "cell_type": "markdown",
   "metadata": {},
   "source": [
    "# **All About Qubits**\n",
    "\n",
    "### **Codercise I.1.1**"
   ]
  },
  {
   "cell_type": "code",
   "execution_count": 1,
   "metadata": {},
   "outputs": [],
   "source": [
    "import pennylane as qml\n",
    "from pennylane import numpy as np\n",
    "\n",
    "# Here are the vector representations of |0> and |1>, for convenience\n",
    "ket_0 = np.array([1, 0])\n",
    "ket_1 = np.array([0, 1])\n",
    "\n",
    "\n",
    "def normalize_state(alpha, beta):\n",
    "    \"\"\"Compute a normalized quantum state given arbitrary amplitudes.\n",
    "\n",
    "    Args:\n",
    "        alpha (complex): The amplitude associated with the |0> state.\n",
    "        beta (complex): The amplitude associated with the |1> state.\n",
    "\n",
    "    Returns:\n",
    "        np.array[complex]: A vector (numpy array) with 2 elements that represents\n",
    "        a normalized quantum state.\n",
    "    \"\"\"\n",
    "\n",
    "    ##################\n",
    "    lenght = np.sqrt(np.inner(alpha,np.conj(alpha)) + np.inner(beta,np.conj(beta))).real\n",
    "    vector = np.array([alpha / lenght, beta / lenght])\n",
    "    ##################\n",
    "\n",
    "    # CREATE A VECTOR [a', b'] BASED ON alpha AND beta SUCH THAT |a'|^2 + |b'|^2 = 1\n",
    "\n",
    "    # RETURN A VECTOR\n",
    "    return vector\n"
   ]
  },
  {
   "cell_type": "markdown",
   "metadata": {},
   "source": [
    "## Normalizing a Quantum State Codercise I.1.1\r\n",
    "\r\n",
    "### Explanation\r\n",
    "\r\n",
    "1. **Imports**:\r\n",
    "   - The code imports `pennylane` as `qml` and `numpy` from `pennylane` as `np`.\r\n",
    "\r\n",
    "2. **Basis States**:\r\n",
    "   - The vector representations of the basis states \\(|0\\rangle\\) and \\(|1\\rangle\\) are defined for convenience.\r\n",
    "\r\n",
    "3. **Normalization Function**:\r\n",
    "   - The function `normalize_state(alpha, beta)` computes a normalized quantum state given arbitrary amplitudes `alpha` and `beta`.\r\n",
    "   - It calculates the length (norm) of the state vector using the formula:\r\n",
    "     \\[\r\n",
    "     \\text{length} = \\sqrt{| \\alpha |^2 + | \\beta |^2}\r\n",
    "     \\]\r\n",
    "   - The state vector is then normalized by dividing each amplitude by the length, ensuring the resulting vector has a norm of 1."
   ]
  },
  {
   "cell_type": "markdown",
   "metadata": {},
   "source": [
    "### **Codercise I.1.2**"
   ]
  },
  {
   "cell_type": "code",
   "execution_count": 2,
   "metadata": {},
   "outputs": [
    {
     "name": "stdout",
     "output_type": "stream",
     "text": [
      "<0|0> = 1\n",
      "<0|1> = 0\n",
      "<1|0> = 0\n",
      "<1|1> = 1\n"
     ]
    }
   ],
   "source": [
    "def inner_product(state_1, state_2):\n",
    "    \"\"\"Compute the inner product between two states.\n",
    "\n",
    "    Args:\n",
    "        state_1 (np.array[complex]): A normalized quantum state vector\n",
    "        state_2 (np.array[complex]): A second normalized quantum state vector\n",
    "\n",
    "    Returns:\n",
    "        complex: The value of the inner product <state_1 | state_2>.\n",
    "    \"\"\"\n",
    "\n",
    "    ##################\n",
    "    inner = np.inner(np.conj(state_1),state_2)\n",
    "    ##################\n",
    "\n",
    "    # COMPUTE AND RETURN THE INNER PRODUCT\n",
    "\n",
    "    return inner\n",
    "\n",
    "\n",
    "# Test your results with this code\n",
    "ket_0 = np.array([1, 0])\n",
    "ket_1 = np.array([0, 1])\n",
    "\n",
    "print(f\"<0|0> = {inner_product(ket_0, ket_0)}\")\n",
    "print(f\"<0|1> = {inner_product(ket_0, ket_1)}\")\n",
    "print(f\"<1|0> = {inner_product(ket_1, ket_0)}\")\n",
    "print(f\"<1|1> = {inner_product(ket_1, ket_1)}\")"
   ]
  },
  {
   "cell_type": "markdown",
   "metadata": {},
   "source": [
    "## Computing the Inner Product of Quantum States Codercise I.1.2\r\n",
    "\r\n",
    "### Summary\r\n",
    "\r\n",
    "1. **Function Definition**:\r\n",
    "   - The function `inner_product(state_1, state_2)` computes the inner product between two normalized quantum state vectors.\r\n",
    "\r\n",
    "2. **Arguments**:\r\n",
    "   - `state_1`: A normalized quantum state vector (numpy array of complex numbers).\r\n",
    "   - `state_2`: Another normalized quantum state vector (numpy array of complex numbers).\r\n",
    "\r\n",
    "3. **Inner Product Calculation**:\r\n",
    "   - The inner product is calculated using the formula:\r\n",
    "     \\[\r\n",
    "     \\langle \\text{state\\_1} | \\text{state\\_2} \\rangle = \\text{np.inner(np.conj(state\\_1), state\\_2)}\r\n",
    "     \\]\r\n",
    "   - `np.conj(state_1)` computes the complex conjugate of `state_1`.\r\n",
    "   - `np.inner` computes the inner product of the conjugate of `state_1` and `state_2`.\r\n",
    "\r\n",
    "4. **Return Value**:\r\n",
    "   - The function returns the computed inner product, which is a complex number.\r\n",
    "\r\n",
    "5. **Testing the Function**:\r\n",
    "   - The code tests the `inner_product` function with the basis states \\(|0\\rangle\\) and \\(|1\\rangle\\).\r\n",
    "   - It prints the inner products \\(\\langle 0 | 0 \\rangle\\), \\(\\langle 0 | 1 \\rangle\\), \\(\\langle 1 | 0 \\rangle\\), and \\(\\langle 1 | 1 \\rangle\\)."
   ]
  },
  {
   "cell_type": "markdown",
   "metadata": {},
   "source": [
    "### **Codercise I.1.3**"
   ]
  },
  {
   "cell_type": "code",
   "execution_count": 3,
   "metadata": {},
   "outputs": [],
   "source": [
    "def measure_state(state, num_meas):\n",
    "    \"\"\"Simulate a quantum measurement process.\n",
    "\n",
    "    Args:\n",
    "        state (np.array[complex]): A normalized qubit state vector.\n",
    "        num_meas (int): The number of measurements to take\n",
    "\n",
    "    Returns:\n",
    "        np.array[int]: A set of num_meas samples, 0 or 1, chosen according to the probability\n",
    "        distribution defined by the input state.\n",
    "    \"\"\"\n",
    "\n",
    "    ##################\n",
    "    measures = []\n",
    "    probabilities = [(state[0] * np.conj(state[0])).real, (state[1] * np.conj(state[1])).real]\n",
    "    for i in range(num_meas):\n",
    "        measure = np.random.choice([0, 1], p=probabilities)\n",
    "        measures.append(measure)\n",
    "    ##################\n",
    "\n",
    "    # COMPUTE THE MEASUREMENT OUTCOME PROBABILITIES\n",
    "\n",
    "    # RETURN A LIST OF SAMPLE MEASUREMENT OUTCOMES\n",
    "\n",
    "    return np.array(measures)\n"
   ]
  },
  {
   "cell_type": "markdown",
   "metadata": {},
   "source": [
    "## Simulating Quantum Measurements Codercise I.1.3\r\n",
    "\r\n",
    "### Summary\r\n",
    "\r\n",
    "1. **Function Definition**:\r\n",
    "   - The function `measure_state(state, num_meas)` simulates a quantum measurement process.\r\n",
    "\r\n",
    "2. **Arguments**:\r\n",
    "   - `state`: A normalized qubit state vector (numpy array of complex numbers).\r\n",
    "   - `num_meas`: The number of measurements to take.\r\n",
    "\r\n",
    "3. **Measurement Process**:\r\n",
    "   - **Probabilities Calculation**:\r\n",
    "     - The probabilities of measuring the qubit in the \\(|0\\rangle\\) and \\(|1\\rangle\\) states are calculated.\r\n",
    "     - The probability of measuring \\(|0\\rangle\\) is given by \\(|\\alpha|^2\\), where \\(\\alpha\\) is the amplitude of the \\(|0\\rangle\\) state.\r\n",
    "     - The probability of measuring \\(|1\\rangle\\) is given by \\(|\\beta|^2\\), where \\(\\beta\\) is the amplitude of the \\(|1\\rangle\\) state.\r\n",
    "     - These probabilities are computed as:\r\n",
    "       \\[\r\n",
    "       \\text{probabilities} = [(\\text{state}[0] \\cdot \\text{np.conj(state[0])}).\\text{real}, (\\text{state}[1] \\cdot \\text{np.conj(state[1])}).\\text{real}]\r\n",
    "       \\]\r\n",
    "\r\n",
    "   - **Measurement Simulation**:\r\n",
    "     - A loop runs `num_meas` times to simulate the measurement process.\r\n",
    "     - In each iteration, a measurement outcome (0 or 1) is chosen based on the calculated probabilities using `np.random.choice`.\r\n",
    "     - The chosen measurement outcome is appended to the `measures` list.\r\n",
    "\r\n",
    "4. **Return Value**:\r\n",
    "   - The function returns a numpy array of the measurement outcomes."
   ]
  },
  {
   "cell_type": "markdown",
   "metadata": {},
   "source": [
    "### **Codercise I.1.4**"
   ]
  },
  {
   "cell_type": "code",
   "execution_count": 4,
   "metadata": {},
   "outputs": [],
   "source": [
    "U = np.array([[1, 1], [1, -1]]) / np.sqrt(2)\n",
    "\n",
    "\n",
    "def apply_u(state):\n",
    "    \"\"\"Apply a quantum operation.\n",
    "\n",
    "    Args:\n",
    "        state (np.array[complex]): A normalized quantum state vector.\n",
    "\n",
    "    Returns:\n",
    "        np.array[complex]: The output state after applying U.\n",
    "    \"\"\"\n",
    "\n",
    "    ##################\n",
    "    new_state = U.dot(state)\n",
    "    ##################\n",
    "\n",
    "    # APPLY U TO THE INPUT STATE AND RETURN THE NEW STATE\n",
    "    return new_state\n"
   ]
  },
  {
   "cell_type": "markdown",
   "metadata": {},
   "source": [
    "### Summary Codercise I.1.4\n",
    "\n",
    "The code defines a unitary matrix \\( U \\) and a function `apply_u` that applies this matrix to a given quantum state vector. The function takes a normalized quantum state as input, applies the matrix \\( U \\) to it, and returns the resulting state. This demonstrates how to perform a basic quantum operation using matrix multiplication.\r\n"
   ]
  },
  {
   "cell_type": "markdown",
   "metadata": {},
   "source": [
    "### **Codercise I.1.5**"
   ]
  },
  {
   "cell_type": "code",
   "execution_count": 5,
   "metadata": {},
   "outputs": [],
   "source": [
    "U = np.array([[1, 1], [1, -1]]) / np.sqrt(2)\n",
    "\n",
    "\n",
    "def initialize_state():\n",
    "    \"\"\"Prepare a qubit in state |0>.\n",
    "\n",
    "    Returns:\n",
    "        np.array[float]: the vector representation of state |0>.\n",
    "    \"\"\"\n",
    "\n",
    "    ##################\n",
    "    # YOUR CODE HERE #\n",
    "    ##################\n",
    "\n",
    "    # PREPARE THE STATE |0>\n",
    "    return np.array([1,0])\n",
    "\n",
    "\n",
    "def apply_u(state):\n",
    "    \"\"\"Apply a quantum operation.\"\"\"\n",
    "    return np.dot(U, state)\n",
    "\n",
    "\n",
    "def measure_state(state, num_meas):\n",
    "    \"\"\"Measure a quantum state num_meas times.\"\"\"\n",
    "    p_alpha = np.abs(state[0]) ** 2\n",
    "    p_beta = np.abs(state[1]) ** 2\n",
    "    meas_outcome = np.random.choice([0, 1], p=[p_alpha, p_beta], size=num_meas)\n",
    "    return meas_outcome\n",
    "\n",
    "\n",
    "def quantum_algorithm():\n",
    "    \"\"\"Use the functions above to implement the quantum algorithm described above.\n",
    "\n",
    "    Try and do so using three lines of code or less!\n",
    "\n",
    "    Returns:\n",
    "        np.array[int]: the measurement results after running the algorithm 100 times\n",
    "    \"\"\"\n",
    "\n",
    "    ##################\n",
    "    state = initialize_state()\n",
    "    new_state = apply_u(state)\n",
    "    measures = measure_state(new_state,100)\n",
    "    ##################\n",
    "\n",
    "    # PREPARE THE STATE, APPLY U, THEN TAKE 100 MEASUREMENT SAMPLES\n",
    "    return measures\n"
   ]
  },
  {
   "cell_type": "markdown",
   "metadata": {},
   "source": [
    "### Summary Codercise I.1.5\n",
    "\n",
    "The code defines a unitary matrix \\( U \\) and several functions to implement a simple quantum algorithm. It initializes a quantum state, applies the unitary operation, and measures the state multiple times. The main function, `quantum_algorithm`, combines these steps to run the algorithm and return the measurement results after 100 trials.\r\n"
   ]
  },
  {
   "cell_type": "markdown",
   "metadata": {},
   "source": [
    "# **Quantum Circuits**"
   ]
  },
  {
   "cell_type": "markdown",
   "metadata": {},
   "source": [
    "### **Codercise I.2.1**"
   ]
  },
  {
   "cell_type": "code",
   "execution_count": 6,
   "metadata": {},
   "outputs": [],
   "source": [
    "def my_circuit(theta, phi):\n",
    "    ##################\n",
    "    qml.CNOT(wires=[0, 1])\n",
    "    qml.RX(theta, wires=2)\n",
    "    qml.Hadamard(wires=0)\n",
    "    qml.CNOT(wires=[2, 0])\n",
    "    qml.RY(phi, wires=1)\n",
    "    ##################\n",
    "\n",
    "    # REORDER THESE 5 GATES TO MATCH THE CIRCUIT IN THE PICTURE\n",
    "\n",
    "\n",
    "    # This is the measurement; we return the probabilities of all possible output states\n",
    "    # You'll learn more about what types of measurements are available in a later node\n",
    "    return qml.probs(wires=[0, 1, 2])\n"
   ]
  },
  {
   "cell_type": "markdown",
   "metadata": {},
   "source": [
    "## Summary Codercise I.2.1 \n",
    "This function `my_circuit` builds a quantum circuit using five quantum gates and returns the probability distribution of the output states. The gates include CNOT, RX, Hadamard, and RY, applied in a specific sequence to qubits 0, 1, and 2. The parameters `theta` and `phi` control the angles for the RX and RY gates, respectively. The final output of the function is a set of probabilities for all possible states of the qubits.\r\n"
   ]
  },
  {
   "cell_type": "markdown",
   "metadata": {},
   "source": [
    "### **Codercise I.2.2**"
   ]
  },
  {
   "cell_type": "code",
   "execution_count": 7,
   "metadata": {},
   "outputs": [
    {
     "data": {
      "text/plain": [
       "tensor([9.87560268e-01, 0.00000000e+00, 0.00000000e+00, 2.47302134e-03,\n",
       "        2.48960206e-05, 0.00000000e+00, 0.00000000e+00, 9.94181506e-03], requires_grad=True)"
      ]
     },
     "execution_count": 7,
     "metadata": {},
     "output_type": "execute_result"
    }
   ],
   "source": [
    "# This creates a device with three wires on which PennyLane can run computations\n",
    "dev = qml.device(\"default.qubit\", wires=3)\n",
    "\n",
    "\n",
    "def my_circuit(theta, phi, omega):\n",
    "\n",
    "    ##################\n",
    "    qml.RX(theta, wires = 0)\n",
    "    qml.RY(phi, wires = 1)\n",
    "    qml.RZ(omega, wires = 2)\n",
    "    qml.CNOT(wires=[0, 1])\n",
    "    qml.CNOT(wires=[1, 2])\n",
    "    qml.CNOT(wires=[2, 0])\n",
    "    ##################\n",
    "\n",
    "    # IMPLEMENT THE CIRCUIT BY ADDING THE GATES\n",
    "\n",
    "    # Here are two examples, so you can see the format:\n",
    "    # qml.CNOT(wires=[0, 1])\n",
    "    # qml.RX(theta, wires=0)\n",
    "\n",
    "    return qml.probs(wires=[0, 1, 2])\n",
    "\n",
    "\n",
    "# This creates a QNode, binding the function and device\n",
    "my_qnode = qml.QNode(my_circuit, dev)\n",
    "\n",
    "# We set up some values for the input parameters\n",
    "theta, phi, omega = 0.1, 0.2, 0.3\n",
    "\n",
    "# Now we can execute the QNode by calling it like we would a regular function\n",
    "my_qnode(theta, phi, omega)"
   ]
  },
  {
   "cell_type": "markdown",
   "metadata": {},
   "source": [
    "### Summary Codercise I.2.2\n",
    "\n",
    "This code sets up and runs a quantum circuit on a three-wire device using PennyLane. Key components include:\n",
    "\n",
    "- **Device Initialization**: A quantum device with three wires is initialized using `qml.device`.\n",
    "- **Circuit Definition**: The `my_circuit` function is defined, taking three parameters (`theta`, `phi`, `omega`), and applies the following gates:\n",
    "  - `RX` rotation on wire 0\n",
    "  - `RY` rotation on wire 1\n",
    "  - `RZ` rotation on wire 2\n",
    "  - Three CNOT gates between wires 0-1, 1-2, and 2-0\n",
    "- **Measurement**: The function returns the probability distribution of all possible output states of the qubits.\n",
    "- **QNode Creation**: The function `my_circuit` is bound to the device `dev` using `qml.QNode`.\n",
    "- **Execution**: The QNode is executed with specific values for `theta`, `phi`, and `omega` (0.1, 0.2, 0.3).\n",
    "\n",
    "This setup demonstrates how to create and run a quantum circuit, measure output probabilities, and execute the circuit with given input parameters.\n"
   ]
  },
  {
   "cell_type": "markdown",
   "metadata": {},
   "source": [
    "### **Codercise I.2.3**"
   ]
  },
  {
   "cell_type": "code",
   "execution_count": 8,
   "metadata": {},
   "outputs": [
    {
     "data": {
      "text/plain": [
       "tensor([9.87560268e-01, 0.00000000e+00, 0.00000000e+00, 2.47302134e-03,\n",
       "        2.48960206e-05, 0.00000000e+00, 0.00000000e+00, 9.94181506e-03], requires_grad=True)"
      ]
     },
     "execution_count": 8,
     "metadata": {},
     "output_type": "execute_result"
    }
   ],
   "source": [
    "dev = qml.device(\"default.qubit\", wires=3)\n",
    "\n",
    "##################\n",
    "# YOUR CODE HERE #\n",
    "##################\n",
    "\n",
    "# DECORATE THE FUNCTION BELOW TO TURN IT INTO A QNODE\n",
    "\n",
    "@qml.qnode(dev)\n",
    "def my_circuit(theta, phi, omega):\n",
    "    qml.RX(theta, wires=0)\n",
    "    qml.RY(phi, wires=1)\n",
    "    qml.RZ(omega, wires=2)\n",
    "    qml.CNOT(wires=[0, 1])\n",
    "    qml.CNOT(wires=[1, 2])\n",
    "    qml.CNOT(wires=[2, 0])\n",
    "    return qml.probs(wires=[0, 1, 2])\n",
    "\n",
    "\n",
    "theta, phi, omega = 0.1, 0.2, 0.3\n",
    "\n",
    "##################\n",
    "my_circuit(theta, phi, omega)\n",
    "##################\n",
    "\n",
    "# RUN THE QNODE WITH THE PROVIDED PARAMETERS"
   ]
  },
  {
   "cell_type": "markdown",
   "metadata": {},
   "source": [
    "### Summary Codercise I.2.3\n",
    "\n",
    "**Device Initialization**: A quantum device with three wires is initialized using `qml.device`.\r\n",
    "\r\n",
    "**QNode Creation**: The `my_circuit` function is decorated with `@qml.qnode(dev)` to turn it into a QNode.\r\n",
    "\r\n",
    "**Circuit Definition**: The `my_circuit` function applies the following gates:\r\n",
    "- `RX` rotation on wire 0\r\n",
    "- `RY` rotation on wire 1\r\n",
    "- `RZ` rotation on wire 2\r\n",
    "- Three `CNOT` gates between wires 0-1, 1-2, and 2-0\r\n",
    "\r\n",
    "**Measurement**: The function returns the probability distribution of all possible output states of the qubits.\r\n",
    "\r\n",
    "**Execution**: The QNode is executed with specific values for `theta`, `phi`, and `omega` (0.1, 0.2, 0.3).\r\n",
    "\r\n",
    "This setup demonstrates how to create and run a quantum circuit, measure output probabilities, and execute the circuit with given input parameters.\r\n"
   ]
  },
  {
   "cell_type": "markdown",
   "metadata": {},
   "source": [
    "### **Codercise I.2.4**"
   ]
  },
  {
   "cell_type": "code",
   "execution_count": 9,
   "metadata": {},
   "outputs": [],
   "source": [
    "dev = qml.device(\"default.qubit\", wires=3)\n",
    "\n",
    "\n",
    "@qml.qnode(dev)\n",
    "def my_circuit(theta, phi, omega):\n",
    "    qml.RX(theta, wires=0)\n",
    "    qml.RY(phi, wires=1)\n",
    "    qml.RZ(omega, wires=2)\n",
    "    qml.CNOT(wires=[0, 1])\n",
    "    qml.CNOT(wires=[1, 2])\n",
    "    qml.CNOT(wires=[2, 0])\n",
    "    return qml.probs(wires=[0, 1, 2])\n",
    "\n",
    "\n",
    "##################\n",
    "# YOUR CODE HERE #\n",
    "##################\n",
    "\n",
    "# FILL IN THE CORRECT CIRCUIT DEPTH\n",
    "depth = 4"
   ]
  },
  {
   "cell_type": "markdown",
   "metadata": {},
   "source": [
    "### Summary Codercise I.2.4\n",
    "\n",
    "1. **Device Initialization**: A quantum device with three wires is initialized using `qml.device`.\r\n",
    "2. **QNode Creation**: The `my_circuit` function is decorated with `@qml.qnode(dev)` to create a QNode.\r\n",
    "3. **Circuit Definition**: The `my_circuit` function applies:\r\n",
    "   - `RX` rotation on wire 0\r\n",
    "   - `RY` rotation on wire 1\r\n",
    "   - `RZ` rotation on wire 2\r\n",
    "   - Three `CNOT` gates between wires 0-1, 1-2, and 2-0\r\n",
    "4. **Measurement**: The function returns the probability distribution of all possible output states of the qubits.\r\n",
    "5. **Execution**: The QNode is executed with specific values for `theta`, `phi`, and `omega` (0.1, 0.2, 0.3).\r\n",
    "\r\n",
    "The circuit depth is set to 4.\r\n"
   ]
  },
  {
   "cell_type": "markdown",
   "metadata": {},
   "source": [
    "# **Unitary Matrices**"
   ]
  },
  {
   "cell_type": "markdown",
   "metadata": {},
   "source": [
    "### **Codercise I.3.1**"
   ]
  },
  {
   "cell_type": "code",
   "execution_count": 10,
   "metadata": {},
   "outputs": [],
   "source": [
    "dev = qml.device(\"default.qubit\", wires=1)\n",
    "\n",
    "U = np.array([[1, 1], [1, -1]]) / np.sqrt(2)\n",
    "\n",
    "\n",
    "@qml.qnode(dev)\n",
    "def apply_u():\n",
    "\n",
    "    ##################\n",
    "    qml.QubitUnitary(U, wires=0)\n",
    "    ##################\n",
    "\n",
    "    # USE QubitUnitary TO APPLY U TO THE QUBIT\n",
    "\n",
    "    # Return the state\n",
    "    return qml.state()\n"
   ]
  },
  {
   "cell_type": "markdown",
   "metadata": {},
   "source": [
    "### Quantum Circuit with Unitary Operation Codercise I.3.1\n",
    "\n",
    "### Summary\n",
    "\n",
    "- **Device Initialization**: A single qubit device is initialized using `qml.device`.\r\n",
    "- **Unitary Matrix Definition**: A 2x2 unitary matrix `U` is defined as `[[1, 1], [1, -1]] / np.sqrt(2)`.\r\n",
    "- **Quantum Node (qnode)**: The `apply_u` function is decorated with `@qml.qnode(dev)`, indicating that it is a quantum node associated with the specified device.\r\n",
    "- **Unitary Operation**: Within the function, the `qml.QubitUnitary` operation is used to apply the unitary matrix `U` to the qubit.\r\n",
    "- **Quantum State Vector**: The function returns the quantum state vector after applying the unitary matrix.\r\n"
   ]
  },
  {
   "cell_type": "markdown",
   "metadata": {},
   "source": [
    "### **Codercise I.3.2**"
   ]
  },
  {
   "cell_type": "code",
   "execution_count": 11,
   "metadata": {},
   "outputs": [],
   "source": [
    "dev = qml.device(\"default.qubit\", wires=1)\n",
    "\n",
    "\n",
    "@qml.qnode(dev)\n",
    "def apply_u_as_rot(phi, theta, omega):\n",
    "\n",
    "    ##################\n",
    "    state = qml.Rot(phi, theta, omega, wires=0)\n",
    "    ##################\n",
    "\n",
    "    # APPLY A ROT GATE USING THE PROVIDED INPUT PARAMETERS\n",
    "\n",
    "    # RETURN THE QUANTUM STATE VECTOR\n",
    "\n",
    "    return qml.state()"
   ]
  },
  {
   "cell_type": "markdown",
   "metadata": {},
   "source": [
    "### Quantum Circuit with Rotational Gate Codercise I.3.2\n",
    "\n",
    "### Summary\n",
    "\n",
    "- **Device Initialization**: A single qubit device is initialized using `qml.device`.\n",
    "- **Quantum Node (qnode)**: The `apply_u_as_rot` function is decorated with `@qml.qnode(dev)`, indicating that it is a quantum node associated with the specified device.\n",
    "- **Rotational Gate**: Within the function, the `qml.Rot` gate is applied to the qubit using the provided angles (`phi`, `theta`, `omega`).\n",
    "- **Quantum State Vector**: The function returns the quantum state vector after applying the gate.\n"
   ]
  }
 ],
 "metadata": {
  "kernelspec": {
   "display_name": "Python 3 (ipykernel)",
   "language": "python",
   "name": "python3"
  },
  "language_info": {
   "codemirror_mode": {
    "name": "ipython",
    "version": 3
   },
   "file_extension": ".py",
   "mimetype": "text/x-python",
   "name": "python",
   "nbconvert_exporter": "python",
   "pygments_lexer": "ipython3",
   "version": "3.11.7"
  }
 },
 "nbformat": 4,
 "nbformat_minor": 4
}
