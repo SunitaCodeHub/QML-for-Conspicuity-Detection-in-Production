{
 "cells": [
  {
   "cell_type": "markdown",
   "metadata": {},
   "source": [
    "## TEAM NAME: QUANTUM ENTANGLERS\n",
    "\n",
    "### Team Members\n",
    "\n",
    "**Rajana Rama Satya Sai Durga Prasad**  \n",
    "**Enrollment ID:** WQ24-UkA0PEQyOfbIQTn  \n",
    "**Email:** rajanasatyasai@gmail.com\n",
    "\n",
    "**Sunita**  \n",
    "**Enrollment ID:** WQ24-kntLxdjlEEqKqC9  \n",
    "**Email:** khothsunita1508@gmail.com\n",
    "\n",
    "### Project: QML-for-Conspicuity-Detection-in-Production\n"
   ]
  },
  {
   "cell_type": "markdown",
   "metadata": {},
   "source": [
    "# **X and H**\n",
    "\n",
    "### **Codercise I.4.1**"
   ]
  },
  {
   "cell_type": "code",
   "execution_count": 1,
   "metadata": {},
   "outputs": [],
   "source": [
    "import pennylane as qml\n",
    "from pennylane import numpy as np\n",
    "\n",
    "dev = qml.device(\"default.qubit\", wires=1)\n",
    "\n",
    "U = np.array([[1, 1], [1, -1]]) / np.sqrt(2)\n",
    "\n",
    "\n",
    "@qml.qnode(dev)\n",
    "def varied_initial_state(state):\n",
    "    \"\"\"Complete the function such that we can apply the operation U to\n",
    "    either |0> or |1> depending on the input argument flag.\n",
    "\n",
    "    Args:\n",
    "        state (int): Either 0 or 1. If 1, prepare the qubit in state |1>,\n",
    "            otherwise, leave it in state 0.\n",
    "\n",
    "    Returns:\n",
    "        np.array[complex]: The state of the qubit after the operations.\n",
    "    \"\"\"\n",
    "    ##################\n",
    "    if state == 1:\n",
    "        qml.PauliX(0)\n",
    "    qml.QubitUnitary(U,0)\n",
    "    ##################\n",
    "\n",
    "    # KEEP THE QUBIT IN |0> OR CHANGE IT TO |1> DEPENDING ON THE state PARAMETER\n",
    "\n",
    "    # APPLY U TO THE STATE\n",
    "\n",
    "    return qml.state()\n"
   ]
  },
  {
   "cell_type": "markdown",
   "metadata": {},
   "source": [
    "### Summary of the Code Explanation Codercise I.4.1\r\n",
    "\r\n",
    "This code defines a quantum circuit using PennyLane:\r\n",
    "\r\n",
    "- **Libraries**: Imports `pennylane` and `numpy`.\r\n",
    "- **Device Initialization**: Sets up a quantum device with one qubit.\r\n",
    "- **Unitary Matrix**: Defines a Hadamard gate.\r\n",
    "- **Quantum Node**: Creates a quantum node (qnode).\r\n",
    "- **State Preparation and Operation**: Prepares the qubit state and applies the Hadamard gate.\r\n",
    "- **Return State**: Outputs the final state of the qubit.\r\n",
    "e qubit."
   ]
  },
  {
   "cell_type": "markdown",
   "metadata": {},
   "source": [
    "### **Codercise I.4.2**"
   ]
  },
  {
   "cell_type": "code",
   "execution_count": 2,
   "metadata": {},
   "outputs": [],
   "source": [
    "dev = qml.device(\"default.qubit\", wires=1)\n",
    "\n",
    "\n",
    "@qml.qnode(dev)\n",
    "def apply_hadamard():\n",
    "    ##################\n",
    "    qml.Hadamard(0)\n",
    "    ##################\n",
    "\n",
    "    # APPLY THE HADAMARD GATE\n",
    "\n",
    "    # RETURN THE STATE\n",
    "    return qml.state()\n"
   ]
  },
  {
   "cell_type": "markdown",
   "metadata": {},
   "source": [
    "### Summary of the Code Explanation Codercise I.4.2\r\n",
    "\r\n",
    "This code sets up a quantum device with one qubit and defines a quantum node that applies a Hadamard gate to the qubit. The final state of the qubit is then returned.\r\n"
   ]
  },
  {
   "cell_type": "markdown",
   "metadata": {},
   "source": [
    "### **Codercise I.4.3**"
   ]
  },
  {
   "cell_type": "code",
   "execution_count": 3,
   "metadata": {},
   "outputs": [
    {
     "name": "stdout",
     "output_type": "stream",
     "text": [
      "[0.70710678+0.j 0.70710678+0.j]\n",
      "[ 0.70710678+0.j -0.70710678+0.j]\n"
     ]
    }
   ],
   "source": [
    "dev = qml.device(\"default.qubit\", wires=1)\n",
    "\n",
    "\n",
    "@qml.qnode(dev)\n",
    "def apply_hadamard_to_state(state):\n",
    "    \"\"\"Complete the function such that we can apply the Hadamard to\n",
    "    either |0> or |1> depending on the input argument flag.\n",
    "\n",
    "    Args:\n",
    "        state (int): Either 0 or 1. If 1, prepare the qubit in state |1>,\n",
    "            otherwise, leave it in state 0.\n",
    "\n",
    "    Returns:\n",
    "        np.array[complex]: The state of the qubit after the operations.\n",
    "    \"\"\"\n",
    "    ##################\n",
    "    if state == 1:\n",
    "        qml.X(0)\n",
    "    qml.Hadamard(0)\n",
    "    ##################\n",
    "\n",
    "    # KEEP THE QUBIT IN |0> OR CHANGE IT TO |1> DEPENDING ON state\n",
    "\n",
    "    # APPLY THE HADAMARD\n",
    "\n",
    "    # RETURN THE STATE\n",
    "\n",
    "    return qml.state()\n",
    "\n",
    "\n",
    "print(apply_hadamard_to_state(0))\n",
    "print(apply_hadamard_to_state(1))\n"
   ]
  },
  {
   "cell_type": "markdown",
   "metadata": {},
   "source": [
    "### Summary of the Code Explanation Codercise I.4.3\r\n",
    "\r\n",
    "This code sets up a quantum device with one qubit and defines a quantum node that applies a Hadamard gate to the qubit. Depending on the input argument `state`, the qubit is prepared in either the \\(|0\\rangle\\) or \\(|1\\rangle\\) state before applying the Hadamard gate. The final state of the qubit is then returned and printed for both cases.\r\n"
   ]
  },
  {
   "cell_type": "markdown",
   "metadata": {},
   "source": [
    "### **Codercise I.4.4**"
   ]
  },
  {
   "cell_type": "code",
   "execution_count": 4,
   "metadata": {},
   "outputs": [
    {
     "name": "stdout",
     "output_type": "stream",
     "text": [
      "[1.+0.j 0.+0.j]\n",
      "[ 0.+0.j -1.+0.j]\n"
     ]
    }
   ],
   "source": [
    "##################\n",
    "\n",
    "dev = qml.device(\"default.qubit\", wires=1)\n",
    "\n",
    "@qml.qnode(dev)\n",
    "def apply_hxh(state):\n",
    "    if state == 1:\n",
    "        qml.X(0)\n",
    "\n",
    "    \n",
    "    qml.Hadamard(0)\n",
    "    qml.X(0)\n",
    "    qml.Hadamard(0)\n",
    "    return qml.state()\n",
    "\n",
    "\n",
    "##################\n",
    "\n",
    "# CREATE A DEVICE\n",
    "\n",
    "# CREATE A QNODE CALLED apply_hxh THAT APPLIES THE CIRCUIT ABOVE\n",
    "\n",
    "\n",
    "# Print your results\n",
    "print(apply_hxh(0))\n",
    "print(apply_hxh(1))\n"
   ]
  },
  {
   "cell_type": "markdown",
   "metadata": {},
   "source": [
    "### Summary of the Code Explanation Codercise I.4.4\n",
    "\n",
    "This code sets up a quantum device with one qubit and defines a quantum node that applies a sequence of quantum gates to the qubit. Depending on the input argument `state`, the qubit is prepared in either the \\(|0\\rangle\\) or \\(|1\\rangle\\) state before applying the sequence of gates. The sequence includes a Hadamard gate, a Pauli-X gate, and another Hadamard gate. The final state of the qubit is then returned and printed for both cases.\n"
   ]
  },
  {
   "cell_type": "markdown",
   "metadata": {},
   "source": [
    "# **It's Just a Phase**"
   ]
  },
  {
   "cell_type": "markdown",
   "metadata": {},
   "source": [
    "### **Codercise I.5.1**"
   ]
  },
  {
   "cell_type": "code",
   "execution_count": 5,
   "metadata": {},
   "outputs": [
    {
     "name": "stdout",
     "output_type": "stream",
     "text": [
      "[ 0.70710678+0.j -0.70710678+0.j]\n"
     ]
    }
   ],
   "source": [
    "dev = qml.device(\"default.qubit\", wires=1)\n",
    "\n",
    "\n",
    "@qml.qnode(dev)\n",
    "def apply_z_to_plus():\n",
    "    \"\"\"Write a circuit that applies PauliZ to the |+> state and returns\n",
    "    the state.\n",
    "\n",
    "    Returns:\n",
    "        np.array[complex]: The state of the qubit after the operations.\n",
    "    \"\"\"\n",
    "\n",
    "    ##################\n",
    "    qml.Hadamard(0)\n",
    "    qml.Z(0)\n",
    "    ##################\n",
    "\n",
    "    # CREATE THE |+> STATE\n",
    "\n",
    "    # APPLY PAULI Z\n",
    "\n",
    "    # RETURN THE STATE\n",
    "    return qml.state()\n",
    "\n",
    "\n",
    "print(apply_z_to_plus())"
   ]
  },
  {
   "cell_type": "markdown",
   "metadata": {},
   "source": [
    "### Summary of the Code Explanation Codercise I.5.1\r\n",
    "\r\n",
    "This code sets up a quantum device with one qubit and defines a quantum node that applies a Pauli-Z gate to the \\(|+\\rangle\\) state. The steps are as follows:\r\n",
    "\r\n",
    "1. **Device Initialization**:\r\n",
    "   - Initializes a quantum device with one qubit using the default qubit simulator.\r\n",
    "\r\n",
    "2. **Quantum Node Definition**:\r\n",
    "   - Defines a quantum node (qnode) that will run on the initialized device.\r\n",
    "\r\n",
    "3. **State Preparation and Pauli-Z Application**:\r\n",
    "   - Applies a Hadamard gate to the qubit to create the \\(|+\\rangle\\) state.\r\n",
    "   - Applies the Pauli-Z gate to the qubit.\r\n",
    "\r\n",
    "4. **Returning the Qubit State**:\r\n",
    "   - Returns the state of the qubit after the operations.\r\n",
    "\r\n",
    "The final state of the qubit ate()\r\n",
    "\r\n",
    "print(apply_z_to_plus())\r\n"
   ]
  },
  {
   "cell_type": "markdown",
   "metadata": {},
   "source": [
    "### **Codercise I.5.2**"
   ]
  },
  {
   "cell_type": "code",
   "execution_count": 6,
   "metadata": {},
   "outputs": [],
   "source": [
    "dev = qml.device(\"default.qubit\", wires=1)\n",
    "\n",
    "\n",
    "@qml.qnode(dev)\n",
    "def fake_z():\n",
    "    \"\"\"Use RZ to produce the same action as Pauli Z on the |+> state.\n",
    "\n",
    "    Returns:\n",
    "        np.array[complex]: The state of the qubit after the operations.\n",
    "    \"\"\"\n",
    "\n",
    "    ##################\n",
    "    qml.Hadamard(0)\n",
    "    qml.RZ(np.pi,0)\n",
    "    ##################\n",
    "\n",
    "    # CREATE THE |+> STATE\n",
    "\n",
    "    # APPLY RZ\n",
    "\n",
    "    # RETURN THE STATE\n",
    "    return qml.state()"
   ]
  },
  {
   "cell_type": "markdown",
   "metadata": {},
   "source": [
    "### Summary of the Code Explanation Codercise I.5.2\r\n",
    "\r\n",
    "This code sets up a quantum device with one qubit and defines a quantum node that uses the \\( RZ \\) gate to produce the same effect as the Pauli-Z gate on the \\(|+\\rangle\\) state. The steps are as follows:\r\n",
    "\r\n",
    "1. **Device Initialization**:\r\n",
    "   - Initializes a quantum device with one qubit using the default qubit simulator.\r\n",
    "\r\n",
    "2. **Quantum Node Definition**:\r\n",
    "   - Defines a quantum node (qnode) that will run on the initialized device.\r\n",
    "\r\n",
    "3. **State Preparation and \\( RZ \\) Application**:\r\n",
    "   - Applies a Hadamard gate to the qubit to create the \\(|+\\rangle\\) state.\r\n",
    "   - Applies the \\( RZ \\) gate with an angle of \\(\\pi\\) to the qubit.\r\n",
    "\r\n",
    "4. **Returning the Qubit State**:\r\n",
    "   - Returns the state of the qubit after t, 0)\r\n",
    "    return qml.state()\r\n"
   ]
  },
  {
   "cell_type": "markdown",
   "metadata": {},
   "source": [
    "### **Codercise I.5.3**"
   ]
  },
  {
   "cell_type": "code",
   "execution_count": 7,
   "metadata": {},
   "outputs": [],
   "source": [
    "dev = qml.device(\"default.qubit\", wires=1)\n",
    "\n",
    "\n",
    "@qml.qnode(dev)\n",
    "def many_rotations():\n",
    "    \"\"\"Implement the circuit depicted above and return the quantum state.\n",
    "\n",
    "    Returns:\n",
    "        np.array[complex]: The state of the qubit after the operations.\n",
    "    \"\"\"\n",
    "\n",
    "    ##################\n",
    "    qml.Hadamard(0)\n",
    "    qml.S(0)\n",
    "    qml.adjoint(qml.T)(0)\n",
    "    qml.RZ(0.3,0)\n",
    "    qml.adjoint(qml.S)(0)\n",
    "    ##################\n",
    "\n",
    "    # IMPLEMENT THE CIRCUIT\n",
    "\n",
    "    # RETURN THE STATE\n",
    "\n",
    "    return qml.state()"
   ]
  },
  {
   "cell_type": "markdown",
   "metadata": {},
   "source": [
    "### Summary of the Code Explanation Codercise I.5.3\r\n",
    "\r\n",
    "This code sets up a quantum device with one qubit and defines a quantum node that implements a series of quantum gates. The steps are as follows:\r\n",
    "\r\n",
    "1. **Device Initialization**:\r\n",
    "   - Initializes a quantum device with one qubit using the default qubit simulator.\r\n",
    "\r\n",
    "2. **Quantum Node Definition**:\r\n",
    "   - Defines a quantum node (qnode) that will run on the initialized device.\r\n",
    "\r\n",
    "3. **Circuit Implementation**:\r\n",
    "   - Applies a Hadamard gate to the qubit.\r\n",
    "   - Applies an S gate to the qubit.\r\n",
    "   - Applies the adjoint (inverse) of the T gate to the qubit.\r\n",
    "   - Applies an \\( RZ \\) gate with an angle of 0.3 to the qubit.\r\n",
    "   - Applies the adjoint (inverse) of the S gate to the qubit.\r\n",
    "\r\n",
    "4. **Returning the Qubit State**:\r\n",
    "   - Returns the state of the qubit afte(qml.S)(0)\r\n",
    "    return qml.state()\r\n"
   ]
  },
  {
   "cell_type": "markdown",
   "metadata": {},
   "source": [
    "# **From a Different Angle**"
   ]
  },
  {
   "cell_type": "markdown",
   "metadata": {},
   "source": [
    "### **Codercise I.6.1**"
   ]
  },
  {
   "cell_type": "code",
   "execution_count": 8,
   "metadata": {},
   "outputs": [
    {
     "name": "stdout",
     "output_type": "stream",
     "text": [
      "[6.123234e-17+0.j 0.000000e+00-1.j]\n",
      "[0.000000e+00-1.j 6.123234e-17+0.j]\n"
     ]
    }
   ],
   "source": [
    "dev = qml.device(\"default.qubit\", wires=1)\n",
    "\n",
    "\n",
    "@qml.qnode(dev)\n",
    "def apply_rx_pi(state):\n",
    "    \"\"\"Apply an RX gate with an angle of \\pi to a particular basis state.\n",
    "\n",
    "    Args:\n",
    "        state (int): Either 0 or 1. If 1, initialize the qubit to state |1>\n",
    "            before applying other operations.\n",
    "\n",
    "    Returns:\n",
    "        np.array[complex]: The state of the qubit after the operations.\n",
    "    \"\"\"\n",
    "    if state == 1:\n",
    "        qml.PauliX(wires=0)\n",
    "\n",
    "    ##################\n",
    "    qml.RX(np.pi,0)\n",
    "    ##################\n",
    "\n",
    "    # APPLY RX(pi) AND RETURN THE STATE\n",
    "\n",
    "    return qml.state()\n",
    "\n",
    "\n",
    "print(apply_rx_pi(0))\n",
    "print(apply_rx_pi(1))"
   ]
  },
  {
   "cell_type": "markdown",
   "metadata": {},
   "source": [
    "### Summary of the Code Explanation Codercise I.6.1\r\n",
    "\r\n",
    "This code sets up a quantum device with one qubit and defines a quantum node that applies an \\( RX \\) gate with an angle of \\(\\pi\\) to a particular basis state. The steps are as follows:\r\n",
    "\r\n",
    "1. **Device Initialization**:\r\n",
    "   - Initializes a quantum device with one qubit using the default qubit simulator.\r\n",
    "\r\n",
    "2. **Quantum Node Definition**:\r\n",
    "   - Defines a quantum node (qnode) that will run on the initialized device.\r\n",
    "\r\n",
    "3. **State Preparation and \\( RX \\) Application**:\r\n",
    "   - If the `state` argument is 1, a Pauli-X gate is applied to flip the qubit to \\(|1\\rangle\\).\r\n",
    "   - Applies an \\( RX \\) gate with an angle of \\(\\pi\\) to the qubit.\r\n",
    "\r\n",
    "4. **Returning the Qubit State**:\r\n",
    "   - Returns the state of the qubit after the operations.\r\n",
    "\r\n",
    "The final state of the qubit is then printed for both input states 0 and 1."
   ]
  },
  {
   "cell_type": "markdown",
   "metadata": {},
   "source": [
    "### **Codercise I.6.2**"
   ]
  },
  {
   "cell_type": "code",
   "execution_count": 9,
   "metadata": {},
   "outputs": [
    {
     "ename": "NameError",
     "evalue": "name 'plotter' is not defined",
     "output_type": "error",
     "traceback": [
      "\u001b[1;31m---------------------------------------------------------------------------\u001b[0m",
      "\u001b[1;31mNameError\u001b[0m                                 Traceback (most recent call last)",
      "Cell \u001b[1;32mIn[9], line 32\u001b[0m\n\u001b[0;32m     29\u001b[0m angles \u001b[38;5;241m=\u001b[39m np\u001b[38;5;241m.\u001b[39mlinspace(\u001b[38;5;241m0\u001b[39m, \u001b[38;5;241m4\u001b[39m \u001b[38;5;241m*\u001b[39m np\u001b[38;5;241m.\u001b[39mpi, \u001b[38;5;241m200\u001b[39m)\n\u001b[0;32m     30\u001b[0m output_states \u001b[38;5;241m=\u001b[39m np\u001b[38;5;241m.\u001b[39marray([apply_rx(t, \u001b[38;5;241m0\u001b[39m) \u001b[38;5;28;01mfor\u001b[39;00m t \u001b[38;5;129;01min\u001b[39;00m angles])\n\u001b[1;32m---> 32\u001b[0m plot \u001b[38;5;241m=\u001b[39m plotter(angles, output_states)\n",
      "\u001b[1;31mNameError\u001b[0m: name 'plotter' is not defined"
     ]
    }
   ],
   "source": [
    "dev = qml.device(\"default.qubit\", wires=1)\n",
    "\n",
    "\n",
    "@qml.qnode(dev)\n",
    "def apply_rx(theta, state):\n",
    "    \"\"\"Apply an RX gate with an angle of theta to a particular basis state.\n",
    "\n",
    "    Args:\n",
    "        theta (float): A rotation angle.\n",
    "        state (int): Either 0 or 1. If 1, initialize the qubit to state |1>\n",
    "            before applying other operations.\n",
    "\n",
    "    Returns:\n",
    "        np.array[complex]: The state of the qubit after the operations.\n",
    "    \"\"\"\n",
    "    if state == 1:\n",
    "        qml.PauliX(wires=0)\n",
    "\n",
    "    ##################\n",
    "    qml.RX(theta,0)\n",
    "    ##################\n",
    "\n",
    "    # APPLY RX(theta) AND RETURN THE STATE\n",
    "\n",
    "    return qml.state()\n",
    "\n",
    "\n",
    "# Code for plotting\n",
    "angles = np.linspace(0, 4 * np.pi, 200)\n",
    "output_states = np.array([apply_rx(t, 0) for t in angles])\n",
    "\n",
    "plot = plotter(angles, output_states)\n"
   ]
  },
  {
   "cell_type": "markdown",
   "metadata": {},
   "source": [
    "### Summary of the Code Explanation Codercise I.6.2\r\n",
    "\r\n",
    "This code sets up a quantum device with one qubit and defines a quantum node that applies an \\( RX \\) gate with a specified angle \\(\\theta\\) to a particular basis state. The steps are as follows:\r\n",
    "\r\n",
    "1. **Device Initialization**:\r\n",
    "   - Initializes a quantum device with one qubit using the default qubit simulator.\r\n",
    "\r\n",
    "2. **Quantum Node Definition**:\r\n",
    "   - Defines a quantum node (qnode) that will run on the initialized device.\r\n",
    "\r\n",
    "3. **State Preparation and \\( RX \\) Application**:\r\n",
    "   - If the `state` argument is 1, a Pauli-X gate is applied to flip the qubit to \\(|1\\rangle\\).\r\n",
    "   - Applies an \\( RX \\) gate with the specified angle \\(\\theta\\) to the qubit.\r\n",
    "\r\n",
    "4. **Returning the Qubit State**:\r\n",
    "   - Returns the state of the qubit after the operations.\r\n",
    "\r\n",
    "5. **Plotting**:\r\n",
    "   - Generates a range of angles and applies the \\( RX \\) gate to the qubit for each angle.\r\n",
    "   - Plots the resulting states."
   ]
  },
  {
   "cell_type": "markdown",
   "metadata": {},
   "source": [
    "<img src=\"img/Code6-2.png\">"
   ]
  },
  {
   "cell_type": "markdown",
   "metadata": {},
   "source": [
    "### **Codercise I.6.3**"
   ]
  },
  {
   "cell_type": "code",
   "execution_count": 10,
   "metadata": {},
   "outputs": [
    {
     "ename": "NameError",
     "evalue": "name 'plotter' is not defined",
     "output_type": "error",
     "traceback": [
      "\u001b[1;31m---------------------------------------------------------------------------\u001b[0m",
      "\u001b[1;31mNameError\u001b[0m                                 Traceback (most recent call last)",
      "Cell \u001b[1;32mIn[10], line 32\u001b[0m\n\u001b[0;32m     29\u001b[0m angles \u001b[38;5;241m=\u001b[39m np\u001b[38;5;241m.\u001b[39mlinspace(\u001b[38;5;241m0\u001b[39m, \u001b[38;5;241m4\u001b[39m \u001b[38;5;241m*\u001b[39m np\u001b[38;5;241m.\u001b[39mpi, \u001b[38;5;241m200\u001b[39m)\n\u001b[0;32m     30\u001b[0m output_states \u001b[38;5;241m=\u001b[39m np\u001b[38;5;241m.\u001b[39marray([apply_ry(t, \u001b[38;5;241m0\u001b[39m) \u001b[38;5;28;01mfor\u001b[39;00m t \u001b[38;5;129;01min\u001b[39;00m angles])\n\u001b[1;32m---> 32\u001b[0m plot \u001b[38;5;241m=\u001b[39m plotter(angles, output_states)\n",
      "\u001b[1;31mNameError\u001b[0m: name 'plotter' is not defined"
     ]
    }
   ],
   "source": [
    "dev = qml.device(\"default.qubit\", wires=1)\n",
    "\n",
    "\n",
    "@qml.qnode(dev)\n",
    "def apply_ry(theta, state):\n",
    "    \"\"\"Apply an RY gate with an angle of theta to a particular basis state.\n",
    "\n",
    "    Args:\n",
    "        theta (float): A rotation angle.\n",
    "        state (int): Either 0 or 1. If 1, initialize the qubit to state |1>\n",
    "            before applying other operations.\n",
    "\n",
    "    Returns:\n",
    "        np.array[complex]: The state of the qubit after the operations.\n",
    "    \"\"\"\n",
    "    if state == 1:\n",
    "        qml.PauliX(wires=0)\n",
    "\n",
    "    ##################\n",
    "    qml.RY(theta,0)\n",
    "    ##################\n",
    "\n",
    "    # APPLY RY(theta) AND RETURN THE STATE\n",
    "\n",
    "    return qml.state()\n",
    "\n",
    "\n",
    "# Code for plotting\n",
    "angles = np.linspace(0, 4 * np.pi, 200)\n",
    "output_states = np.array([apply_ry(t, 0) for t in angles])\n",
    "\n",
    "plot = plotter(angles, output_states)\n"
   ]
  },
  {
   "cell_type": "markdown",
   "metadata": {},
   "source": [
    "### Summary of the Code Explanation Codercise I.6.3\r\n",
    "\r\n",
    "This code sets up a quantum device with one qubit and defines a quantum node that applies an \\( RY \\) gate with a specified angle \\(\\theta\\) to a particular basis state. The steps are as follows:\r\n",
    "\r\n",
    "1. **Device Initialization**:\r\n",
    "   - Initializes a quantum device with one qubit using the default qubit simulator.\r\n",
    "\r\n",
    "2. **Quantum Node Definition**:\r\n",
    "   - Defines a quantum node (qnode) that will run on the initialized device.\r\n",
    "\r\n",
    "3. **State Preparation and \\( RY \\) Application**:\r\n",
    "   - If the `state` argument is 1, a Pauli-X gate is applied to flip the qubit to \\(|1\\rangle\\).\r\n",
    "   - Applies an \\( RY \\) gate with the specified angle \\(\\theta\\) to the qubit.\r\n",
    "\r\n",
    "4. **Returning the Qubit State**:\r\n",
    "   - Returns the state of the qubit after the operations.\r\n",
    "\r\n",
    "5. **Plotting**:\r\n",
    "   - Generates a range of angles and applies the \\( RY \\) gate to the qubit for each angle.\r\n",
    "   - Plots the resulting states."
   ]
  },
  {
   "cell_type": "markdown",
   "metadata": {},
   "source": [
    "<img src=\"img/Code6-3.png\">"
   ]
  },
  {
   "cell_type": "markdown",
   "metadata": {},
   "source": [
    "# **Universal Gate Sets**"
   ]
  },
  {
   "cell_type": "markdown",
   "metadata": {},
   "source": [
    "### **Codercise I.7.1**"
   ]
  },
  {
   "cell_type": "code",
   "execution_count": 11,
   "metadata": {},
   "outputs": [],
   "source": [
    "dev = qml.device(\"default.qubit\", wires=1)\n",
    "\n",
    "##################\n",
    "# YOUR CODE HERE #\n",
    "##################\n",
    "\n",
    "# ADJUST THE VALUES OF PHI, THETA, AND OMEGA\n",
    "phi, theta, omega =  np.pi/2, np.pi/2, np.pi/2\n",
    "\n",
    "\n",
    "@qml.qnode(dev)\n",
    "def hadamard_with_rz_rx():\n",
    "    qml.RZ(phi, wires=0)\n",
    "    qml.RX(theta, wires=0)\n",
    "    qml.RZ(omega, wires=0)\n",
    "    return qml.state()"
   ]
  },
  {
   "cell_type": "markdown",
   "metadata": {},
   "source": [
    "### Summary of the Code Explanation Codercise I.7.1\r\n",
    "\r\n",
    "This code sets up a quantum device with one qubit and defines a quantum node that applies a sequence of \\( RZ \\) and \\( RX \\) gates with specified angles \\(\\phi\\), \\(\\theta\\), and \\(\\omega\\). The steps are as follows:\r\n",
    "\r\n",
    "1. **Device Initialization**:\r\n",
    "   - Initializes a quantum device with one qubit using the default qubit simulator.\r\n",
    "\r\n",
    "2. **Angle Definitions**:\r\n",
    "   - Sets the values of \\(\\phi\\), \\(\\theta\\), and \\(\\omega\\) to \\(\\pi/2\\).\r\n",
    "\r\n",
    "3. **Quantum Node Definition**:\r\n",
    "   - Defines a quantum node (qnode) that will run on the initialized device.\r\n",
    "\r\n",
    "4. **Gate Applications**:\r\n",
    "   - Applies an \\( RZ \\) gate with angle \\(\\phi\\) to the qubit.\r\n",
    "   - Applies an \\( RX \\) gate with angle \\(\\theta\\) to the qubit.\r\n",
    "   - Applies another \\( RZ \\) gate with angle \\(\\omega\\) to the qubit.\r\n",
    "\r\n",
    "5. **Returning the Qubit State**:\r\n",
    "   - Returns the state of the qubit after the operations."
   ]
  },
  {
   "cell_type": "markdown",
   "metadata": {},
   "source": [
    "### **Codercise I.7.2**"
   ]
  },
  {
   "cell_type": "code",
   "execution_count": 12,
   "metadata": {},
   "outputs": [],
   "source": [
    "dev = qml.device(\"default.qubit\", wires=1)\n",
    "\n",
    "\n",
    "@qml.qnode(dev)\n",
    "def convert_to_rz_rx():\n",
    "    ##################\n",
    "    qml.RZ(np.pi/2, wires=0)\n",
    "    qml.RX(np.pi/2, wires=0)\n",
    "    qml.RZ(np.pi/2, wires=0)\n",
    "    \n",
    "    qml.RZ(np.pi/2, 0)\n",
    "    \n",
    "    qml.RZ(-np.pi/4, 0)\n",
    "    \n",
    "    qml.RZ(np.pi/2, 0)\n",
    "    qml.RX(np.pi, 0)\n",
    "    qml.RZ(-np.pi/2, 0)\n",
    "    \n",
    "    ##################\n",
    "\n",
    "    # IMPLEMENT THE CIRCUIT IN THE PICTURE USING ONLY RZ AND RX\n",
    "\n",
    "    return qml.state()"
   ]
  },
  {
   "cell_type": "markdown",
   "metadata": {},
   "source": [
    "### Summary of the Code Explanation Codercise I.7.2\r\n",
    "\r\n",
    "This code sets up a quantum device with one qubit and defines a quantum node that implements a series of \\( RZ \\) and \\( RX \\) gates. The steps are as follows:\r\n",
    "\r\n",
    "1. **Device Initialization**:\r\n",
    "   - Initializes a quantum device with one qubit using the default qubit simulator.\r\n",
    "\r\n",
    "2. **Quantum Node Definition**:\r\n",
    "   - Defines a quantum node (qnode) that will run on the initialized device.\r\n",
    "\r\n",
    "3. **Gate Applications**:\r\n",
    "   - Applies an \\( RZ \\) gate with an angle of \\(\\pi/2\\) to the qubit.\r\n",
    "   - Applies an \\( RX \\) gate with an angle of \\(\\pi/2\\) to the qubit.\r\n",
    "   - Applies another \\( RZ \\) gate with an angle of \\(\\pi/2\\) to the qubit.\r\n",
    "   - Applies an \\( RZ \\) gate with an angle of \\(\\pi/2\\) to the qubit.\r\n",
    "   - Applies an \\( RZ \\) gate with an angle of \\(-\\pi/4\\) to the qubit.\r\n",
    "   - Applies another \\( RZ \\) gate with an angle of \\(\\pi/2\\) to the qubit.\r\n",
    "   - Applies an \\( RX \\) gate with an angle of \\(\\pi\\) to the qubit.\r\n",
    "   - Applies a final \\( RZ \\) gate with an angle of \\(-\\pi/2\\) to the qubit.\r\n",
    "\r\n",
    "4. **Returning the Qubit State**:\r\n",
    "   - Returns the state of the qubit after the operations."
   ]
  },
  {
   "cell_type": "markdown",
   "metadata": {},
   "source": [
    "### **Codercise I.7.3**"
   ]
  },
  {
   "cell_type": "code",
   "execution_count": 13,
   "metadata": {},
   "outputs": [],
   "source": [
    "dev = qml.device(\"default.qubit\", wires=1)\n",
    "\n",
    "\n",
    "@qml.qnode(dev)\n",
    "def unitary_with_h_and_t():\n",
    "    ##################\n",
    "\n",
    "    qml.Hadamard(0)\n",
    "    qml.T(0)\n",
    "    qml.Hadamard(0)\n",
    "    qml.T(0)\n",
    "    qml.T(0)\n",
    "    qml.Hadamard(0)\n",
    "    ##################\n",
    "\n",
    "    # APPLY ONLY H AND T TO PRODUCE A CIRCUIT THAT EFFECTS THE GIVEN MATRIX\n",
    "\n",
    "    return qml.state()"
   ]
  },
  {
   "cell_type": "markdown",
   "metadata": {},
   "source": [
    "### Summary of the Code Explanation Codercise I.7.3\r\n",
    "\r\n",
    "This code sets up a quantum device with one qubit and defines a quantum node that applies a sequence of Hadamard (H) and T gates to produce a specific unitary transformation. The steps are as follows:\r\n",
    "\r\n",
    "1. **Device Initialization**:\r\n",
    "   - Initializes a quantum device with one qubit using the default qubit simulator.\r\n",
    "\r\n",
    "2. **Quantum Node Definition**:\r\n",
    "   - Defines a quantum node (qnode) that will run on the initialized device.\r\n",
    "\r\n",
    "3. **Gate Applications**:\r\n",
    "   - Applies a Hadamard gate to the qubit.\r\n",
    "   - Applies a T gate to the qubit.\r\n",
    "   - Applies another Hadamard gate to the qubit.\r\n",
    "   - Applies two consecutive T gates to the qubit.\r\n",
    "   - Applies a final Hadamard gate to the qubit.\r\n",
    "\r\n",
    "4. **Returning the Qubit State**:\r\n",
    "   - Returns the state of the qubit after the operations."
   ]
  },
  {
   "cell_type": "markdown",
   "metadata": {},
   "source": [
    "# **Prepare Yourself**"
   ]
  },
  {
   "cell_type": "markdown",
   "metadata": {},
   "source": [
    "### **Codercise I.8.1**"
   ]
  },
  {
   "cell_type": "code",
   "execution_count": 14,
   "metadata": {},
   "outputs": [],
   "source": [
    "dev = qml.device(\"default.qubit\", wires=1)\n",
    "\n",
    "\n",
    "@qml.qnode(dev)\n",
    "def prepare_state():\n",
    "    ##################\n",
    "    qml.Hadamard(0)\n",
    "    qml.S(0)\n",
    "    qml.S(0)\n",
    "    qml.T(0)\n",
    "    ##################\n",
    "\n",
    "    # APPLY OPERATIONS TO PREPARE THE TARGET STATE\n",
    "\n",
    "    return qml.state()\n"
   ]
  },
  {
   "cell_type": "markdown",
   "metadata": {},
   "source": [
    "### Summary of the Code Explanation Codercise I.8.1\n",
    "\n",
    "This code sets up a quantum device with one qubit and defines a quantum node that applies a sequence of quantum gates to prepare a specific target state. The steps are as follows:\n",
    "\n",
    "1. **Device Initialization**:\n",
    "   - Initializes a quantum device with one qubit using the default qubit simulator.\n",
    "\n",
    "2. **Quantum Node Definition**:\n",
    "   - Defines a quantum node (qnode) that will run on the initialized device.\n",
    "\n",
    "3. **Gate Applications**:\n",
    "   - Applies a Hadamard gate to the qubit.\n",
    "   - Applies two consecutive S gates to the qubit.\n",
    "   - Applies a T gate to the qubit.\n",
    "\n",
    "4. **Returning the Qubit State**:\n",
    "   - Returns the state of the qubit after the operations."
   ]
  },
  {
   "cell_type": "markdown",
   "metadata": {},
   "source": [
    "### **Codercise I.8.2**"
   ]
  },
  {
   "cell_type": "code",
   "execution_count": 15,
   "metadata": {},
   "outputs": [],
   "source": [
    "dev = qml.device(\"default.qubit\", wires=1)\n",
    "\n",
    "\n",
    "@qml.qnode(dev)\n",
    "def prepare_state():\n",
    "    ##################\n",
    "    qml.RX(np.pi/3,0)\n",
    "    ##################\n",
    "\n",
    "    # APPLY OPERATIONS TO PREPARE THE TARGET STATE\n",
    "\n",
    "    return qml.state()"
   ]
  },
  {
   "cell_type": "markdown",
   "metadata": {},
   "source": [
    "### Summary of the Code Explanation Codercise I.8.2\r\n",
    "\r\n",
    "This code sets up a quantum device with one qubit and defines a quantum node that applies an \\( RX \\) gate with an angle of \\(\\pi/3\\) to prepare a specific target state. The steps are as follows:\r\n",
    "\r\n",
    "1. **Device Initialization**:\r\n",
    "   - Initializes a quantum device with one qubit using the default qubit simulator.\r\n",
    "\r\n",
    "2. **Quantum Node Definition**:\r\n",
    "   - Defines a quantum node (qnode) that will run on the initialized device.\r\n",
    "\r\n",
    "3. **Gate Application**:\r\n",
    "   - Applies an \\( RX \\) gate with an angle of \\(\\pi/3\\) to the qubit.\r\n",
    "\r\n",
    "4. **Returning the Qubit State**:\r\n",
    "   - Returns the state of the qubit after the operation."
   ]
  },
  {
   "cell_type": "markdown",
   "metadata": {},
   "source": [
    "### **Codercise I.8.3**"
   ]
  },
  {
   "cell_type": "code",
   "execution_count": 16,
   "metadata": {},
   "outputs": [
    {
     "name": "stdout",
     "output_type": "stream",
     "text": [
      "[0.52889389-0.14956775j 0.67262317+0.49545818j]\n",
      "\n",
      "0: ──RY(1.98)──RZ(0.91)──GlobalPhase(-0.18)─┤  State\n"
     ]
    }
   ],
   "source": [
    "v = np.array([0.52889389 - 0.14956775j, 0.67262317 + 0.49545818j])\n",
    "\n",
    "##################\n",
    "dev = qml.device(\"default.qubit\", wires=1)\n",
    "\n",
    "\n",
    "\n",
    "##################\n",
    "\n",
    "# CREATE A DEVICE\n",
    "\n",
    "\n",
    "# CONSTRUCT A QNODE THAT USES qml.MottonenStatePreparation\n",
    "# TO PREPARE A QUBIT IN STATE V, AND RETURN THE STATE\n",
    "\n",
    "@qml.qnode(dev)\n",
    "def prepare_state(state=v):\n",
    "    qml.MottonenStatePreparation(state_vector=state, wires=0)\n",
    "    return qml.state()\n",
    "\n",
    "\n",
    "# This will draw the quantum circuit and allow you to inspect the output gates\n",
    "print(prepare_state(v))\n",
    "print()\n",
    "print(qml.draw(prepare_state, expansion_strategy=\"device\")(v))"
   ]
  },
  {
   "cell_type": "markdown",
   "metadata": {},
   "source": [
    "### Summary of the Code Explanation Codercise I.8.3\r\n",
    "\r\n",
    "This code sets up a quantum device with one qubit and defines a quantum node that uses the `qml.MottonenStatePreparation` function to prepare a qubit in a specified state \\( v \\). The steps are as follows:\r\n",
    "\r\n",
    "1. **State Vector Definition**:\r\n",
    "   - Defines the state vector \\( v \\) as a complex array.\r\n",
    "\r\n",
    "2. **Device Initialization**:\r\n",
    "   - Initializes a quantum device with one qubit using the default qubit simulator.\r\n",
    "\r\n",
    "3. **Quantum Node Definition**:\r\n",
    "   - Defines a quantum node (qnode) that will run on the initialized device.\r\n",
    "\r\n",
    "4. **State Preparation**:\r\n",
    "   - Uses the `qml.MottonenStatePreparation` function to prepare the qubit in the state \\( v \\).\r\n",
    "\r\n",
    "5. **Returning the Qubit State**:\r\n",
    "   - Returns the state of the qubit after the operations.\r\n",
    "\r\n",
    "6. **Printing and Drawing the Circuit**:\r\n",
    "   - Prints the prepared state.\r\n",
    "   - Draws the quantum circuit to inspect the output gates."
   ]
  },
  {
   "cell_type": "markdown",
   "metadata": {},
   "source": [
    "# **Measurements**"
   ]
  },
  {
   "cell_type": "markdown",
   "metadata": {},
   "source": [
    "### **Codercise I.9.1**"
   ]
  },
  {
   "cell_type": "code",
   "execution_count": 17,
   "metadata": {},
   "outputs": [
    {
     "name": "stdout",
     "output_type": "stream",
     "text": [
      "[0.5 0.5]\n",
      "[0.5 0.5]\n"
     ]
    }
   ],
   "source": [
    "dev = qml.device(\"default.qubit\", wires=1)\n",
    "\n",
    "\n",
    "@qml.qnode(dev)\n",
    "def apply_h_and_measure(state):\n",
    "    \"\"\"Complete the function such that we apply the Hadamard gate\n",
    "    and measure in the computational basis.\n",
    "\n",
    "    Args:\n",
    "        state (int): Either 0 or 1. If 1, prepare the qubit in state |1>,\n",
    "            otherwise leave it in state 0.\n",
    "\n",
    "    Returns:\n",
    "        np.array[float]: The measurement outcome probabilities.\n",
    "    \"\"\"\n",
    "    if state == 1:\n",
    "        qml.PauliX(wires=0)\n",
    "\n",
    "    ##################\n",
    "    qml.Hadamard(0)\n",
    "    ##################\n",
    "\n",
    "    # APPLY HADAMARD AND MEASURE\n",
    "\n",
    "    return qml.probs(wires=0)\n",
    "\n",
    "\n",
    "print(apply_h_and_measure(0))\n",
    "print(apply_h_and_measure(1))\n"
   ]
  },
  {
   "cell_type": "markdown",
   "metadata": {},
   "source": [
    "### Summary of the Code Explanation Codercise I.9.1\r\n",
    "\r\n",
    "This code sets up a quantum device with one qubit and defines a quantum node that applies a Hadamard gate and measures the qubit in the computational basis. The steps are as follows:\r\n",
    "\r\n",
    "1. **Device Initialization**:\r\n",
    "   - Initializes a quantum device with one qubit using the default qubit simulator.\r\n",
    "\r\n",
    "2. **Quantum Node Definition**:\r\n",
    "   - Defines a quantum node (qnode) that will run on the initialized device.\r\n",
    "\r\n",
    "3. **State Preparation and Hadamard Application**:\r\n",
    "   - If the `state` argument is 1, a Pauli-X gate is applied to flip the qubit to \\(|1\\rangle\\).\r\n",
    "   - Applies a Hadamard gate to the qubit.\r\n",
    "\r\n",
    "4. **Measurement**:\r\n",
    "   - Measures the qubit in the computational basis and returns the measurement outcome probabilities.\r\n",
    "\r\n",
    "5. **Printing the Results**:\r\n",
    "   - Prints the measurement outcome probabilities for both input states 0 and 1."
   ]
  },
  {
   "cell_type": "markdown",
   "metadata": {},
   "source": [
    "### **Codercise I.9.2**"
   ]
  },
  {
   "cell_type": "code",
   "execution_count": 18,
   "metadata": {},
   "outputs": [],
   "source": [
    "dev = qml.device(\"default.qubit\", wires=1)\n",
    "# WRITE A QUANTUM FUNCTION THAT PREPARES (1/2)|0> + i(sqrt(3)/2)|1>\n",
    "# @qml.qnode(dev)\n",
    "def prepare_psi():\n",
    "    v = np.array([1/2 - 0j, 0 + (np.sqrt(3)/2) * 1j])\n",
    "    qml.MottonenStatePreparation(state_vector=v, wires=0)\n",
    "\n",
    "\n",
    "# WRITE A QUANTUM FUNCTION THAT SENDS BOTH |0> TO |y_+> and |1> TO |y_->\n",
    "# @qml.qnode(dev)\n",
    "def y_basis_rotation():\n",
    "    qml.Hadamard(0)\n",
    "    qml.S(0)\n"
   ]
  },
  {
   "cell_type": "markdown",
   "metadata": {},
   "source": [
    "### Summary of the Code Explanation Codercise I.9.2\r\n",
    "\r\n",
    "This code sets up a quantum device with one qubit and defines two quantum functions:\r\n",
    "\r\n",
    "1. **Device Initialization**:\r\n",
    "   - Initializes a quantum device with one qubit using the default qubit simulator.\r\n",
    "\r\n",
    "2. **State Preparation Function**:\r\n",
    "   - Defines a quantum function `prepare_psi` that prepares the qubit in the state \\(\\frac{1}{2}|0\\rangle + i\\frac{\\sqrt{3}}{2}|1\\rangle\\) using the `qml.MottonenStatePreparation` function.\r\n",
    "\r\n",
    "3. **Y-Basis Rotation Function**:\r\n",
    "   - Defines a quantum function `y_basis_rotation` that applies a Hadamard gate followed by an S gate to the qubit. This transformation sends \\(|0\\rangle\\) to \\(|y_+\\rangle\\) and \\(|1\\rangle\\) to \\(|y_-\\rangle\\)."
   ]
  },
  {
   "cell_type": "markdown",
   "metadata": {},
   "source": [
    "### **Codercise I.9.3**"
   ]
  },
  {
   "cell_type": "code",
   "execution_count": 19,
   "metadata": {},
   "outputs": [
    {
     "name": "stdout",
     "output_type": "stream",
     "text": [
      "[0.9330127 0.0669873]\n"
     ]
    }
   ],
   "source": [
    "dev = qml.device(\"default.qubit\", wires=1)\n",
    "\n",
    "\n",
    "@qml.qnode(dev)\n",
    "def measure_in_y_basis():\n",
    "    ##################\n",
    "    prepare_psi()\n",
    "    qml.adjoint(y_basis_rotation)() \n",
    "    ##################\n",
    "\n",
    "    # PREPARE THE STATE\n",
    "\n",
    "    # PERFORM THE ROTATION BACK TO COMPUTATIONAL BASIS\n",
    "\n",
    "    # RETURN THE MEASUREMENT OUTCOME PROBABILITIES\n",
    "\n",
    "    return qml.probs(wires=0)\n",
    "\n",
    "\n",
    "print(measure_in_y_basis())\n"
   ]
  },
  {
   "cell_type": "markdown",
   "metadata": {},
   "source": [
    "### Summary of the Code Explanation Codercise I.9.3\r\n",
    "\r\n",
    "This code sets up a quantum device with one qubit and defines a quantum node that measures the qubit in the Y-basis. The steps are as follows:\r\n",
    "\r\n",
    "1. **Device Initialization**:\r\n",
    "   - Initializes a quantum device with one qubit using the default qubit simulator.\r\n",
    "\r\n",
    "2. **Quantum Node Definition**:\r\n",
    "   - Defines a quantum node (qnode) that will run on the initialized device.\r\n",
    "\r\n",
    "3. **State Preparation**:\r\n",
    "   - Calls the `prepare_psi` function to prepare the qubit in the state \\(\\frac{1}{2}|0\\rangle + i\\frac{\\sqrt{3}}{2}|1\\rangle\\).\r\n",
    "\r\n",
    "4. **Rotation to Computational Basis**:\r\n",
    "   - Applies the adjoint (inverse) of the `y_basis_rotation` function to rotate the state back to the computational basis.\r\n",
    "\r\n",
    "5. **Measurement**:\r\n",
    "   - Measures the qubit in the computational basis and returns the measurement outcome probabilities.\r\n",
    "\r\n",
    "6. **Printing the Results**:\r\n",
    "   - Prints the measurement outcome probabilities."
   ]
  },
  {
   "cell_type": "markdown",
   "metadata": {},
   "source": [
    "# **What Did You Expect?**"
   ]
  },
  {
   "cell_type": "markdown",
   "metadata": {},
   "source": [
    "### **Codercise I.10.1**\n"
   ]
  },
  {
   "cell_type": "code",
   "execution_count": 20,
   "metadata": {},
   "outputs": [
    {
     "name": "stdout",
     "output_type": "stream",
     "text": [
      "-0.7071067811865471\n"
     ]
    }
   ],
   "source": [
    "dev = qml.device(\"default.qubit\", wires=1)\n",
    "\n",
    "\n",
    "@qml.qnode(dev)\n",
    "def circuit():\n",
    "    ##################\n",
    "    qml.RX(np.pi/4, 0)\n",
    "    qml.Hadamard(0)\n",
    "    qml.PauliZ(0)\n",
    "    ##################\n",
    "\n",
    "    # IMPLEMENT THE CIRCUIT IN THE PICTURE AND MEASURE PAULI Y\n",
    "\n",
    "    return qml.expval(qml.PauliY(wires=0))\n",
    "\n",
    "\n",
    "print(circuit())"
   ]
  },
  {
   "cell_type": "markdown",
   "metadata": {},
   "source": [
    "### Summary of the Code Explanation Codercise I.10.1\r\n",
    "\r\n",
    "This code sets up a quantum device with one qubit and defines a quantum node that implements a specific quantum circuit and measures the expectation value of the Pauli-Y operator. The steps are as follows:\r\n",
    "\r\n",
    "1. **Device Initialization**:\r\n",
    "   - Initializes a quantum device with one qubit using the default qubit simulator.\r\n",
    "\r\n",
    "2. **Quantum Node Definition**:\r\n",
    "   - Defines a quantum node (qnode) that will run on the initialized device.\r\n",
    "\r\n",
    "3. **Gate Applications**:\r\n",
    "   - Applies an \\( RX \\) gate with an angle of \\(\\pi/4\\) to the qubit.\r\n",
    "   - Applies a Hadamard gate to the qubit.\r\n",
    "   - Applies a Pauli-Z gate to the qubit.\r\n",
    "\r\n",
    "4. **Measurement**:\r\n",
    "   - Measures the expectation value of the Pauli-Y operator on the qubit.\r\n",
    "\r\n",
    "5. **Printing the Result**:\r\n",
    "   - Prints the expectation value of the Pauli-Y operator."
   ]
  },
  {
   "cell_type": "markdown",
   "metadata": {},
   "source": [
    "### **Codercise I.10.2**"
   ]
  },
  {
   "cell_type": "code",
   "execution_count": 21,
   "metadata": {},
   "outputs": [
    {
     "name": "stdout",
     "output_type": "stream",
     "text": [
      "-0.70779\n",
      "[-0.706604]\n"
     ]
    }
   ],
   "source": [
    "# An array to store your results\n",
    "shot_results = []\n",
    "\n",
    "# Different numbers of shots\n",
    "shot_values = [100, 1000, 10000, 100000, 1000000]\n",
    "\n",
    "for shots in shot_values:\n",
    "    ##################\n",
    "    dev = qml.device('default.qubit', wires=1, shots=shots)\n",
    "\n",
    "    @qml.qnode(dev)\n",
    "    def circuit():\n",
    "        ##################\n",
    "        qml.RX(np.pi/4, 0)\n",
    "        qml.Hadamard(0)\n",
    "        qml.PauliZ(0)\n",
    "        ##################\n",
    "    \n",
    "        # IMPLEMENT THE CIRCUIT IN THE PICTURE AND MEASURE PAULI Y\n",
    "    \n",
    "        return qml.expval(qml.PauliY(wires=0))\n",
    "\n",
    "shot_results.append(circuit())\n",
    "print(circuit())\n",
    "    ##################\n",
    "\n",
    "    # CREATE A DEVICE, CREATE A QNODE, AND RUN IT\n",
    "\n",
    "    # STORE RESULT IN SHOT_RESULTS ARRAY\n",
    "    \n",
    "\n",
    "print(qml.math.unwrap(shot_results))"
   ]
  },
  {
   "cell_type": "markdown",
   "metadata": {},
   "source": [
    "### Summary of the Code Explanation Codercise I.10.2\r\n",
    "\r\n",
    "This code sets up a quantum device with one qubit and defines a quantum node that implements a specific quantum circuit and measures the expectation value of the Pauli-Y operator. The steps are as follows:\r\n",
    "\r\n",
    "1. **Device Initialization**:\r\n",
    "   - Initializes a quantum device with one qubit using the default qubit simulator, with varying numbers of shots.\r\n",
    "\r\n",
    "2. **Quantum Node Definition**:\r\n",
    "   - Defines a quantum node (qnode) that will run on the initialized device.\r\n",
    "\r\n",
    "3. **Gate Applications**:\r\n",
    "   - Applies an \\( RX \\) gate with an angle of \\(\\pi/4\\) to the qubit.\r\n",
    "   - Applies a Hadamard gate to the qubit.\r\n",
    "   - Applies a Pauli-Z gate to the qubit.\r\n",
    "\r\n",
    "4. **Measurement**:\r\n",
    "   - Measures the expectation value of the Pauli-Y operator on the qubit.\r\n",
    "\r\n",
    "5. **Running the Circuit**:\r\n",
    "   - Runs the circuit for different numbers of shots and stores the results in an array.\r\n",
    "\r\n",
    "6. **Printing the Results**:\r\n",
    "   - Prints the expectation value of the Pauli-Y operator for each number of shots."
   ]
  },
  {
   "cell_type": "markdown",
   "metadata": {},
   "source": [
    "### **Codercise I.10.3**"
   ]
  },
  {
   "cell_type": "code",
   "execution_count": 22,
   "metadata": {},
   "outputs": [
    {
     "name": "stdout",
     "output_type": "stream",
     "text": [
      "-0.70486\n"
     ]
    }
   ],
   "source": [
    "dev = qml.device(\"default.qubit\", wires=1, shots=100000)\n",
    "\n",
    "\n",
    "@qml.qnode(dev)\n",
    "def circuit():\n",
    "    qml.RX(np.pi / 4, wires=0)\n",
    "    qml.Hadamard(wires=0)\n",
    "    qml.PauliZ(wires=0)\n",
    "\n",
    "    ##################\n",
    "    # YOUR CODE HERE #\n",
    "    ##################\n",
    "\n",
    "    # RETURN THE MEASUREMENT SAMPLES OF THE CORRECT OBSERVABLE\n",
    "\n",
    "    return qml.sample(qml.PauliY(wires=0))\n",
    "\n",
    "\n",
    "def compute_expval_from_samples(samples):\n",
    "    \"\"\"Compute the expectation value of an observable given a set of\n",
    "    sample outputs. You can assume that there are two possible outcomes,\n",
    "    1 and -1.\n",
    "\n",
    "    Args:\n",
    "        samples (np.array[float]): 100000 samples representing the results of\n",
    "            running the above circuit.\n",
    "\n",
    "    Returns:\n",
    "        float: the expectation value computed based on samples.\n",
    "    \"\"\"\n",
    "\n",
    "    estimated_expval = 0\n",
    "\n",
    "    ##################\n",
    "    count_pos_1 = 0\n",
    "    count_neg_1 = 0\n",
    "    for number in samples:\n",
    "        if number == 1:\n",
    "            count_pos_1 += 1\n",
    "        else:\n",
    "            count_neg_1 += 1\n",
    "    estimated_expval = (1 * count_pos_1 + (-1)*count_neg_1 )/len(samples)\n",
    "    ##################\n",
    "\n",
    "    # USE THE SAMPLES TO ESTIMATE THE EXPECTATION VALUE\n",
    "\n",
    "    return estimated_expval\n",
    "\n",
    "\n",
    "samples = circuit()\n",
    "print(compute_expval_from_samples(samples))\n"
   ]
  },
  {
   "cell_type": "markdown",
   "metadata": {},
   "source": [
    "## Quantum Circuit and Expectation Value Calculation Codercise I.10.3\r\n",
    "\r\n",
    "### Summary\r\n",
    "\r\n",
    "1. **Quantum Circuit Setup**:\r\n",
    "   - A quantum device with 1 qubit and 100,000 shots is created.\r\n",
    "   - A quantum node (`qnode`) is defined with a circuit that applies:\r\n",
    "     - An RX gate with an angle of $$\\pi/4$$.\r\n",
    "     - A Hadamard gate.\r\n",
    "     - A Pauli-Z gate.\r\n",
    "   - The circuit returns measurement samples of the Pauli-Y observable.\r\n",
    "\r\n",
    "2. **Expectation Value Calculation**:\r\n",
    "   - A function `compute_expval_from_samples` calculates the expectation value from the samples.\r\n",
    "   - It counts the occurrences of 1 and -1 in the samples.\r\n",
    "   - The expectation value is computed as the average of these counts."
   ]
  },
  {
   "cell_type": "markdown",
   "metadata": {},
   "source": [
    "### **Codercise I.10.4**"
   ]
  },
  {
   "cell_type": "code",
   "execution_count": 23,
   "metadata": {},
   "outputs": [
    {
     "name": "stdout",
     "output_type": "stream",
     "text": [
      "[tensor(0.2, requires_grad=True), tensor(-0.4, requires_grad=True), tensor(-0.4, requires_grad=True), tensor(0., requires_grad=True), tensor(0.4, requires_grad=True), tensor(0., requires_grad=True), tensor(0., requires_grad=True), tensor(0., requires_grad=True), tensor(0., requires_grad=True), tensor(-0.2, requires_grad=True), tensor(-0.4, requires_grad=True), tensor(-0.4, requires_grad=True), tensor(0.4, requires_grad=True), tensor(0.2, requires_grad=True), tensor(0.2, requires_grad=True), tensor(-0.4, requires_grad=True), tensor(-0.2, requires_grad=True), tensor(0.2, requires_grad=True), tensor(0., requires_grad=True), tensor(-0.4, requires_grad=True), tensor(0.2, requires_grad=True), tensor(-0.2, requires_grad=True), tensor(-0.2, requires_grad=True), tensor(0.4, requires_grad=True), tensor(-0.6, requires_grad=True), tensor(0., requires_grad=True), tensor(0., requires_grad=True), tensor(0.6, requires_grad=True), tensor(0.2, requires_grad=True), tensor(-0.4, requires_grad=True), tensor(-0.2, requires_grad=True), tensor(0.2, requires_grad=True), tensor(-0.2, requires_grad=True), tensor(0.2, requires_grad=True), tensor(0.2, requires_grad=True), tensor(-0.2, requires_grad=True), tensor(-0.4, requires_grad=True), tensor(-0.2, requires_grad=True), tensor(0.2, requires_grad=True), tensor(0.2, requires_grad=True), tensor(0., requires_grad=True), tensor(0.2, requires_grad=True), tensor(0.6, requires_grad=True), tensor(0., requires_grad=True), tensor(0.2, requires_grad=True), tensor(0.4, requires_grad=True), tensor(0.2, requires_grad=True), tensor(0.8, requires_grad=True), tensor(0.4, requires_grad=True), tensor(0.4, requires_grad=True), tensor(0., requires_grad=True), tensor(-0.2, requires_grad=True), tensor(-0.4, requires_grad=True), tensor(-0.2, requires_grad=True), tensor(0.2, requires_grad=True), tensor(-0.2, requires_grad=True), tensor(-0.4, requires_grad=True), tensor(-0.6, requires_grad=True), tensor(-0.4, requires_grad=True), tensor(0., requires_grad=True), tensor(0.4, requires_grad=True), tensor(0., requires_grad=True), tensor(0.2, requires_grad=True), tensor(0.4, requires_grad=True), tensor(0.8, requires_grad=True), tensor(0., requires_grad=True), tensor(0., requires_grad=True), tensor(0.4, requires_grad=True), tensor(0., requires_grad=True), tensor(0.2, requires_grad=True), tensor(0., requires_grad=True), tensor(0., requires_grad=True), tensor(-0.4, requires_grad=True), tensor(-0.4, requires_grad=True), tensor(0.2, requires_grad=True), tensor(0.2, requires_grad=True), tensor(0., requires_grad=True), tensor(0.2, requires_grad=True), tensor(0., requires_grad=True), tensor(-0.6, requires_grad=True), tensor(-0.4, requires_grad=True), tensor(-0.2, requires_grad=True), tensor(0., requires_grad=True), tensor(0.2, requires_grad=True), tensor(0.6, requires_grad=True), tensor(0.2, requires_grad=True), tensor(0.2, requires_grad=True), tensor(0.2, requires_grad=True), tensor(1., requires_grad=True), tensor(-0.4, requires_grad=True), tensor(0., requires_grad=True), tensor(-0.2, requires_grad=True), tensor(0.2, requires_grad=True), tensor(0.2, requires_grad=True), tensor(0., requires_grad=True), tensor(0.2, requires_grad=True), tensor(0.4, requires_grad=True), tensor(-0.2, requires_grad=True), tensor(-0.4, requires_grad=True), tensor(-0.2, requires_grad=True)]\n",
      "[tensor(0.1, requires_grad=True), tensor(0.2, requires_grad=True), tensor(-0.1, requires_grad=True), tensor(0.2, requires_grad=True), tensor(-0.2, requires_grad=True), tensor(0.1, requires_grad=True), tensor(0.3, requires_grad=True), tensor(0.6, requires_grad=True), tensor(-0.2, requires_grad=True), tensor(0., requires_grad=True), tensor(-0.1, requires_grad=True), tensor(-0.5, requires_grad=True), tensor(0.1, requires_grad=True), tensor(0.4, requires_grad=True), tensor(-0.1, requires_grad=True), tensor(-0.1, requires_grad=True), tensor(-0.3, requires_grad=True), tensor(0., requires_grad=True), tensor(0.3, requires_grad=True), tensor(-0.3, requires_grad=True), tensor(-0.1, requires_grad=True), tensor(0.2, requires_grad=True), tensor(0., requires_grad=True), tensor(0.2, requires_grad=True), tensor(0.1, requires_grad=True), tensor(-0.3, requires_grad=True), tensor(0.3, requires_grad=True), tensor(0.1, requires_grad=True), tensor(0.2, requires_grad=True), tensor(0.2, requires_grad=True), tensor(-0.2, requires_grad=True), tensor(0.3, requires_grad=True), tensor(-0.1, requires_grad=True), tensor(-0.1, requires_grad=True), tensor(-0.2, requires_grad=True), tensor(-0.5, requires_grad=True), tensor(0.3, requires_grad=True), tensor(-0.1, requires_grad=True), tensor(0.2, requires_grad=True), tensor(0., requires_grad=True), tensor(-0.3, requires_grad=True), tensor(0., requires_grad=True), tensor(0.3, requires_grad=True), tensor(-0.1, requires_grad=True), tensor(0.2, requires_grad=True), tensor(-0.1, requires_grad=True), tensor(-0.3, requires_grad=True), tensor(0.2, requires_grad=True), tensor(-0.7, requires_grad=True), tensor(-0.1, requires_grad=True), tensor(-0.1, requires_grad=True), tensor(0.2, requires_grad=True), tensor(-0.1, requires_grad=True), tensor(0.2, requires_grad=True), tensor(0., requires_grad=True), tensor(0.1, requires_grad=True), tensor(0.6, requires_grad=True), tensor(0.1, requires_grad=True), tensor(-0.2, requires_grad=True), tensor(-0.4, requires_grad=True), tensor(-0.2, requires_grad=True), tensor(0., requires_grad=True), tensor(0.2, requires_grad=True), tensor(0.3, requires_grad=True), tensor(0.3, requires_grad=True), tensor(-0.4, requires_grad=True), tensor(0.1, requires_grad=True), tensor(0., requires_grad=True), tensor(-0.1, requires_grad=True), tensor(-0.1, requires_grad=True), tensor(0.2, requires_grad=True), tensor(-0.1, requires_grad=True), tensor(-0.5, requires_grad=True), tensor(-0.3, requires_grad=True), tensor(0., requires_grad=True), tensor(0.2, requires_grad=True), tensor(-0.1, requires_grad=True), tensor(-0.1, requires_grad=True), tensor(0.1, requires_grad=True), tensor(0., requires_grad=True), tensor(0.1, requires_grad=True), tensor(-0.2, requires_grad=True), tensor(-0.1, requires_grad=True), tensor(-0.1, requires_grad=True), tensor(-0.5, requires_grad=True), tensor(0., requires_grad=True), tensor(-0.5, requires_grad=True), tensor(0.3, requires_grad=True), tensor(0.3, requires_grad=True), tensor(0.1, requires_grad=True), tensor(-0.1, requires_grad=True), tensor(0., requires_grad=True), tensor(-0.2, requires_grad=True), tensor(-0.1, requires_grad=True), tensor(-0.2, requires_grad=True), tensor(-0.3, requires_grad=True), tensor(0.5, requires_grad=True), tensor(0.1, requires_grad=True), tensor(0.1, requires_grad=True), tensor(0.1, requires_grad=True)]\n",
      "[tensor(-0.2, requires_grad=True), tensor(0.2, requires_grad=True), tensor(0.05, requires_grad=True), tensor(0.15, requires_grad=True), tensor(-0.15, requires_grad=True), tensor(-0.1, requires_grad=True), tensor(0.05, requires_grad=True), tensor(0.2, requires_grad=True), tensor(0.2, requires_grad=True), tensor(-0.3, requires_grad=True), tensor(0.25, requires_grad=True), tensor(0., requires_grad=True), tensor(-0.15, requires_grad=True), tensor(0.05, requires_grad=True), tensor(0.1, requires_grad=True), tensor(-0.1, requires_grad=True), tensor(-0.15, requires_grad=True), tensor(0., requires_grad=True), tensor(0.45, requires_grad=True), tensor(-0.2, requires_grad=True), tensor(-0.05, requires_grad=True), tensor(-0.1, requires_grad=True), tensor(-0.05, requires_grad=True), tensor(0.2, requires_grad=True), tensor(-0.1, requires_grad=True), tensor(-0.25, requires_grad=True), tensor(-0.1, requires_grad=True), tensor(-0.15, requires_grad=True), tensor(-0.1, requires_grad=True), tensor(-0.25, requires_grad=True), tensor(0.15, requires_grad=True), tensor(0.05, requires_grad=True), tensor(-0.15, requires_grad=True), tensor(0.2, requires_grad=True), tensor(-0.2, requires_grad=True), tensor(-0.05, requires_grad=True), tensor(0.2, requires_grad=True), tensor(-0.1, requires_grad=True), tensor(0.05, requires_grad=True), tensor(0.35, requires_grad=True), tensor(0.05, requires_grad=True), tensor(-0.05, requires_grad=True), tensor(-0.25, requires_grad=True), tensor(0.1, requires_grad=True), tensor(0.1, requires_grad=True), tensor(-0.05, requires_grad=True), tensor(0.25, requires_grad=True), tensor(0., requires_grad=True), tensor(-0.15, requires_grad=True), tensor(-0.05, requires_grad=True), tensor(0.15, requires_grad=True), tensor(0., requires_grad=True), tensor(0., requires_grad=True), tensor(0., requires_grad=True), tensor(-0.05, requires_grad=True), tensor(0.05, requires_grad=True), tensor(0., requires_grad=True), tensor(0.1, requires_grad=True), tensor(0.1, requires_grad=True), tensor(-0.6, requires_grad=True), tensor(0.1, requires_grad=True), tensor(0.05, requires_grad=True), tensor(-0.1, requires_grad=True), tensor(-0.3, requires_grad=True), tensor(-0.15, requires_grad=True), tensor(-0.2, requires_grad=True), tensor(0.05, requires_grad=True), tensor(0.1, requires_grad=True), tensor(0.05, requires_grad=True), tensor(-0.2, requires_grad=True), tensor(0.1, requires_grad=True), tensor(0.05, requires_grad=True), tensor(-0.1, requires_grad=True), tensor(0.05, requires_grad=True), tensor(0.05, requires_grad=True), tensor(0.05, requires_grad=True), tensor(-0.35, requires_grad=True), tensor(0.05, requires_grad=True), tensor(-0.05, requires_grad=True), tensor(0.4, requires_grad=True), tensor(-0.05, requires_grad=True), tensor(0.4, requires_grad=True), tensor(0.2, requires_grad=True), tensor(-0.15, requires_grad=True), tensor(0.1, requires_grad=True), tensor(0.25, requires_grad=True), tensor(0.1, requires_grad=True), tensor(-0.15, requires_grad=True), tensor(0., requires_grad=True), tensor(-0.3, requires_grad=True), tensor(0.1, requires_grad=True), tensor(-0.05, requires_grad=True), tensor(0.15, requires_grad=True), tensor(-0.05, requires_grad=True), tensor(0.1, requires_grad=True), tensor(-0.05, requires_grad=True), tensor(0.35, requires_grad=True), tensor(-0.1, requires_grad=True), tensor(0., requires_grad=True), tensor(0., requires_grad=True)]\n",
      "[tensor(0.08, requires_grad=True), tensor(-0.1, requires_grad=True), tensor(-0.06, requires_grad=True), tensor(0.02, requires_grad=True), tensor(-0.02, requires_grad=True), tensor(-0.02, requires_grad=True), tensor(-0.02, requires_grad=True), tensor(0.14, requires_grad=True), tensor(0.16, requires_grad=True), tensor(0.16, requires_grad=True), tensor(0.14, requires_grad=True), tensor(0.04, requires_grad=True), tensor(-0.04, requires_grad=True), tensor(0.06, requires_grad=True), tensor(-0.08, requires_grad=True), tensor(0.08, requires_grad=True), tensor(0.04, requires_grad=True), tensor(-0.04, requires_grad=True), tensor(-0.14, requires_grad=True), tensor(-0.14, requires_grad=True), tensor(0.06, requires_grad=True), tensor(0.08, requires_grad=True), tensor(-0.04, requires_grad=True), tensor(-0.04, requires_grad=True), tensor(0.14, requires_grad=True), tensor(-0.02, requires_grad=True), tensor(-0.06, requires_grad=True), tensor(-0.04, requires_grad=True), tensor(-0.08, requires_grad=True), tensor(-0.08, requires_grad=True), tensor(-0.04, requires_grad=True), tensor(-0.12, requires_grad=True), tensor(0.14, requires_grad=True), tensor(-0.04, requires_grad=True), tensor(0.14, requires_grad=True), tensor(-0.08, requires_grad=True), tensor(-0.14, requires_grad=True), tensor(0., requires_grad=True), tensor(-0.06, requires_grad=True), tensor(0., requires_grad=True), tensor(-0.06, requires_grad=True), tensor(-0.02, requires_grad=True), tensor(0.02, requires_grad=True), tensor(0.04, requires_grad=True), tensor(0.02, requires_grad=True), tensor(0.08, requires_grad=True), tensor(-0.22, requires_grad=True), tensor(0.12, requires_grad=True), tensor(-0.08, requires_grad=True), tensor(-0.08, requires_grad=True), tensor(0.18, requires_grad=True), tensor(-0.14, requires_grad=True), tensor(-0.02, requires_grad=True), tensor(0.06, requires_grad=True), tensor(-0.06, requires_grad=True), tensor(-0.02, requires_grad=True), tensor(0.06, requires_grad=True), tensor(0.04, requires_grad=True), tensor(-0.04, requires_grad=True), tensor(-0.16, requires_grad=True), tensor(0.06, requires_grad=True), tensor(0.16, requires_grad=True), tensor(0., requires_grad=True), tensor(0.1, requires_grad=True), tensor(-0.06, requires_grad=True), tensor(0.14, requires_grad=True), tensor(0.04, requires_grad=True), tensor(0.1, requires_grad=True), tensor(-0.14, requires_grad=True), tensor(0.18, requires_grad=True), tensor(-0.08, requires_grad=True), tensor(0.1, requires_grad=True), tensor(-0.04, requires_grad=True), tensor(-0.04, requires_grad=True), tensor(0.04, requires_grad=True), tensor(0.12, requires_grad=True), tensor(-0.08, requires_grad=True), tensor(0., requires_grad=True), tensor(-0.04, requires_grad=True), tensor(-0.04, requires_grad=True), tensor(-0.08, requires_grad=True), tensor(-0.04, requires_grad=True), tensor(0.14, requires_grad=True), tensor(0.22, requires_grad=True), tensor(-0.18, requires_grad=True), tensor(0.06, requires_grad=True), tensor(0., requires_grad=True), tensor(-0.08, requires_grad=True), tensor(0.08, requires_grad=True), tensor(0.16, requires_grad=True), tensor(-0.06, requires_grad=True), tensor(-0.06, requires_grad=True), tensor(0.08, requires_grad=True), tensor(-0.08, requires_grad=True), tensor(0.02, requires_grad=True), tensor(0.14, requires_grad=True), tensor(0.2, requires_grad=True), tensor(0.02, requires_grad=True), tensor(0.08, requires_grad=True), tensor(0.1, requires_grad=True)]\n",
      "[tensor(0.02, requires_grad=True), tensor(0.01, requires_grad=True), tensor(0.02, requires_grad=True), tensor(0.05, requires_grad=True), tensor(0.1, requires_grad=True), tensor(0.04, requires_grad=True), tensor(-0.08, requires_grad=True), tensor(0.07, requires_grad=True), tensor(0.01, requires_grad=True), tensor(0.02, requires_grad=True), tensor(-0.11, requires_grad=True), tensor(-0.03, requires_grad=True), tensor(0.11, requires_grad=True), tensor(0.08, requires_grad=True), tensor(-0.07, requires_grad=True), tensor(-0.02, requires_grad=True), tensor(-0.08, requires_grad=True), tensor(0., requires_grad=True), tensor(0.06, requires_grad=True), tensor(-0.08, requires_grad=True), tensor(-0.01, requires_grad=True), tensor(-0.13, requires_grad=True), tensor(-0.01, requires_grad=True), tensor(-0.03, requires_grad=True), tensor(-0.08, requires_grad=True), tensor(-0.04, requires_grad=True), tensor(0.04, requires_grad=True), tensor(-0.03, requires_grad=True), tensor(-0.09, requires_grad=True), tensor(0.02, requires_grad=True), tensor(-0.1, requires_grad=True), tensor(0.04, requires_grad=True), tensor(-0.04, requires_grad=True), tensor(0.07, requires_grad=True), tensor(0.14, requires_grad=True), tensor(0., requires_grad=True), tensor(-0.15, requires_grad=True), tensor(-0.02, requires_grad=True), tensor(0.02, requires_grad=True), tensor(-0.12, requires_grad=True), tensor(-0.08, requires_grad=True), tensor(-0.02, requires_grad=True), tensor(-0.02, requires_grad=True), tensor(0., requires_grad=True), tensor(0.01, requires_grad=True), tensor(0.02, requires_grad=True), tensor(-0.1, requires_grad=True), tensor(0.01, requires_grad=True), tensor(-0.02, requires_grad=True), tensor(0.08, requires_grad=True), tensor(0., requires_grad=True), tensor(-0.07, requires_grad=True), tensor(-0.07, requires_grad=True), tensor(-0.05, requires_grad=True), tensor(-0.04, requires_grad=True), tensor(-0.03, requires_grad=True), tensor(-0.01, requires_grad=True), tensor(0.09, requires_grad=True), tensor(-0.06, requires_grad=True), tensor(0.1, requires_grad=True), tensor(-0.08, requires_grad=True), tensor(-0.06, requires_grad=True), tensor(-0.02, requires_grad=True), tensor(0.03, requires_grad=True), tensor(-0.07, requires_grad=True), tensor(0.03, requires_grad=True), tensor(0.03, requires_grad=True), tensor(0.06, requires_grad=True), tensor(0.06, requires_grad=True), tensor(0.01, requires_grad=True), tensor(-0.03, requires_grad=True), tensor(0., requires_grad=True), tensor(-0.09, requires_grad=True), tensor(-0.12, requires_grad=True), tensor(-0.21, requires_grad=True), tensor(0.01, requires_grad=True), tensor(0.02, requires_grad=True), tensor(-0.02, requires_grad=True), tensor(0.07, requires_grad=True), tensor(-0.01, requires_grad=True), tensor(0.06, requires_grad=True), tensor(0., requires_grad=True), tensor(-0.08, requires_grad=True), tensor(-0.09, requires_grad=True), tensor(0.06, requires_grad=True), tensor(0.09, requires_grad=True), tensor(0.03, requires_grad=True), tensor(-0.07, requires_grad=True), tensor(0.09, requires_grad=True), tensor(0.09, requires_grad=True), tensor(0.08, requires_grad=True), tensor(0., requires_grad=True), tensor(0., requires_grad=True), tensor(-0.07, requires_grad=True), tensor(-0.08, requires_grad=True), tensor(-0.09, requires_grad=True), tensor(-0.1, requires_grad=True), tensor(0.01, requires_grad=True), tensor(0.05, requires_grad=True), tensor(0.09, requires_grad=True)]\n",
      "[tensor(0.025, requires_grad=True), tensor(-0.075, requires_grad=True), tensor(-0.005, requires_grad=True), tensor(0.06, requires_grad=True), tensor(0.045, requires_grad=True), tensor(0.01, requires_grad=True), tensor(-0.01, requires_grad=True), tensor(0., requires_grad=True), tensor(0.005, requires_grad=True), tensor(-0.07, requires_grad=True), tensor(0.06, requires_grad=True), tensor(0.07, requires_grad=True), tensor(0.08, requires_grad=True), tensor(0.055, requires_grad=True), tensor(0.045, requires_grad=True), tensor(0.05, requires_grad=True), tensor(-0.06, requires_grad=True), tensor(0., requires_grad=True), tensor(0.03, requires_grad=True), tensor(0.035, requires_grad=True), tensor(0.02, requires_grad=True), tensor(0.02, requires_grad=True), tensor(0.065, requires_grad=True), tensor(-0.025, requires_grad=True), tensor(0.01, requires_grad=True), tensor(0.02, requires_grad=True), tensor(0.03, requires_grad=True), tensor(-0.14, requires_grad=True), tensor(0.05, requires_grad=True), tensor(0.055, requires_grad=True), tensor(-0.045, requires_grad=True), tensor(-0.06, requires_grad=True), tensor(-0.02, requires_grad=True), tensor(0.035, requires_grad=True), tensor(0.05, requires_grad=True), tensor(0., requires_grad=True), tensor(0.055, requires_grad=True), tensor(-0.05, requires_grad=True), tensor(0.055, requires_grad=True), tensor(0.065, requires_grad=True), tensor(0.08, requires_grad=True), tensor(-0.055, requires_grad=True), tensor(0.065, requires_grad=True), tensor(0.09, requires_grad=True), tensor(0.035, requires_grad=True), tensor(0.045, requires_grad=True), tensor(-0.04, requires_grad=True), tensor(-0.04, requires_grad=True), tensor(-0.02, requires_grad=True), tensor(-0.09, requires_grad=True), tensor(0., requires_grad=True), tensor(0.04, requires_grad=True), tensor(0.045, requires_grad=True), tensor(-0.065, requires_grad=True), tensor(-0.02, requires_grad=True), tensor(-0.03, requires_grad=True), tensor(0.015, requires_grad=True), tensor(0.03, requires_grad=True), tensor(-0.03, requires_grad=True), tensor(-0.035, requires_grad=True), tensor(0.03, requires_grad=True), tensor(0.005, requires_grad=True), tensor(0.025, requires_grad=True), tensor(-0.05, requires_grad=True), tensor(0.035, requires_grad=True), tensor(0.005, requires_grad=True), tensor(0.085, requires_grad=True), tensor(0.005, requires_grad=True), tensor(0.045, requires_grad=True), tensor(0.015, requires_grad=True), tensor(0.03, requires_grad=True), tensor(0.015, requires_grad=True), tensor(0.005, requires_grad=True), tensor(0.01, requires_grad=True), tensor(-0.01, requires_grad=True), tensor(-0.035, requires_grad=True), tensor(0.08, requires_grad=True), tensor(0.02, requires_grad=True), tensor(-0.075, requires_grad=True), tensor(-0.02, requires_grad=True), tensor(0.08, requires_grad=True), tensor(0.005, requires_grad=True), tensor(0.035, requires_grad=True), tensor(-0.065, requires_grad=True), tensor(-0.015, requires_grad=True), tensor(-0.035, requires_grad=True), tensor(-0.005, requires_grad=True), tensor(0.055, requires_grad=True), tensor(-0.03, requires_grad=True), tensor(0., requires_grad=True), tensor(0.035, requires_grad=True), tensor(-0.07, requires_grad=True), tensor(-0.065, requires_grad=True), tensor(0.06, requires_grad=True), tensor(0.005, requires_grad=True), tensor(-0.02, requires_grad=True), tensor(0.015, requires_grad=True), tensor(-0.075, requires_grad=True), tensor(0.04, requires_grad=True), tensor(0.07, requires_grad=True)]\n",
      "[tensor(0.018, requires_grad=True), tensor(-0.018, requires_grad=True), tensor(0.008, requires_grad=True), tensor(-0.01, requires_grad=True), tensor(0.056, requires_grad=True), tensor(-0.004, requires_grad=True), tensor(-0.032, requires_grad=True), tensor(0.004, requires_grad=True), tensor(-0.014, requires_grad=True), tensor(-0.048, requires_grad=True), tensor(-0.008, requires_grad=True), tensor(-0.004, requires_grad=True), tensor(0.026, requires_grad=True), tensor(-0.022, requires_grad=True), tensor(0.022, requires_grad=True), tensor(0.012, requires_grad=True), tensor(0.016, requires_grad=True), tensor(0.006, requires_grad=True), tensor(-0.014, requires_grad=True), tensor(0.024, requires_grad=True), tensor(0.048, requires_grad=True), tensor(-0.006, requires_grad=True), tensor(0.018, requires_grad=True), tensor(0.016, requires_grad=True), tensor(0.006, requires_grad=True), tensor(0.034, requires_grad=True), tensor(-0.028, requires_grad=True), tensor(0.018, requires_grad=True), tensor(-0.078, requires_grad=True), tensor(0.012, requires_grad=True), tensor(0.034, requires_grad=True), tensor(0.002, requires_grad=True), tensor(-0.052, requires_grad=True), tensor(0.02, requires_grad=True), tensor(0.02, requires_grad=True), tensor(0.036, requires_grad=True), tensor(-0.01, requires_grad=True), tensor(-0.004, requires_grad=True), tensor(-0.018, requires_grad=True), tensor(0.012, requires_grad=True), tensor(0.034, requires_grad=True), tensor(-0.016, requires_grad=True), tensor(0., requires_grad=True), tensor(0.022, requires_grad=True), tensor(0.038, requires_grad=True), tensor(0.01, requires_grad=True), tensor(-0.014, requires_grad=True), tensor(-0.008, requires_grad=True), tensor(-0.004, requires_grad=True), tensor(-0.02, requires_grad=True), tensor(0.022, requires_grad=True), tensor(0., requires_grad=True), tensor(-0.024, requires_grad=True), tensor(0.016, requires_grad=True), tensor(0.004, requires_grad=True), tensor(-0.002, requires_grad=True), tensor(0.018, requires_grad=True), tensor(-0.014, requires_grad=True), tensor(-0.012, requires_grad=True), tensor(0.002, requires_grad=True), tensor(-0.048, requires_grad=True), tensor(0., requires_grad=True), tensor(-0.05, requires_grad=True), tensor(0.028, requires_grad=True), tensor(0.02, requires_grad=True), tensor(-0.014, requires_grad=True), tensor(-0.002, requires_grad=True), tensor(-0.022, requires_grad=True), tensor(-0.02, requires_grad=True), tensor(0.002, requires_grad=True), tensor(-0.032, requires_grad=True), tensor(-0.006, requires_grad=True), tensor(-0.006, requires_grad=True), tensor(-0.058, requires_grad=True), tensor(-0.026, requires_grad=True), tensor(-0.008, requires_grad=True), tensor(-0.008, requires_grad=True), tensor(-0.008, requires_grad=True), tensor(-0.038, requires_grad=True), tensor(-0.012, requires_grad=True), tensor(-0.014, requires_grad=True), tensor(-0.006, requires_grad=True), tensor(0.04, requires_grad=True), tensor(0.052, requires_grad=True), tensor(-0.038, requires_grad=True), tensor(-0.052, requires_grad=True), tensor(-0.072, requires_grad=True), tensor(-0.032, requires_grad=True), tensor(-0.044, requires_grad=True), tensor(0.012, requires_grad=True), tensor(-0.02, requires_grad=True), tensor(-0.034, requires_grad=True), tensor(-0.032, requires_grad=True), tensor(0.006, requires_grad=True), tensor(0.012, requires_grad=True), tensor(-0.034, requires_grad=True), tensor(0.016, requires_grad=True), tensor(0.04, requires_grad=True), tensor(0.026, requires_grad=True), tensor(-0.022, requires_grad=True)]\n",
      "[tensor(-0.024, requires_grad=True), tensor(-0.026, requires_grad=True), tensor(0.034, requires_grad=True), tensor(0.03, requires_grad=True), tensor(0.009, requires_grad=True), tensor(0.042, requires_grad=True), tensor(-0.036, requires_grad=True), tensor(0.001, requires_grad=True), tensor(0.012, requires_grad=True), tensor(0.03, requires_grad=True), tensor(-0.016, requires_grad=True), tensor(0.026, requires_grad=True), tensor(0.051, requires_grad=True), tensor(-0.024, requires_grad=True), tensor(-0.006, requires_grad=True), tensor(-0.041, requires_grad=True), tensor(-0.006, requires_grad=True), tensor(0.018, requires_grad=True), tensor(0., requires_grad=True), tensor(0.019, requires_grad=True), tensor(0.002, requires_grad=True), tensor(0.028, requires_grad=True), tensor(-0.003, requires_grad=True), tensor(-0.008, requires_grad=True), tensor(0.019, requires_grad=True), tensor(0.015, requires_grad=True), tensor(0.003, requires_grad=True), tensor(-0.014, requires_grad=True), tensor(0.012, requires_grad=True), tensor(0.008, requires_grad=True), tensor(-0.03, requires_grad=True), tensor(0.037, requires_grad=True), tensor(-0.014, requires_grad=True), tensor(-0.016, requires_grad=True), tensor(-0.028, requires_grad=True), tensor(0.002, requires_grad=True), tensor(0.003, requires_grad=True), tensor(-0.013, requires_grad=True), tensor(-0.023, requires_grad=True), tensor(0.053, requires_grad=True), tensor(-0.035, requires_grad=True), tensor(0.022, requires_grad=True), tensor(0.028, requires_grad=True), tensor(0.007, requires_grad=True), tensor(-0.031, requires_grad=True), tensor(-0.036, requires_grad=True), tensor(-0.016, requires_grad=True), tensor(-0.005, requires_grad=True), tensor(0.031, requires_grad=True), tensor(0.036, requires_grad=True), tensor(-0.005, requires_grad=True), tensor(-0.05, requires_grad=True), tensor(0.015, requires_grad=True), tensor(-0.01, requires_grad=True), tensor(-0.004, requires_grad=True), tensor(-0.02, requires_grad=True), tensor(-0.02, requires_grad=True), tensor(0.01, requires_grad=True), tensor(-0.015, requires_grad=True), tensor(-0.022, requires_grad=True), tensor(-0.014, requires_grad=True), tensor(0.016, requires_grad=True), tensor(-0.039, requires_grad=True), tensor(-0.014, requires_grad=True), tensor(-0.013, requires_grad=True), tensor(-0.019, requires_grad=True), tensor(0.001, requires_grad=True), tensor(-0.032, requires_grad=True), tensor(-0.012, requires_grad=True), tensor(-0.043, requires_grad=True), tensor(0.014, requires_grad=True), tensor(-0.02, requires_grad=True), tensor(-0.041, requires_grad=True), tensor(0.02, requires_grad=True), tensor(0.033, requires_grad=True), tensor(-0.002, requires_grad=True), tensor(0.041, requires_grad=True), tensor(-0.036, requires_grad=True), tensor(0.02, requires_grad=True), tensor(-0.02, requires_grad=True), tensor(0.002, requires_grad=True), tensor(0.016, requires_grad=True), tensor(0.022, requires_grad=True), tensor(0., requires_grad=True), tensor(-0.016, requires_grad=True), tensor(0.013, requires_grad=True), tensor(0.01, requires_grad=True), tensor(-0.015, requires_grad=True), tensor(-0.008, requires_grad=True), tensor(0.001, requires_grad=True), tensor(0.015, requires_grad=True), tensor(-0.007, requires_grad=True), tensor(0.04, requires_grad=True), tensor(-0.027, requires_grad=True), tensor(0.025, requires_grad=True), tensor(0., requires_grad=True), tensor(0.007, requires_grad=True), tensor(-0.017, requires_grad=True), tensor(-0.004, requires_grad=True), tensor(0., requires_grad=True)]\n",
      "[tensor(-0.0065, requires_grad=True), tensor(0.0015, requires_grad=True), tensor(0.0335, requires_grad=True), tensor(0.023, requires_grad=True), tensor(0.01, requires_grad=True), tensor(0.014, requires_grad=True), tensor(-0.018, requires_grad=True), tensor(0.0335, requires_grad=True), tensor(-0.0215, requires_grad=True), tensor(0.0045, requires_grad=True), tensor(-0.0255, requires_grad=True), tensor(-0.023, requires_grad=True), tensor(-0.011, requires_grad=True), tensor(-0.0175, requires_grad=True), tensor(0.007, requires_grad=True), tensor(-0.0025, requires_grad=True), tensor(-0.025, requires_grad=True), tensor(-0.0155, requires_grad=True), tensor(-0.0165, requires_grad=True), tensor(-0.005, requires_grad=True), tensor(-0.013, requires_grad=True), tensor(-0.001, requires_grad=True), tensor(-0.0265, requires_grad=True), tensor(-0.009, requires_grad=True), tensor(-0.011, requires_grad=True), tensor(-0.0375, requires_grad=True), tensor(0.02, requires_grad=True), tensor(-0.0025, requires_grad=True), tensor(-0.0015, requires_grad=True), tensor(0.013, requires_grad=True), tensor(-0.007, requires_grad=True), tensor(0.0265, requires_grad=True), tensor(0.0025, requires_grad=True), tensor(0.0445, requires_grad=True), tensor(0.0015, requires_grad=True), tensor(0.009, requires_grad=True), tensor(0.017, requires_grad=True), tensor(-0.0055, requires_grad=True), tensor(0.0155, requires_grad=True), tensor(0.016, requires_grad=True), tensor(-0.027, requires_grad=True), tensor(-0.008, requires_grad=True), tensor(-0.0015, requires_grad=True), tensor(-0.01, requires_grad=True), tensor(0.0175, requires_grad=True), tensor(-0.0005, requires_grad=True), tensor(0.0135, requires_grad=True), tensor(0.022, requires_grad=True), tensor(-0.0035, requires_grad=True), tensor(-0.0085, requires_grad=True), tensor(0.002, requires_grad=True), tensor(-0.015, requires_grad=True), tensor(0.005, requires_grad=True), tensor(0.001, requires_grad=True), tensor(-0.0075, requires_grad=True), tensor(-0.014, requires_grad=True), tensor(-0.0125, requires_grad=True), tensor(-0.0285, requires_grad=True), tensor(-0.0075, requires_grad=True), tensor(0.0185, requires_grad=True), tensor(0.002, requires_grad=True), tensor(0.002, requires_grad=True), tensor(-0.015, requires_grad=True), tensor(0.0045, requires_grad=True), tensor(0.0125, requires_grad=True), tensor(0.037, requires_grad=True), tensor(-0.008, requires_grad=True), tensor(0.009, requires_grad=True), tensor(-0.0045, requires_grad=True), tensor(0.007, requires_grad=True), tensor(0.0315, requires_grad=True), tensor(-0.0315, requires_grad=True), tensor(-0.0045, requires_grad=True), tensor(-0.029, requires_grad=True), tensor(-0.015, requires_grad=True), tensor(-0.022, requires_grad=True), tensor(0.0155, requires_grad=True), tensor(0.015, requires_grad=True), tensor(0.0065, requires_grad=True), tensor(0.016, requires_grad=True), tensor(0.0095, requires_grad=True), tensor(-0.016, requires_grad=True), tensor(-0.003, requires_grad=True), tensor(0.016, requires_grad=True), tensor(0.0105, requires_grad=True), tensor(-0.0015, requires_grad=True), tensor(0.0025, requires_grad=True), tensor(0.032, requires_grad=True), tensor(0.0015, requires_grad=True), tensor(0.024, requires_grad=True), tensor(-0.0075, requires_grad=True), tensor(-0.024, requires_grad=True), tensor(0.022, requires_grad=True), tensor(0.0125, requires_grad=True), tensor(-0.014, requires_grad=True), tensor(-0.002, requires_grad=True), tensor(0.016, requires_grad=True), tensor(0.0025, requires_grad=True), tensor(-0.026, requires_grad=True), tensor(-0.022, requires_grad=True)]\n",
      "[tensor(0.011, requires_grad=True), tensor(0.0016, requires_grad=True), tensor(-0.0032, requires_grad=True), tensor(-0.0018, requires_grad=True), tensor(0.0024, requires_grad=True), tensor(0.0064, requires_grad=True), tensor(-0.0046, requires_grad=True), tensor(0.0076, requires_grad=True), tensor(-0.0004, requires_grad=True), tensor(0.0144, requires_grad=True), tensor(0.0004, requires_grad=True), tensor(-0.0046, requires_grad=True), tensor(-0.0084, requires_grad=True), tensor(0.0056, requires_grad=True), tensor(-0.0024, requires_grad=True), tensor(-0.0102, requires_grad=True), tensor(-0.0214, requires_grad=True), tensor(-0.0008, requires_grad=True), tensor(-0.002, requires_grad=True), tensor(0.0128, requires_grad=True), tensor(0.0174, requires_grad=True), tensor(-0.0068, requires_grad=True), tensor(0.0138, requires_grad=True), tensor(-0.0088, requires_grad=True), tensor(-0.001, requires_grad=True), tensor(0.0036, requires_grad=True), tensor(-0.0114, requires_grad=True), tensor(-0.009, requires_grad=True), tensor(0.006, requires_grad=True), tensor(0.0064, requires_grad=True), tensor(-0.0034, requires_grad=True), tensor(0.0022, requires_grad=True), tensor(0.005, requires_grad=True), tensor(0.0008, requires_grad=True), tensor(-0.0052, requires_grad=True), tensor(0.0038, requires_grad=True), tensor(-0.0088, requires_grad=True), tensor(-0.0102, requires_grad=True), tensor(-0.015, requires_grad=True), tensor(0.0006, requires_grad=True), tensor(-0.0014, requires_grad=True), tensor(-0.0078, requires_grad=True), tensor(-0.0044, requires_grad=True), tensor(0.0122, requires_grad=True), tensor(-0.0056, requires_grad=True), tensor(0.0024, requires_grad=True), tensor(0.0008, requires_grad=True), tensor(0.0038, requires_grad=True), tensor(-0.0044, requires_grad=True), tensor(0.0008, requires_grad=True), tensor(-0.0062, requires_grad=True), tensor(-0.0132, requires_grad=True), tensor(-0.0128, requires_grad=True), tensor(0.0048, requires_grad=True), tensor(-0.0004, requires_grad=True), tensor(-0.0074, requires_grad=True), tensor(-0.012, requires_grad=True), tensor(-0.0026, requires_grad=True), tensor(0.0004, requires_grad=True), tensor(0.0114, requires_grad=True), tensor(0.0092, requires_grad=True), tensor(-0.0018, requires_grad=True), tensor(0.0034, requires_grad=True), tensor(0.0038, requires_grad=True), tensor(0.008, requires_grad=True), tensor(0.017, requires_grad=True), tensor(-0.0028, requires_grad=True), tensor(-0.0014, requires_grad=True), tensor(0.0102, requires_grad=True), tensor(-0.0036, requires_grad=True), tensor(0.0108, requires_grad=True), tensor(-0.0106, requires_grad=True), tensor(0.008, requires_grad=True), tensor(0.0212, requires_grad=True), tensor(-0.0102, requires_grad=True), tensor(0.0026, requires_grad=True), tensor(-0.0098, requires_grad=True), tensor(0.0012, requires_grad=True), tensor(-0.0132, requires_grad=True), tensor(0.0084, requires_grad=True), tensor(-0.0144, requires_grad=True), tensor(0.005, requires_grad=True), tensor(-0.0144, requires_grad=True), tensor(-0.0098, requires_grad=True), tensor(-0.0038, requires_grad=True), tensor(-0.0038, requires_grad=True), tensor(0.0092, requires_grad=True), tensor(-0.006, requires_grad=True), tensor(-0.0016, requires_grad=True), tensor(-0.007, requires_grad=True), tensor(-0.0014, requires_grad=True), tensor(0.0064, requires_grad=True), tensor(-0.0042, requires_grad=True), tensor(-0.0086, requires_grad=True), tensor(0.0104, requires_grad=True), tensor(-0.002, requires_grad=True), tensor(0.0034, requires_grad=True), tensor(0.0134, requires_grad=True), tensor(0.0036, requires_grad=True), tensor(-0.0052, requires_grad=True)]\n"
     ]
    },
    {
     "ename": "NameError",
     "evalue": "name 'plotter' is not defined",
     "output_type": "error",
     "traceback": [
      "\u001b[1;31m---------------------------------------------------------------------------\u001b[0m",
      "\u001b[1;31mNameError\u001b[0m                                 Traceback (most recent call last)",
      "Cell \u001b[1;32mIn[23], line 28\u001b[0m\n\u001b[0;32m     26\u001b[0m results_experiment \u001b[38;5;241m=\u001b[39m [variance_experiment(shots) \u001b[38;5;28;01mfor\u001b[39;00m shots \u001b[38;5;129;01min\u001b[39;00m shot_vals]\n\u001b[0;32m     27\u001b[0m results_scaling \u001b[38;5;241m=\u001b[39m [variance_scaling(shots) \u001b[38;5;28;01mfor\u001b[39;00m shots \u001b[38;5;129;01min\u001b[39;00m shot_vals]\n\u001b[1;32m---> 28\u001b[0m plot \u001b[38;5;241m=\u001b[39m plotter(shot_vals, results_experiment, results_scaling)\n",
      "\u001b[1;31mNameError\u001b[0m: name 'plotter' is not defined"
     ]
    }
   ],
   "source": [
    "def variance_experiment(n_shots):\n",
    "      n_trials = 100\n",
    "      dev = qml.device(\"default.qubit\", wires = 1, shots = n_shots)\n",
    "      \n",
    "      @qml.qnode(dev)\n",
    "      def circuit():\n",
    "          qml.Hadamard(wires=0)\n",
    "          return qml.expval(qml.PauliZ(wires=0))\n",
    "  \n",
    "      variance = []\n",
    "      for _ in range(n_trials):\n",
    "          variance.append(circuit())\n",
    "      print(variance)\n",
    "  \n",
    "      return np.var(variance)\n",
    "  \n",
    "  \n",
    "def variance_scaling(n_shots):\n",
    "      \n",
    "      \n",
    "      return 1/n_shots \n",
    "  \n",
    "shot_vals = [10, 20, 40, 100, 200, 400, 1000, 2000, 4000, 10000]\n",
    "\n",
    "\n",
    "results_experiment = [variance_experiment(shots) for shots in shot_vals]\n",
    "results_scaling = [variance_scaling(shots) for shots in shot_vals]\n",
    "plot = plotter(shot_vals, results_experiment, results_scaling)"
   ]
  },
  {
   "cell_type": "markdown",
   "metadata": {},
   "source": [
    "## Variance Experiment and Scaling Codercise I.10.4\r\n",
    "\r\n",
    "### Summary\r\n",
    "\r\n",
    "1. **Variance Experiment**:\r\n",
    "   - The function `variance_experiment(n_shots)` runs a quantum circuit multiple times to measure the variance of the expectation value of the Pauli-Z observable.\r\n",
    "   - It sets up a quantum device with a specified number of shots.\r\n",
    "   - A quantum node (`qnode`) is defined with a circuit that applies a Hadamard gate and measures the expectation value of the Pauli-Z observable.\r\n",
    "   - The circuit is run 100 times, and the variance of the results is calculated and returned.\r\n",
    "\r\n",
    "2. **Variance Scaling**:\r\n",
    "   - The function `variance_scaling(n_shots)` returns the theoretical variance scaling as \\( \\frac{1}{\\text{n\\_shots}} \\).\r\n",
    "\r\n",
    "3. **Comparison**:\r\n",
    "   - The code compares the experimental variance with the theoretical variance scaling for different shot values.\r\n",
    "   - The results are plotted using a plotting function `plotter`."
   ]
  },
  {
   "cell_type": "markdown",
   "metadata": {},
   "source": [
    "<img src = \"img/10-4.png\">"
   ]
  }
 ],
 "metadata": {
  "kernelspec": {
   "display_name": "Python 3 (ipykernel)",
   "language": "python",
   "name": "python3"
  },
  "language_info": {
   "codemirror_mode": {
    "name": "ipython",
    "version": 3
   },
   "file_extension": ".py",
   "mimetype": "text/x-python",
   "name": "python",
   "nbconvert_exporter": "python",
   "pygments_lexer": "ipython3",
   "version": "3.11.7"
  }
 },
 "nbformat": 4,
 "nbformat_minor": 4
}
