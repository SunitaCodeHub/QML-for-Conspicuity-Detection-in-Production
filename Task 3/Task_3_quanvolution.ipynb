{
 "cells": [
  {
   "cell_type": "markdown",
   "metadata": {},
   "source": [
    "## TEAM NAME: QUANTUM ENTANGLERS\n",
    "\n",
    "### Team Members\n",
    "\n",
    "**Rajana Rama Satya Sai Durga Prasad**  \n",
    "**Enrollment ID:** WQ24-UkA0PEQyOfbIQTn  \n",
    "**Email:** rajanasatyasai@gmail.com\n",
    "\n",
    "**Sunita**  \n",
    "**Enrollment ID:** WQ24-kntLxdjlEEqKqC9  \n",
    "**Email:** khothsunita1508@gmail.com\n",
    "\n",
    "### Project: QML-for-Conspicuity-Detection-in-Production\n"
   ]
  },
  {
   "cell_type": "markdown",
   "metadata": {},
   "source": [
    "## Task 3 - Quanvolutional Neural Network"
   ]
  },
  {
   "cell_type": "markdown",
   "metadata": {},
   "source": [
    "The matplotlib inline command in Jupyter Notebooks allows Matplotlib plots to be displayed directly beneath the code cells that generate them."
   ]
  },
  {
   "cell_type": "code",
   "execution_count": 1,
   "metadata": {
    "collapsed": false,
    "jupyter": {
     "outputs_hidden": false
    }
   },
   "outputs": [],
   "source": [
    "%matplotlib inline"
   ]
  },
  {
   "cell_type": "markdown",
   "metadata": {},
   "source": [
    "### Imports - Pennylane used for Quantum Machine Learning and Tensor Flow"
   ]
  },
  {
   "cell_type": "code",
   "execution_count": 2,
   "metadata": {
    "collapsed": false,
    "jupyter": {
     "outputs_hidden": false
    }
   },
   "outputs": [],
   "source": [
    "import pennylane as qml\n",
    "from pennylane import numpy as np\n",
    "from pennylane.templates import RandomLayers\n",
    "import tensorflow as tf\n",
    "from tensorflow import keras\n",
    "import matplotlib.pyplot as plt\n",
    "import os"
   ]
  },
  {
   "cell_type": "markdown",
   "metadata": {},
   "source": [
    "### Setting of the main hyper-parameters of the model\n"
   ]
  },
  {
   "cell_type": "markdown",
   "metadata": {},
   "source": [
    "### Code Explanation\n",
    "\n",
    "1. **Hyperparameters and Dataset Sizes**:\n",
    "   - `n_epochs`: Number of training epochs.\n",
    "   - `n_layers`: Number of random layers in the model.\n",
    "   - `n_train`: Size of the training dataset.\n",
    "   - `n_test`: Size of the test dataset.\n",
    "\n",
    "2. **Data Saving Path**:\n",
    "   - `SAVE_PATH`: Directory for saving data.\n",
    "   - Creates the directory if it doesn't exist.\n",
    "\n",
    "3. **Preprocessing Flag and Random Seeds**:\n",
    "   - `PREPROCESS`: Flag to determine whether to preprocess data or load from `SAVE_PATH`.\n",
    "   - Sets seeds for NumPy and TensorFlow random number generators for reproducibility."
   ]
  },
  {
   "cell_type": "code",
   "execution_count": 3,
   "metadata": {
    "collapsed": false,
    "jupyter": {
     "outputs_hidden": false
    }
   },
   "outputs": [],
   "source": [
    "n_epochs = 30   # Number of optimization epochs\n",
    "n_layers = 1    # Number of random layers\n",
    "n_train = 50    # Size of the train dataset\n",
    "n_test = 30     # Size of the test dataset\n",
    "\n",
    "SAVE_PATH = \"quanvolution/\"  # Data saving folder\n",
    "if os.path.exists(SAVE_PATH) == False:\n",
    "    os.makedirs(SAVE_PATH)\n",
    "\n",
    "PREPROCESS = True           # If False, skip quantum processing and load data from SAVE_PATH\n",
    "np.random.seed(0)           # Seed for NumPy random number generator\n",
    "tf.random.set_seed(0)       # Seed for TensorFlow random number generator"
   ]
  },
  {
   "cell_type": "markdown",
   "metadata": {},
   "source": [
    "### Loading of the MNIST dataset\n",
    "\n",
    "\n",
    "MNIST dataset: This is a dataset of 28x28 grayscale images of the 10 digits.\n",
    "\n",
    "We import the MNIST dataset from *Keras*.\n"
   ]
  },
  {
   "cell_type": "markdown",
   "metadata": {},
   "source": [
    "### Code Explanation\r\n",
    "\r\n",
    "1. **Loading the MNIST Dataset**:\r\n",
    "   - Loads the MNIST dataset of handwritten digit images and labels.\r\n",
    "\r\n",
    "2. **Reducing Dataset Size**:\r\n",
    "   - Limits the training and test datasets to `n_train` and `n_test` samples, respectively.\r\n",
    "\r\n",
    "3. **Normalizing Pixel Values**:\r\n",
    "   - Scales pixel values to the range 0 to 1.\r\n",
    "\r\n",
    "4. **Adding Extra Dimension for Convolution Channels**:\r\n",
    "   - Adds an extra dimension to the images for convolutional channels, necessary for CNNs.\r\n"
   ]
  },
  {
   "cell_type": "code",
   "execution_count": 4,
   "metadata": {
    "collapsed": false,
    "jupyter": {
     "outputs_hidden": false
    }
   },
   "outputs": [],
   "source": [
    "mnist_dataset = keras.datasets.mnist\n",
    "(train_images, train_labels), (test_images, test_labels) = mnist_dataset.load_data()\n",
    "\n",
    "# Reduce dataset size\n",
    "train_images = train_images[:n_train]\n",
    "train_labels = train_labels[:n_train]\n",
    "test_images = test_images[:n_test]\n",
    "test_labels = test_labels[:n_test]\n",
    "\n",
    "# Normalize pixel values within 0 and 1\n",
    "train_images = train_images / 255\n",
    "test_images = test_images / 255\n",
    "\n",
    "# Add extra dimension for convolution channels\n",
    "train_images = np.array(train_images[..., tf.newaxis], requires_grad=False)\n",
    "test_images = np.array(test_images[..., tf.newaxis], requires_grad=False)"
   ]
  },
  {
   "cell_type": "markdown",
   "metadata": {},
   "source": [
    "### Quantum circuit as a convolution kernel\n",
    "\n",
    "We initialize a PennyLane `default.qubit` device, simulating a system of\n",
    "$4$ qubits. The associated `qnode` represents the quantum circuit\n",
    "consisting of:\n",
    "\n",
    "1.  an embedding layer of local $R_y$ rotations (with angles scaled by a\n",
    "    factor of $\\pi$);\n",
    "2.  a random circuit of `n_layers`;\n",
    "3.  a final measurement in the computational basis, estimating $4$\n",
    "    expectation values.\n"
   ]
  },
  {
   "cell_type": "markdown",
   "metadata": {},
   "source": [
    "### Code Explanation\r\n",
    "\r\n",
    "1. **Device Initialization**:\r\n",
    "   - Initializes a quantum device with 4 qubits using PennyLane's default qubit simulator.\r\n",
    "\r\n",
    "2. **Random Circuit Parameters**:\r\n",
    "   - Generates random parameters for the quantum circuit, uniformly distributed between 0 and \\(2\\pi\\).\r\n",
    "\r\n",
    "3. **Quantum Node (QNode) Definition**:\r\n",
    "   - Defines a QNode named `circuit` to run on the initialized device.\r\n",
    "\r\n",
    "4. **Encoding Classical Input Values**:\r\n",
    "   - Encodes 4 classical input values into the quantum circuit using `RY` rotation gates on each qubit.\r\n",
    "\r\n",
    "5. **Random Quantum Circuit**:\r\n",
    "   - Applies a random quantum circuit to the 4 qubits using the generated parameters.\r\n",
    "\r\n",
    "6. **Measurement**:\r\n",
    "   - Measures the expectation value of the Pauli-Z operator on each qubit, returning 4 classical output values.\r\n"
   ]
  },
  {
   "cell_type": "code",
   "execution_count": 5,
   "metadata": {
    "collapsed": false,
    "jupyter": {
     "outputs_hidden": false
    }
   },
   "outputs": [],
   "source": [
    "dev = qml.device(\"default.qubit\", wires=4)\n",
    "# Random circuit parameters\n",
    "rand_params = np.random.uniform(high=2 * np.pi, size=(n_layers, 4))\n",
    "\n",
    "@qml.qnode(dev)\n",
    "def circuit(phi):\n",
    "    # Encoding of 4 classical input values\n",
    "    for j in range(4):\n",
    "        qml.RY(np.pi * phi[j], wires=j)\n",
    "\n",
    "    # Random quantum circuit\n",
    "    RandomLayers(rand_params, wires=list(range(4)))\n",
    "\n",
    "    # Measurement producing 4 classical output values\n",
    "    return [qml.expval(qml.PauliZ(j)) for j in range(4)]"
   ]
  },
  {
   "cell_type": "markdown",
   "metadata": {},
   "source": [
    "### The convolution scheme:\n",
    "\n",
    "1.  the image is divided into squares of $2 \\times 2$ pixels;\n",
    "2.  each square is processed by the quantum circuit;\n",
    "3.  the $4$ expectation values are mapped into $4$ different channels of\n",
    "    a single output pixel.\n",
    "\n",
    "\n",
    "This process halves the resolution of the input image. In the standard\n",
    "language of CNN, this would correspond to a convolution with a\n",
    "$2 \\times 2$ *kernel* and a *stride* equal to $2$.\n"
   ]
  },
  {
   "cell_type": "markdown",
   "metadata": {},
   "source": [
    "### Code Explanation\r\n",
    "\r\n",
    "1. **Function Definition**:\r\n",
    "   - Defines the `quanv` function to apply quantum convolution to an input image.\r\n",
    "\r\n",
    "2. **Output Initialization**:\r\n",
    "   - Initializes an output array `out` with zeros, shaped `(14, 14, 4)`.\r\n",
    "\r\n",
    "3. **Loop Over Image Regions**:\r\n",
    "   - Iterates over 2x2 regions of the 28x28 input image.\r\n",
    "\r\n",
    "4. **Quantum Circuit Processing**:\r\n",
    "   - Processes each 2x2 region with a quantum circuit using the `circuit` function.\r\n",
    "\r\n",
    "5. **Assigning Quantum Circuit Results**:\r\n",
    "   - Stores the quantum circuit's output in the corresponding channels of the output array.\r\n",
    "\r\n",
    "6. **Return Output**:\r\n",
    "   - Returns the convolved image stored in `out`.\r\n"
   ]
  },
  {
   "cell_type": "code",
   "execution_count": 6,
   "metadata": {
    "collapsed": false,
    "jupyter": {
     "outputs_hidden": false
    }
   },
   "outputs": [],
   "source": [
    "def quanv(image):\n",
    "    \"\"\"Convolves the input image with many applications of the same quantum circuit.\"\"\"\n",
    "    out = np.zeros((14, 14, 4))\n",
    "\n",
    "    # Loop over the coordinates of the top-left pixel of 2X2 squares\n",
    "    for j in range(0, 28, 2):\n",
    "        for k in range(0, 28, 2):\n",
    "            # Process a squared 2x2 region of the image with a quantum circuit\n",
    "            q_results = circuit(\n",
    "                [\n",
    "                    image[j, k, 0],\n",
    "                    image[j, k + 1, 0],\n",
    "                    image[j + 1, k, 0],\n",
    "                    image[j + 1, k + 1, 0]\n",
    "                ]\n",
    "            )\n",
    "            # Assign expectation values to different channels of the output pixel (j/2, k/2)\n",
    "            for c in range(4):\n",
    "                out[j // 2, k // 2, c] = q_results[c]\n",
    "    return out"
   ]
  },
  {
   "cell_type": "markdown",
   "metadata": {},
   "source": [
    "### Quantum pre-processing of the dataset\n",
    "\n",
    "Since we’re not training the quantum convolution layer, we’ll use it as a pre-processing step for all images. \n",
    "A classical model will then be trained and tested on this processed data, avoiding redundant quantum computations.\n",
    "\n",
    "The pre-processed images will be saved in the folder `SAVE_PATH`. Once\n",
    "saved, they can be directly loaded by setting `PREPROCESS = False`,\n",
    "otherwise the quantum convolution is evaluated at each run of the code.\n"
   ]
  },
  {
   "cell_type": "markdown",
   "metadata": {},
   "source": [
    "### Code Explanation\r\n",
    "\r\n",
    "1. **Conditional Preprocessing**:\r\n",
    "   - Checks if `PREPROCESS` is `True` to determine if quantum preprocessing should be performed.\r\n",
    "\r\n",
    "2. **Quantum Preprocessing of Training Images**:\r\n",
    "   - Initializes an empty list for preprocessed training images.\r\n",
    "   - Applies the `quanv` function to each training image and stores the results.\r\n",
    "   - Converts the list to a NumPy array.\r\n",
    "\r\n",
    "3. **Quantum Preprocessing of Test Images**:\r\n",
    "   - Initializes an empty list for preprocessed test images.\r\n",
    "   - Applies the `quanv` function to each test image and stores the results.\r\n",
    "   - Converts the list to a NumPy array.\r\n",
    "\r\n",
    "4. **Saving Preprocessed Images**:\r\n",
    "   - Saves the preprocessed training and test images to `.npy` files.\r\n",
    "\r\n",
    "5. **Loading Preprocessed Images**:\r\n",
    "   - Loads the preprocessed images from the saved `.npy` files.\r\n"
   ]
  },
  {
   "cell_type": "code",
   "execution_count": 7,
   "metadata": {
    "collapsed": false,
    "jupyter": {
     "outputs_hidden": false
    }
   },
   "outputs": [
    {
     "name": "stdout",
     "output_type": "stream",
     "text": [
      "Quantum pre-processing of train images:\n",
      "50/50        \n",
      "Quantum pre-processing of test images:\n",
      "30/30        \r"
     ]
    }
   ],
   "source": [
    "if PREPROCESS == True:\n",
    "    q_train_images = []\n",
    "    print(\"Quantum pre-processing of train images:\")\n",
    "    for idx, img in enumerate(train_images):\n",
    "        print(\"{}/{}        \".format(idx + 1, n_train), end=\"\\r\")\n",
    "        q_train_images.append(quanv(img))\n",
    "    q_train_images = np.asarray(q_train_images)\n",
    "\n",
    "    q_test_images = []\n",
    "    print(\"\\nQuantum pre-processing of test images:\")\n",
    "    for idx, img in enumerate(test_images):\n",
    "        print(\"{}/{}        \".format(idx + 1, n_test), end=\"\\r\")\n",
    "        q_test_images.append(quanv(img))\n",
    "    q_test_images = np.asarray(q_test_images)\n",
    "\n",
    "    # Save pre-processed images\n",
    "    np.save(SAVE_PATH + \"q_train_images.npy\", q_train_images)\n",
    "    np.save(SAVE_PATH + \"q_test_images.npy\", q_test_images)\n",
    "\n",
    "\n",
    "# Load pre-processed images\n",
    "q_train_images = np.load(SAVE_PATH + \"q_train_images.npy\")\n",
    "q_test_images = np.load(SAVE_PATH + \"q_test_images.npy\")"
   ]
  },
  {
   "cell_type": "markdown",
   "metadata": {},
   "source": [
    "Let us visualize the effect of the quantum convolution layer on a batch\n",
    "of samples:\n"
   ]
  },
  {
   "cell_type": "markdown",
   "metadata": {},
   "source": [
    "### Code Explanation\r\n",
    "\r\n",
    "1. **Setting Up the Plot**:\r\n",
    "   - Defines the number of samples (`n_samples`) and output channels (`n_channels`).\r\n",
    "   - Creates a grid of subplots with `1 + n_channels` rows and `n_samples` columns.\r\n",
    "\r\n",
    "2. **Plotting Input Images**:\r\n",
    "   - Displays the input images in the first row of subplots.\r\n",
    "   - Sets the y-axis label to \"Input\" and hides the y-axis for all columns except the first one.\r\n",
    "\r\n",
    "3. **Plotting Output Channels**:\r\n",
    "   - Displays the output images for each channel in the corresponding rows of subplots.\r\n",
    "   - Sets the y-axis label for each row to \"Output [ch. c]\" and hides the y-axis for all columns except the first one.\r\n",
    "\r\n",
    "4. **Adjusting Layout and Displaying the Plot**:\r\n",
    "   - Adjusts the layout to prevent overlapping of subplots.\r\n",
    "   - Displays the plot.\r\n"
   ]
  },
  {
   "cell_type": "code",
   "execution_count": 8,
   "metadata": {
    "collapsed": false,
    "jupyter": {
     "outputs_hidden": false
    }
   },
   "outputs": [
    {
     "data": {
      "image/png": "[encoded data removed]",
      "text/plain": [
       "<Figure size 1000x1000 with 20 Axes>"
      ]
     },
     "metadata": {},
     "output_type": "display_data"
    }
   ],
   "source": [
    "n_samples = 4\n",
    "n_channels = 4\n",
    "fig, axes = plt.subplots(1 + n_channels, n_samples, figsize=(10, 10))\n",
    "for k in range(n_samples):\n",
    "    axes[0, 0].set_ylabel(\"Input\")\n",
    "    if k != 0:\n",
    "        axes[0, k].yaxis.set_visible(False)\n",
    "    axes[0, k].imshow(train_images[k, :, :, 0], cmap=\"gray\")\n",
    "\n",
    "    # Plot all output channels\n",
    "    for c in range(n_channels):\n",
    "        axes[c + 1, 0].set_ylabel(\"Output [ch. {}]\".format(c))\n",
    "        if k != 0:\n",
    "            axes[c, k].yaxis.set_visible(False)\n",
    "        axes[c + 1, k].imshow(q_train_images[k, :, :, c], cmap=\"gray\")\n",
    "\n",
    "plt.tight_layout()\n",
    "plt.show()"
   ]
  },
  {
   "cell_type": "markdown",
   "metadata": {},
   "source": [
    "The $4$ output channels produced by the quantum convolution are visualized in grayscale beneath each input image.\n",
    "\n",
    "Each input image is displayed alongside the corresponding output images for the $4$ channels generated by the quantum convolution. Although the overall shape of the images is maintained, some local distortions are visible, which is an anticipated outcome of using the quantum kernel."
   ]
  },
  {
   "cell_type": "markdown",
   "metadata": {},
   "source": [
    "### Hybrid quantum-classical model\n",
    "\n",
    "After the application of the quantum convolution layer we feed the\n",
    "resulting features into a classical neural network that will be trained\n",
    "to classify the $10$ different digits of the MNIST dataset.\n",
    "\n",
    "We use a very simple model: just a fully connected layer with 10 output\n",
    "nodes with a final *softmax* activation function.\n",
    "\n",
    "The model is compiled with a *stochastic-gradient-descent* optimizer,\n",
    "and a *cross-entropy* loss function.\n"
   ]
  },
  {
   "cell_type": "markdown",
   "metadata": {},
   "source": [
    "### Code Explanation\r\n",
    "\r\n",
    "1. **Function Definition**:\r\n",
    "   - Defines the `MyModel` function to initialize and return a custom Keras model.\r\n",
    "\r\n",
    "2. **Model Initialization**:\r\n",
    "   - Creates a Sequential model.\r\n",
    "   - Adds a `Flatten` layer to convert input data to a 1D array.\r\n",
    "   - Adds a `Dense` layer with 10 units and a `softmax` activation function for classification.\r\n",
    "\r\n",
    "3. **Model Compilation**:\r\n",
    "   - Compiles the model with the Adam optimizer.\r\n",
    "   - Uses sparse categorical cross-entropy as the loss function.\r\n",
    "   - Tracks accuracy as a performance metric.\r\n",
    "\r\n",
    "4. **Return Statement**:\r\n",
    "   - Returns the compiled model, ready for training.\r\n"
   ]
  },
  {
   "cell_type": "code",
   "execution_count": 9,
   "metadata": {
    "collapsed": false,
    "jupyter": {
     "outputs_hidden": false
    }
   },
   "outputs": [],
   "source": [
    "def MyModel():\n",
    "    \"\"\"Initializes and returns a custom Keras model\n",
    "    which is ready to be trained.\"\"\"\n",
    "    model = keras.models.Sequential([\n",
    "        keras.layers.Flatten(),\n",
    "        keras.layers.Dense(10, activation=\"softmax\")\n",
    "    ])\n",
    "\n",
    "    model.compile(\n",
    "        optimizer='adam',\n",
    "        loss=\"sparse_categorical_crossentropy\",\n",
    "        metrics=[\"accuracy\"],\n",
    "    )\n",
    "    return model"
   ]
  },
  {
   "cell_type": "markdown",
   "metadata": {},
   "source": [
    "### Training\n",
    "\n",
    "We initialize an instance of the model, to train it and validate it with the dataset that has been already pre-processed by a quantum convolution."
   ]
  },
  {
   "cell_type": "markdown",
   "metadata": {},
   "source": [
    "### Code Explanation\r\n",
    "\r\n",
    "1. **Model Initialization**:\r\n",
    "   - Initializes the custom Keras model by calling the `MyModel` function.\r\n",
    "\r\n",
    "2. **Model Training**:\r\n",
    "   - Trains the model using the `fit` method with the following parameters:\r\n",
    "     - `q_train_images`: Preprocessed training images.\r\n",
    "     - `train_labels`: Labels for the training images.\r\n",
    "     - `validation_data`: Preprocessed test images and their labels.\r\n",
    "     - `batch_size=4`: Number of samples per gradient update.\r\n",
    "     - `epochs=n_epochs`: Number of training epochs.\r\n",
    "     - `verbose=2`: Verbosity mode for detailed output.\r\n",
    "\r\n",
    "3. **Training History**:\r\n",
    "   - The `fit` method returns a `History` object containing training metrics.\r\n"
   ]
  },
  {
   "cell_type": "code",
   "execution_count": 10,
   "metadata": {
    "collapsed": false,
    "jupyter": {
     "outputs_hidden": false
    }
   },
   "outputs": [
    {
     "name": "stdout",
     "output_type": "stream",
     "text": [
      "Epoch 1/30\n",
      "13/13 - 1s - 72ms/step - accuracy: 0.1600 - loss: 2.7760 - val_accuracy: 0.1333 - val_loss: 2.2550\n",
      "Epoch 2/30\n",
      "13/13 - 0s - 5ms/step - accuracy: 0.3000 - loss: 2.0465 - val_accuracy: 0.2000 - val_loss: 2.1336\n",
      "Epoch 3/30\n",
      "13/13 - 0s - 6ms/step - accuracy: 0.4600 - loss: 1.6969 - val_accuracy: 0.4333 - val_loss: 1.9449\n",
      "Epoch 4/30\n",
      "13/13 - 0s - 5ms/step - accuracy: 0.7200 - loss: 1.3929 - val_accuracy: 0.4667 - val_loss: 1.7918\n",
      "Epoch 5/30\n",
      "13/13 - 0s - 6ms/step - accuracy: 0.7800 - loss: 1.1553 - val_accuracy: 0.5333 - val_loss: 1.6822\n",
      "Epoch 6/30\n",
      "13/13 - 0s - 7ms/step - accuracy: 0.8400 - loss: 0.9623 - val_accuracy: 0.5333 - val_loss: 1.5921\n",
      "Epoch 7/30\n",
      "13/13 - 0s - 5ms/step - accuracy: 0.8800 - loss: 0.8133 - val_accuracy: 0.6000 - val_loss: 1.5156\n",
      "Epoch 8/30\n",
      "13/13 - 0s - 5ms/step - accuracy: 0.9000 - loss: 0.6913 - val_accuracy: 0.6000 - val_loss: 1.4498\n",
      "Epoch 9/30\n",
      "13/13 - 0s - 5ms/step - accuracy: 0.9600 - loss: 0.5924 - val_accuracy: 0.6333 - val_loss: 1.3959\n",
      "Epoch 10/30\n",
      "13/13 - 0s - 6ms/step - accuracy: 0.9800 - loss: 0.5124 - val_accuracy: 0.6333 - val_loss: 1.3512\n",
      "Epoch 11/30\n",
      "13/13 - 0s - 5ms/step - accuracy: 0.9800 - loss: 0.4464 - val_accuracy: 0.6667 - val_loss: 1.3128\n",
      "Epoch 12/30\n",
      "13/13 - 0s - 5ms/step - accuracy: 1.0000 - loss: 0.3916 - val_accuracy: 0.6667 - val_loss: 1.2802\n",
      "Epoch 13/30\n",
      "13/13 - 0s - 6ms/step - accuracy: 1.0000 - loss: 0.3458 - val_accuracy: 0.6667 - val_loss: 1.2525\n",
      "Epoch 14/30\n",
      "13/13 - 0s - 6ms/step - accuracy: 1.0000 - loss: 0.3073 - val_accuracy: 0.6667 - val_loss: 1.2287\n",
      "Epoch 15/30\n",
      "13/13 - 0s - 6ms/step - accuracy: 1.0000 - loss: 0.2747 - val_accuracy: 0.7000 - val_loss: 1.2081\n",
      "Epoch 16/30\n",
      "13/13 - 0s - 21ms/step - accuracy: 1.0000 - loss: 0.2470 - val_accuracy: 0.7000 - val_loss: 1.1902\n",
      "Epoch 17/30\n",
      "13/13 - 0s - 6ms/step - accuracy: 1.0000 - loss: 0.2232 - val_accuracy: 0.7000 - val_loss: 1.1745\n",
      "Epoch 18/30\n",
      "13/13 - 0s - 6ms/step - accuracy: 1.0000 - loss: 0.2027 - val_accuracy: 0.7000 - val_loss: 1.1605\n",
      "Epoch 19/30\n",
      "13/13 - 0s - 6ms/step - accuracy: 1.0000 - loss: 0.1850 - val_accuracy: 0.7000 - val_loss: 1.1482\n",
      "Epoch 20/30\n",
      "13/13 - 0s - 7ms/step - accuracy: 1.0000 - loss: 0.1695 - val_accuracy: 0.7000 - val_loss: 1.1371\n",
      "Epoch 21/30\n",
      "13/13 - 0s - 6ms/step - accuracy: 1.0000 - loss: 0.1560 - val_accuracy: 0.7000 - val_loss: 1.1271\n",
      "Epoch 22/30\n",
      "13/13 - 0s - 5ms/step - accuracy: 1.0000 - loss: 0.1441 - val_accuracy: 0.7000 - val_loss: 1.1180\n",
      "Epoch 23/30\n",
      "13/13 - 0s - 6ms/step - accuracy: 1.0000 - loss: 0.1336 - val_accuracy: 0.7000 - val_loss: 1.1098\n",
      "Epoch 24/30\n",
      "13/13 - 0s - 7ms/step - accuracy: 1.0000 - loss: 0.1242 - val_accuracy: 0.7333 - val_loss: 1.1023\n",
      "Epoch 25/30\n",
      "13/13 - 0s - 6ms/step - accuracy: 1.0000 - loss: 0.1159 - val_accuracy: 0.7333 - val_loss: 1.0955\n",
      "Epoch 26/30\n",
      "13/13 - 0s - 9ms/step - accuracy: 1.0000 - loss: 0.1084 - val_accuracy: 0.7333 - val_loss: 1.0892\n",
      "Epoch 27/30\n",
      "13/13 - 0s - 6ms/step - accuracy: 1.0000 - loss: 0.1017 - val_accuracy: 0.7333 - val_loss: 1.0834\n",
      "Epoch 28/30\n",
      "13/13 - 0s - 7ms/step - accuracy: 1.0000 - loss: 0.0956 - val_accuracy: 0.7333 - val_loss: 1.0780\n",
      "Epoch 29/30\n",
      "13/13 - 0s - 6ms/step - accuracy: 1.0000 - loss: 0.0901 - val_accuracy: 0.7333 - val_loss: 1.0730\n",
      "Epoch 30/30\n",
      "13/13 - 0s - 6ms/step - accuracy: 1.0000 - loss: 0.0851 - val_accuracy: 0.7333 - val_loss: 1.0684\n"
     ]
    }
   ],
   "source": [
    "q_model = MyModel()\n",
    "\n",
    "q_history = q_model.fit(\n",
    "    q_train_images,\n",
    "    train_labels,\n",
    "    validation_data=(q_test_images, test_labels),\n",
    "    batch_size=4,\n",
    "    epochs=n_epochs,\n",
    "    verbose=2,\n",
    ")"
   ]
  },
  {
   "cell_type": "markdown",
   "metadata": {},
   "source": [
    "In order to compare the results achievable with and without the quantum\n",
    "convolution layer, we initialize also a \\\"classical\\\" instance of the\n",
    "model that will be directly trained and validated with the raw MNIST\n",
    "images (i.e., without quantum pre-processing).\n"
   ]
  },
  {
   "cell_type": "markdown",
   "metadata": {},
   "source": [
    "### Code Explanation\r\n",
    "In order to compare the results achievable with and without the quantum convolution layer, we also initialize a \"classical\" instance of the model that will be directly trained and validated with the raw MNIST images (i.e., without quantum pre-processing).\r\n",
    "\n",
    "\n",
    "\r\n",
    "1. **Model Initialization**:\r\n",
    "   - Initializes the custom Keras model by calling the `MyModel` function.\r\n",
    "\r\n",
    "2. **Model Training**:\r\n",
    "   - Trains the model using the `fit` method with the following parameters:\r\n",
    "     - `train_images`: Training images.\r\n",
    "     - `train_labels`: Labels for the training images.\r\n",
    "     - `validation_data`: Test images and their labels.\r\n",
    "     - `batch_size=4`: Number of samples per gradient update.\r\n",
    "     - `epochs=n_epochs`: Number of training epochs.\r\n",
    "     - `verbose=2`: Verbosity mode for detailed output.\r\n",
    "\r\n",
    "3. **Training History**:\r\n",
    "   - The `fit` method returns a `History` object containing training metrics.\r\n"
   ]
  },
  {
   "cell_type": "code",
   "execution_count": 11,
   "metadata": {
    "collapsed": false,
    "jupyter": {
     "outputs_hidden": false
    }
   },
   "outputs": [
    {
     "name": "stdout",
     "output_type": "stream",
     "text": [
      "Epoch 1/30\n",
      "13/13 - 1s - 47ms/step - accuracy: 0.1600 - loss: 2.3085 - val_accuracy: 0.2000 - val_loss: 2.0828\n",
      "Epoch 2/30\n",
      "13/13 - 0s - 5ms/step - accuracy: 0.3400 - loss: 1.9133 - val_accuracy: 0.3333 - val_loss: 1.9393\n",
      "Epoch 3/30\n",
      "13/13 - 0s - 6ms/step - accuracy: 0.5600 - loss: 1.6315 - val_accuracy: 0.3667 - val_loss: 1.8077\n",
      "Epoch 4/30\n",
      "13/13 - 0s - 5ms/step - accuracy: 0.8800 - loss: 1.3965 - val_accuracy: 0.5000 - val_loss: 1.6904\n",
      "Epoch 5/30\n",
      "13/13 - 0s - 5ms/step - accuracy: 0.9000 - loss: 1.1999 - val_accuracy: 0.5333 - val_loss: 1.5906\n",
      "Epoch 6/30\n",
      "13/13 - 0s - 5ms/step - accuracy: 0.9200 - loss: 1.0364 - val_accuracy: 0.5667 - val_loss: 1.5083\n",
      "Epoch 7/30\n",
      "13/13 - 0s - 5ms/step - accuracy: 0.9600 - loss: 0.9008 - val_accuracy: 0.6333 - val_loss: 1.4409\n",
      "Epoch 8/30\n",
      "13/13 - 0s - 5ms/step - accuracy: 0.9600 - loss: 0.7882 - val_accuracy: 0.6000 - val_loss: 1.3851\n",
      "Epoch 9/30\n",
      "13/13 - 0s - 5ms/step - accuracy: 0.9800 - loss: 0.6943 - val_accuracy: 0.6000 - val_loss: 1.3385\n",
      "Epoch 10/30\n",
      "13/13 - 0s - 6ms/step - accuracy: 0.9800 - loss: 0.6156 - val_accuracy: 0.6333 - val_loss: 1.2990\n",
      "Epoch 11/30\n",
      "13/13 - 0s - 6ms/step - accuracy: 1.0000 - loss: 0.5491 - val_accuracy: 0.6667 - val_loss: 1.2652\n",
      "Epoch 12/30\n",
      "13/13 - 0s - 5ms/step - accuracy: 1.0000 - loss: 0.4926 - val_accuracy: 0.6667 - val_loss: 1.2361\n",
      "Epoch 13/30\n",
      "13/13 - 0s - 5ms/step - accuracy: 1.0000 - loss: 0.4442 - val_accuracy: 0.6667 - val_loss: 1.2109\n",
      "Epoch 14/30\n",
      "13/13 - 0s - 5ms/step - accuracy: 1.0000 - loss: 0.4024 - val_accuracy: 0.6667 - val_loss: 1.1889\n",
      "Epoch 15/30\n",
      "13/13 - 0s - 5ms/step - accuracy: 1.0000 - loss: 0.3661 - val_accuracy: 0.6667 - val_loss: 1.1697\n",
      "Epoch 16/30\n",
      "13/13 - 0s - 6ms/step - accuracy: 1.0000 - loss: 0.3345 - val_accuracy: 0.6667 - val_loss: 1.1528\n",
      "Epoch 17/30\n",
      "13/13 - 0s - 6ms/step - accuracy: 1.0000 - loss: 0.3067 - val_accuracy: 0.6667 - val_loss: 1.1378\n",
      "Epoch 18/30\n",
      "13/13 - 0s - 5ms/step - accuracy: 1.0000 - loss: 0.2822 - val_accuracy: 0.6667 - val_loss: 1.1245\n",
      "Epoch 19/30\n",
      "13/13 - 0s - 7ms/step - accuracy: 1.0000 - loss: 0.2606 - val_accuracy: 0.6667 - val_loss: 1.1127\n",
      "Epoch 20/30\n",
      "13/13 - 0s - 7ms/step - accuracy: 1.0000 - loss: 0.2413 - val_accuracy: 0.6667 - val_loss: 1.1020\n",
      "Epoch 21/30\n",
      "13/13 - 0s - 6ms/step - accuracy: 1.0000 - loss: 0.2240 - val_accuracy: 0.6667 - val_loss: 1.0925\n",
      "Epoch 22/30\n",
      "13/13 - 0s - 6ms/step - accuracy: 1.0000 - loss: 0.2086 - val_accuracy: 0.6667 - val_loss: 1.0839\n",
      "Epoch 23/30\n",
      "13/13 - 0s - 5ms/step - accuracy: 1.0000 - loss: 0.1947 - val_accuracy: 0.6667 - val_loss: 1.0761\n",
      "Epoch 24/30\n",
      "13/13 - 0s - 6ms/step - accuracy: 1.0000 - loss: 0.1822 - val_accuracy: 0.6667 - val_loss: 1.0691\n",
      "Epoch 25/30\n",
      "13/13 - 0s - 6ms/step - accuracy: 1.0000 - loss: 0.1709 - val_accuracy: 0.6667 - val_loss: 1.0627\n",
      "Epoch 26/30\n",
      "13/13 - 0s - 7ms/step - accuracy: 1.0000 - loss: 0.1606 - val_accuracy: 0.7000 - val_loss: 1.0569\n",
      "Epoch 27/30\n",
      "13/13 - 0s - 6ms/step - accuracy: 1.0000 - loss: 0.1512 - val_accuracy: 0.7000 - val_loss: 1.0515\n",
      "Epoch 28/30\n",
      "13/13 - 0s - 6ms/step - accuracy: 1.0000 - loss: 0.1427 - val_accuracy: 0.7000 - val_loss: 1.0467\n",
      "Epoch 29/30\n",
      "13/13 - 0s - 6ms/step - accuracy: 1.0000 - loss: 0.1349 - val_accuracy: 0.7000 - val_loss: 1.0422\n",
      "Epoch 30/30\n",
      "13/13 - 0s - 5ms/step - accuracy: 1.0000 - loss: 0.1277 - val_accuracy: 0.7000 - val_loss: 1.0381\n"
     ]
    }
   ],
   "source": [
    "c_model = MyModel()\n",
    "\n",
    "c_history = c_model.fit(\n",
    "    train_images,\n",
    "    train_labels,\n",
    "    validation_data=(test_images, test_labels),\n",
    "    batch_size=4,\n",
    "    epochs=n_epochs,\n",
    "    verbose=2,\n",
    ")"
   ]
  },
  {
   "cell_type": "markdown",
   "metadata": {},
   "source": [
    "### Results\n",
    "\n",
    "We can finally plot the test accuracy and the test loss with respect to\n",
    "the number of training epochs.\n"
   ]
  },
  {
   "cell_type": "markdown",
   "metadata": {},
   "source": [
    "### Code Explanation\r\n",
    "\r\n",
    "1. **Importing Matplotlib**:\r\n",
    "   - Imports the `matplotlib.pyplot` module for creating plots.\r\n",
    "\r\n",
    "2. **Setting Up the Plot**:\r\n",
    "   - Creates a figure with two vertically arranged subplots (`fig, (ax1, ax2)`).\r\n",
    "\r\n",
    "3. **Plotting Validation Accuracy**:\r\n",
    "   - Plots validation accuracy for both the quantum model (`q_history`) and the classical model (`c_history`).\r\n",
    "   - Sets labels for the y-axis (\"Accuracy\") and x-axis (\"Epoch\").\r\n",
    "   - Adds a legend to differentiate between the models.\r\n",
    "\r\n",
    "4. **Plotting Validation Loss**:\r\n",
    "   - Plots validation loss for both the quantum model (`q_history`) and the classical model (`c_history`).\r\n",
    "   - Sets labels for the y-axis (\"Loss\") and x-axis (\"Epoch\").\r\n",
    "   - Adds a legend to differentiate between the models.\r\n",
    "\r\n",
    "5. **Adjusting Layout and Displaying the Plot**:\r\n",
    "   - Adjusts the layout to prevent overlapping of subplots.\r\n",
    "   - Displays the plot.\r\n"
   ]
  },
  {
   "cell_type": "code",
   "execution_count": 12,
   "metadata": {
    "collapsed": false,
    "jupyter": {
     "outputs_hidden": false
    }
   },
   "outputs": [
    {
     "data": {
      "image/png": "[encoded data removed]",
      "text/plain": [
       "<Figure size 600x900 with 2 Axes>"
      ]
     },
     "metadata": {},
     "output_type": "display_data"
    }
   ],
   "source": [
    "import matplotlib.pyplot as plt\n",
    "\n",
    "# plt.style.use(\"seaborn\")\n",
    "fig, (ax1, ax2) = plt.subplots(2, 1, figsize=(6, 9))\n",
    "\n",
    "ax1.plot(q_history.history[\"val_accuracy\"], \"-ob\", label=\"With quantum layer\")\n",
    "ax1.plot(c_history.history[\"val_accuracy\"], \"-og\", label=\"Without quantum layer\")\n",
    "ax1.set_ylabel(\"Accuracy\")\n",
    "ax1.set_ylim([0, 1])\n",
    "ax1.set_xlabel(\"Epoch\")\n",
    "ax1.legend()\n",
    "\n",
    "ax2.plot(q_history.history[\"val_loss\"], \"-ob\", label=\"With quantum layer\")\n",
    "ax2.plot(c_history.history[\"val_loss\"], \"-og\", label=\"Without quantum layer\")\n",
    "ax2.set_ylabel(\"Loss\")\n",
    "ax2.set_ylim(top=2.5)\n",
    "ax2.set_xlabel(\"Epoch\")\n",
    "ax2.legend()\n",
    "plt.tight_layout()\n",
    "plt.show()"
   ]
  },
  {
   "cell_type": "markdown",
   "metadata": {},
   "source": [
    "### References\n",
    "\n",
    "1.  Maxwell Henderson, Samriddhi Shakya, Shashindra Pradhan, Tristan\n",
    "    Cook. \\\"Quanvolutional Neural Networks: Powering Image Recognition\n",
    "    with Quantum Circuits.\\\"\n",
    "    [arXiv:1904.04767](https://arxiv.org/abs/1904.04767), 2019.\n",
    "2.  Priyansh Singhal, Piyush Joshi.\\\"Advance Quanvolutional Layers in Quantum Classical Hybrid Neural     Networks for Image Processing./\"\n",
    "    DOI:10.1109/ICCAR61844.2024.10569440, 2024"
   ]
  },
  {
   "cell_type": "markdown",
   "metadata": {},
   "source": [
    "### Experiments"
   ]
  },
  {
   "cell_type": "markdown",
   "metadata": {},
   "source": [
    "### Code Summary\r\n",
    "\r\n",
    "1. **Hyperparameters**:\r\n",
    "   - `n_epochs = 5_000`: Number of optimization epochs.\r\n",
    "   - `n_layers = 1`: Number of random layers.\r\n",
    "   - `n_train = 50`: Size of the training dataset.\r\n",
    "   - `n_test = 30`: Size of the test dataset.\r\n",
    "\r\n",
    "2. **Data Saving Path**:\r\n",
    "   - `SAVE_PATH = \"quanvolution/\"`: Directory for saving data.\r\n",
    "   - Creates the directory if it doesn't exist.\r\n",
    "\r\n",
    "3. **Preprocessing Flag**:\r\n",
    "   - `PREPROCESS = True`: If `False`, skips quantum processing and loads data from `SAVE_PATH`.\r\n",
    "\r\n",
    "4. **Random Seed Initialization**:\r\n",
    "   - `np.random.seed(0)`: Sets the seed for NumPy's random number generator.\r\n",
    "   - `tf.random.set_seed(0)`: Sets the seed for TensorFlow's random number generator.\r\n"
   ]
  },
  {
   "cell_type": "code",
   "execution_count": 13,
   "metadata": {},
   "outputs": [],
   "source": [
    "n_epochs = 5_000   # Number of optimization epochs\n",
    "n_layers = 1    # Number of random layers\n",
    "n_train = 50    # Size of the train dataset\n",
    "n_test = 30     # Size of the test dataset\n",
    "\n",
    "SAVE_PATH = \"quanvolution/\"  # Data saving folder\n",
    "if os.path.exists(SAVE_PATH) == False:\n",
    "    os.makedirs(SAVE_PATH)\n",
    "\n",
    "PREPROCESS = True           # If False, skip quantum processing and load data from SAVE_PATH\n",
    "np.random.seed(0)           # Seed for NumPy random number generator\n",
    "tf.random.set_seed(0)       # Seed for TensorFlow random number generator"
   ]
  },
  {
   "cell_type": "markdown",
   "metadata": {},
   "source": [
    "### Classical model using quantum pre-processed dataset."
   ]
  },
  {
   "cell_type": "markdown",
   "metadata": {},
   "source": [
    "### Code Summary\r\n",
    "\r\n",
    "1. **Model Initialization**:\r\n",
    "   - `q_model = MyModel()`: Initializes an instance of the `MyModel` class.\r\n",
    "\r\n",
    "2. **Model Training**:\r\n",
    "   - `q_history = q_model.fit(...)`: Trains the model with the following parameters:\r\n",
    "     - `q_train_images`: Training dataset (input images).\r\n",
    "     - `train_labels`: Labels for the training dataset.\r\n",
    "     - `validation_data=(q_test_images, test_labels)`: Validation dataset and its labels.\r\n",
    "     - `batch_size=4`: Number of samples per gradient update.\r\n",
    "     - `epochs=n_epochs`: Number of training epochs (5,000).\r\n",
    "     - `verbose=0`: No output during training.\r\n",
    "\r\n",
    "3. **Training History**:\r\n",
    "   - `q_history`: Stores the training history, including metrics like loss and accuracy for each epoch.\r\n"
   ]
  },
  {
   "cell_type": "code",
   "execution_count": 14,
   "metadata": {},
   "outputs": [],
   "source": [
    "q_model = MyModel()\n",
    "\n",
    "q_history = q_model.fit(\n",
    "    q_train_images,\n",
    "    train_labels,\n",
    "    validation_data=(q_test_images, test_labels),\n",
    "    batch_size=4,\n",
    "    epochs=n_epochs,\n",
    "    verbose=0,\n",
    ")"
   ]
  },
  {
   "cell_type": "markdown",
   "metadata": {},
   "source": [
    "### Classical model  without quantum pre-processing."
   ]
  },
  {
   "cell_type": "markdown",
   "metadata": {},
   "source": [
    "### Code Summary\n",
    "\n",
    "1. **Model Initialization**:\n",
    "   - `c_model = MyModel()`: Initializes an instance of the `MyModel` class.\n",
    "\n",
    "2. **Model Training**:\n",
    "   - `c_history = c_model.fit(...)`: Trains the model with the following parameters:\n",
    "     - `train_images`: Training dataset (input images).\n",
    "     - `train_labels`: Labels for the training dataset.\n",
    "     - `validation_data=(test_images, test_labels)`: Validation dataset and its labels.\n",
    "     - `batch_size=4`: Number of samples per gradient update.\n",
    "     - `epochs=n_epochs`: Number of training epochs (5,000).\n",
    "     - `verbose=0`: No output during training.\n",
    "\n",
    "3. **Training History**:\n",
    "   - `c_history`: Stores the training history, including metrics like loss and accuracy for each epoch.\n"
   ]
  },
  {
   "cell_type": "code",
   "execution_count": 15,
   "metadata": {},
   "outputs": [],
   "source": [
    "c_model = MyModel()\n",
    "\n",
    "c_history = c_model.fit(\n",
    "    train_images,\n",
    "    train_labels,\n",
    "    validation_data=(test_images, test_labels),\n",
    "    batch_size=4,\n",
    "    epochs=n_epochs,\n",
    "    verbose=0,\n",
    ")"
   ]
  },
  {
   "cell_type": "markdown",
   "metadata": {},
   "source": [
    "### Results"
   ]
  },
  {
   "cell_type": "markdown",
   "metadata": {},
   "source": [
    "### Summary of the Code Explanation\r\n",
    "\r\n",
    "1. **Importing Library**: Imports `matplotlib.pyplot` for plotting.\r\n",
    "2. **Plot Style**: (Commented out) Option to use \"seaborn\" style.\r\n",
    "3. **Creating Subplots**: Sets up two vertical subplots with specified figure size.\r\n",
    "4. **Plotting Accuracy**: Plots validation accuracy for models with and without a quantum layer, labels axes, sets limits, and adds a legend.\r\n",
    "5. **Plotting Loss**: Similar to accuracy, plots validation loss, labels axes, sets limits, and adds a legend.\r\n",
    "6. **Displaying Plot**: Adjusts layout and shows the plot.\r\n",
    "\r\n",
    "The code compares the performance (accuracy and loss) of two models over training epochs. If you need more details, feel free to ask!\r\n"
   ]
  },
  {
   "cell_type": "code",
   "execution_count": 17,
   "metadata": {},
   "outputs": [
    {
     "data": {
      "image/png": "[encoded data removed]",
      "text/plain": [
       "<Figure size 600x900 with 2 Axes>"
      ]
     },
     "metadata": {},
     "output_type": "display_data"
    }
   ],
   "source": [
    "import matplotlib.pyplot as plt\n",
    "\n",
    "# plt.style.use(\"seaborn\")\n",
    "fig, (ax1, ax2) = plt.subplots(2, 1, figsize=(6, 9))\n",
    "\n",
    "ax1.plot(q_history.history[\"val_accuracy\"], \"-ob\", label=\"With quantum layer\")\n",
    "ax1.plot(c_history.history[\"val_accuracy\"], \"-og\", label=\"Without quantum layer\")\n",
    "ax1.set_ylabel(\"Accuracy\")\n",
    "ax1.set_ylim([0, 1])\n",
    "ax1.set_xlabel(\"Epoch\")\n",
    "ax1.legend()\n",
    "\n",
    "ax2.plot(q_history.history[\"val_loss\"], \"-ob\", label=\"With quantum layer\")\n",
    "ax2.plot(c_history.history[\"val_loss\"], \"-og\", label=\"Without quantum layer\")\n",
    "ax2.set_ylabel(\"Loss\")\n",
    "ax2.set_ylim(top=2.5)\n",
    "ax2.set_xlabel(\"Epoch\")\n",
    "ax2.legend()\n",
    "plt.tight_layout()\n",
    "plt.show()"
   ]
  }
 ],
 "metadata": {
  "kernelspec": {
   "display_name": "Python 3 (ipykernel)",
   "language": "python",
   "name": "python3"
  },
  "language_info": {
   "codemirror_mode": {
    "name": "ipython",
    "version": 3
   },
   "file_extension": ".py",
   "mimetype": "text/x-python",
   "name": "python",
   "nbconvert_exporter": "python",
   "pygments_lexer": "ipython3",
   "version": "3.11.7"
  }
 },
 "nbformat": 4,
 "nbformat_minor": 4
}
