{
 "cells": [
  {
   "cell_type": "markdown",
   "metadata": {},
   "source": [
    "## TEAM NAME: QUANTUM ENTANGLERS\n",
    "\n",
    "### Team Members\n",
    "\n",
    "**Rajana Rama Satya Sai Durga Prasad**  \n",
    "**Enrollment ID:** WQ24-UkA0PEQyOfbIQTn  \n",
    "**Email:** rajanasatyasai@gmail.com\n",
    "\n",
    "**Sunita**  \n",
    "**Enrollment ID:** WQ24-kntLxdjlEEqKqC9  \n",
    "**Email:** khothsunita1508@gmail.com\n",
    "\n",
    "### Project: QML-for-Conspicuity-Detection-in-Production\n"
   ]
  },
  {
   "cell_type": "markdown",
   "metadata": {},
   "source": [
    "## **TASK 2 - Variational Classifier**\n"
   ]
  },
  {
   "cell_type": "markdown",
   "metadata": {},
   "source": [
    "## **Imports - Pennylane used for Quantum Machine Learning**\n"
   ]
  },
  {
   "cell_type": "code",
   "execution_count": 3,
   "metadata": {
    "collapsed": false,
    "jupyter": {
     "outputs_hidden": false
    }
   },
   "outputs": [],
   "source": [
    "import pennylane as qml\n",
    "from pennylane import numpy as np\n",
    "from pennylane.optimize import NesterovMomentumOptimizer"
   ]
  },
  {
   "cell_type": "markdown",
   "metadata": {},
   "source": [
    "Quantum and Classical nodes\n",
    "===========================\n",
    "```python\n",
    "Next, we create a quantum device to execute our circuits.\n",
    "```"
   ]
  },
  {
   "cell_type": "code",
   "execution_count": 4,
   "metadata": {
    "collapsed": false,
    "jupyter": {
     "outputs_hidden": false
    }
   },
   "outputs": [],
   "source": [
    "dev = qml.device(\"default.qubit\")"
   ]
  },
  {
   "cell_type": "markdown",
   "metadata": {},
   "source": [
    "In this circuit, each qubit undergoes a rotation defined by three parameters, followed by CNOT operations between the different qubits, except between qubits 1 and 3. This structure can be repeated multiple times, and increasing the number of layers provides more degrees of freedom.\r\n",
    "\r\n",
    "The layer function applies a layer of operations to a set of four qubits:\r\n",
    "\r\n",
    "- **Rotation (ROT)**: Each qubit undergoes a rotation defined by three parameters.\r\n",
    "- **CNOT**: CNOT gates are applied between adjacent qubits (0-1, 1-2, 2-3) and between qubits 3 and 0, forming a circular connection.\r\n"
   ]
  },
  {
   "cell_type": "code",
   "execution_count": 5,
   "metadata": {
    "collapsed": false,
    "jupyter": {
     "outputs_hidden": false
    }
   },
   "outputs": [],
   "source": [
    "def layer(layer_weights):\n",
    "    for wire in range(4):\n",
    "        qml.Rot(*layer_weights[wire], wires=wire)\n",
    "\n",
    "    for wires in ([0, 1], [1, 2], [2, 3], [3, 0]):\n",
    "        qml.CNOT(wires)"
   ]
  },
  {
   "cell_type": "markdown",
   "metadata": {},
   "source": [
    "One of the primary challenges we'll encounter is the need to encode data. There are various strategies for this, depending on our data. In this first example, we use the basis state encoding method, which translates binary values into quantum states. Specifically, this method uses 4 qubits to represent any data point in the dataset. However, a limitation of this approach is the finite number of values it can represent; with 4 qubits, we can represent \\(2^4 = 16\\) values. Thus, with \\(n\\) qubits, we can represent \\(2^n\\) values.\r\n",
    "\r\n",
    "The `state_preparation` function prepares a quantum state by setting qubits 0, 1, 2, and 3 to the basis state defined by the binary values in the input `x`. This method translates the binary representation of `x` into the corresponding quantum state of the qubits.\r\n"
   ]
  },
  {
   "cell_type": "code",
   "execution_count": 6,
   "metadata": {
    "collapsed": false,
    "jupyter": {
     "outputs_hidden": false
    }
   },
   "outputs": [],
   "source": [
    "def state_preparation(x):\n",
    "    qml.BasisState(x, wires=[0, 1, 2, 3])"
   ]
  },
  {
   "cell_type": "markdown",
   "metadata": {},
   "source": [
    "After we have defined the encoding and the repetitive structure or structures that we will use, we can create our circuit. In this case, it is pretty simple: first the encoding layer `state_preparation()` and our trainable `layer()`. After defining that, we can take the expected value of the Pauli-Z operator.\r\n",
    "\r\n",
    "The `circuit` function performs the following steps:\r\n",
    "\r\n",
    "1. Prepares the initial state of the qubits using the `state_preparation` function with the input `x`.\r\n",
    "2. Applies a series of layers to the qubits, where each layer consists of rotation and CNOT operations defined by the weights in `weights`.\r\n",
    "3. Measures and returns the expectation value of the Pauli-Z operator on qubit 0.\r\n",
    "\r\n",
    "The `@qml.qnode(dev)` decorator ensures that this function can be executed on a quantum device specified by `dev`.\r\n"
   ]
  },
  {
   "cell_type": "code",
   "execution_count": 7,
   "metadata": {
    "collapsed": false,
    "jupyter": {
     "outputs_hidden": false
    }
   },
   "outputs": [],
   "source": [
    "@qml.qnode(dev)\n",
    "def circuit(weights, x):\n",
    "    state_preparation(x)\n",
    "\n",
    "    for layer_weights in weights:\n",
    "        layer(layer_weights)\n",
    "\n",
    "    return qml.expval(qml.PauliZ(0))"
   ]
  },
  {
   "cell_type": "markdown",
   "metadata": {},
   "source": [
    "Here, we define our model. It's currently determined by the weights and bias, but we have the potential to make it more adaptable.\r\n",
    "\r\n",
    "The `variational_classifier` function performs the following steps:\r\n",
    "\r\n",
    "1. Executes the quantum circuit with the given weights and input data `x`, obtaining an expectation value.\r\n",
    "2. Adds the bias to the result of the quantum circuit.\r\n",
    "\r\n",
    "This function effectively combines the output of a variational quantum circuit with a classical bias term to produce the final output of the classifier.\r\n",
    "\n"
   ]
  },
  {
   "cell_type": "code",
   "execution_count": 8,
   "metadata": {
    "collapsed": false,
    "jupyter": {
     "outputs_hidden": false
    }
   },
   "outputs": [],
   "source": [
    "def variational_classifier(weights, bias, x):\n",
    "    return circuit(weights, x) + bias"
   ]
  },
  {
   "cell_type": "markdown",
   "metadata": {},
   "source": [
    "Also we have to define 3 important parts of a model, the cost function, our metric, and a loss function.\n",
    "\n",
    "Here as a loss function we use the square loss or also known as Mean square error\n",
    "\n",
    "The square_loss function calculates the mean squared error between the true labels and the predictions. It first uses qml.math.stack to ensure the predictions are in a suitable format for element-wise subtraction. Then, it computes the squared differences between the labels and predictions and returns the mean of these squared differences. This metric is commonly used to evaluate the performance of regression models."
   ]
  },
  {
   "cell_type": "code",
   "execution_count": 9,
   "metadata": {
    "collapsed": false,
    "jupyter": {
     "outputs_hidden": false
    }
   },
   "outputs": [],
   "source": [
    "def square_loss(labels, predictions):\n",
    "    # We use a call to qml.math.stack to allow subtracting the arrays directly\n",
    "    return np.mean((labels - qml.math.stack(predictions)) ** 2)"
   ]
  },
  {
   "cell_type": "markdown",
   "metadata": {},
   "source": [
    "Next, we define a metric that provides a human-readable and interpretable value for evaluating the performance of the model. There are many metrics available, but for simplicity, we will use accuracy in this example.\r\n",
    "\r\n",
    "The `accuracy` function computes the accuracy of predictions compared to true labels by following these steps:\r\n",
    "\r\n",
    "1. Pairs each true label with its corresponding prediction.\r\n",
    "2. Checks if the absolute difference between each label and prediction is less than a small threshold (1e-5), counting these as correct predictions.\r\n",
    "3. Sums up the number of correct predictions.\r\n",
    "4. Divides the number of correct predictions by the total number of labels to calculate the accuracy.\r\n",
    "5. Returns the accuracy as a proportion (a value between 0 and 1), where 1 indicates perfect accuracy.\r\n"
   ]
  },
  {
   "cell_type": "code",
   "execution_count": 10,
   "metadata": {
    "collapsed": false,
    "jupyter": {
     "outputs_hidden": false
    }
   },
   "outputs": [],
   "source": [
    "def accuracy(labels, predictions):\n",
    "    acc = sum(abs(l - p) < 1e-5 for l, p in zip(labels, predictions))\n",
    "    acc = acc / len(labels)\n",
    "    return acc"
   ]
  },
  {
   "cell_type": "markdown",
   "metadata": {},
   "source": [
    "In the end, we defined our cost function, which is used to train the model. With this function, the gradients are calculated and help the model to move in the right direction.\r\n",
    "\r\n",
    "The cost function computes the cost (or loss) of the predictions made by a variational classifier. It does this by:\r\n",
    "\r\n",
    "1. Generating predictions for each input in `X` using the `variational_classifier`.\r\n",
    "2. Calculating the squared loss between the true labels `Y` and these predictions.\r\n",
    "3. If you have any specific questions about this code or need further details on the `variational_classifier` or `square_loss` functions.\r\n"
   ]
  },
  {
   "cell_type": "code",
   "execution_count": 11,
   "metadata": {
    "collapsed": false,
    "jupyter": {
     "outputs_hidden": false
    }
   },
   "outputs": [],
   "source": [
    "def cost(weights, bias, X, Y):\n",
    "    predictions = [variational_classifier(weights, bias, x) for x in X]\n",
    "    return square_loss(Y, predictions)"
   ]
  },
  {
   "cell_type": "markdown",
   "metadata": {},
   "source": [
    "## **Optimization of the model**\n",
    "\n",
    "We collect the data to optimize the model. By using `np.loadtxt()`, we can retrieve data from various sources, such as a URL or a local directory.\r\n",
    "\r\n",
    "**Code snippet:**\r\n",
    "\r\n",
    "- Loads training data from a specified URL.\r\n",
    "- Splits the data into feature vectors (`X`) and labels (`Y`).\r\n",
    "- Transforms the labels from {0, 1} to {-1, 1}.\r\n",
    "- Prints each feature vector and its corresponding label.\r\n",
    "\n",
    "\n",
    "```"
   ]
  },
  {
   "cell_type": "code",
   "execution_count": 12,
   "metadata": {
    "collapsed": false,
    "jupyter": {
     "outputs_hidden": false
    }
   },
   "outputs": [
    {
     "name": "stdout",
     "output_type": "stream",
     "text": [
      "x = [0 0 0 1], y = 1\n",
      "x = [0 0 1 0], y = 1\n",
      "x = [0 1 0 0], y = 1\n",
      "x = [0 1 0 1], y = -1\n",
      "x = [0 1 1 0], y = -1\n",
      "x = [0 1 1 1], y = 1\n",
      "x = [1 0 0 0], y = 1\n",
      "x = [1 0 0 1], y = -1\n",
      "x = [1 0 1 1], y = 1\n",
      "x = [1 1 1 1], y = -1\n"
     ]
    }
   ],
   "source": [
    "data = np.loadtxt(\"https://raw.githubusercontent.com/XanaduAI/qml/master/_static/demonstration_assets/variational_classifier/data/parity_train.txt\", dtype=int)\n",
    "X = np.array(data[:, :-1])\n",
    "Y = np.array(data[:, -1])\n",
    "Y = Y * 2 - 1  # shift label from {0, 1} to {-1, 1}\n",
    "\n",
    "for x,y in zip(X, Y):\n",
    "    print(f\"x = {x}, y = {y}\")"
   ]
  },
  {
   "cell_type": "markdown",
   "metadata": {},
   "source": [
    "In this part of the code, certain variables are defined to ensure reproducibility, specifically the weights and the bias value.\r\n",
    "\r\n",
    "- Sets a random seed for reproducibility.\r\n",
    "- Defines the number of qubits and layers.\r\n",
    "- Initializes the weights with small random values and sets them as trainable.\r\n",
    "- Initializes the bias to 0 and sets it as trainable.\r\n",
    "- Prints the initialized weights and bias.\r\n",
    "```\n"
   ]
  },
  {
   "cell_type": "code",
   "execution_count": 13,
   "metadata": {
    "collapsed": false,
    "jupyter": {
     "outputs_hidden": false
    }
   },
   "outputs": [
    {
     "name": "stdout",
     "output_type": "stream",
     "text": [
      "Weights: [[[ 0.01764052  0.00400157  0.00978738]\n",
      "  [ 0.02240893  0.01867558 -0.00977278]\n",
      "  [ 0.00950088 -0.00151357 -0.00103219]\n",
      "  [ 0.00410599  0.00144044  0.01454274]]\n",
      "\n",
      " [[ 0.00761038  0.00121675  0.00443863]\n",
      "  [ 0.00333674  0.01494079 -0.00205158]\n",
      "  [ 0.00313068 -0.00854096 -0.0255299 ]\n",
      "  [ 0.00653619  0.00864436 -0.00742165]]\n",
      "\n",
      " [[ 0.02269755 -0.01454366  0.00045759]\n",
      "  [-0.00187184  0.01532779  0.01469359]\n",
      "  [ 0.00154947  0.00378163 -0.00887786]\n",
      "  [-0.01980796 -0.00347912  0.00156349]]]\n",
      "Bias:  0.0\n"
     ]
    }
   ],
   "source": [
    "np.random.seed(0)\n",
    "num_qubits = 4\n",
    "num_layers = 2\n",
    "weights_init = 0.01 * np.random.randn(num_layers + 1, num_qubits, 3, requires_grad=True)\n",
    "bias_init = np.array(0.0, requires_grad=True)\n",
    "\n",
    "print(\"Weights:\", weights_init)\n",
    "print(\"Bias: \", bias_init)"
   ]
  },
  {
   "cell_type": "markdown",
   "metadata": {},
   "source": [
    "Any model optimized using gradient descent techniques requires an optimizer. There are many optimizers available, such as Adam, Adagrad, pure gradient descent, and Momentum. In PennyLane, many of these optimizers are implemented.\r\n",
    "\r\n",
    "In PennyLane, you have access to a variety of gradient descent optimizers to suit different needs. Some of the commonly used optimizers include:\r\n",
    "\r\n",
    "- **Adam**: Combines the advantages of two other extensions of stochastic gradient descent, namely AdaGrad and RMSProp.\r\n",
    "- **Adagrad**: Adapts the learning rate to the parameters, performing larger updates for infrequent and smaller updates for frequent parameters.\r\n",
    "- **Gradient Descent**: The basic form of gradient descent where the learning rate is constant.\r\n",
    "- **Momentum**: Accelerates gradient descent by taking into account the previous gradients to smooth out the updates.\r\n",
    "\n",
    "\n",
    "```"
   ]
  },
  {
   "cell_type": "code",
   "execution_count": 14,
   "metadata": {
    "collapsed": false,
    "jupyter": {
     "outputs_hidden": false
    }
   },
   "outputs": [],
   "source": [
    "opt = NesterovMomentumOptimizer(0.5)\n",
    "batch_size = 5"
   ]
  },
  {
   "cell_type": "markdown",
   "metadata": {},
   "source": [
    "We enter the optimization (training) loop. A key point to observe is that the predictions are processed using the `np.sign()` function. This function transforms the model’s output into definitive predictions: negative values become -1, while positive values are converted to +1.\r\n",
    "\r\n",
    "**Code Explanation**\r\n",
    "\r\n",
    "- Initializes the weights and bias.\r\n",
    "- Runs an optimization loop for 100 iterations.\r\n",
    "- In each iteration:\r\n",
    "  - Selects a random batch of data.\r\n",
    "  - Updates the weights and bias using the optimizer.\r\n",
    "  - Computes predictions for the entire dataset.\r\n",
    "  - Calculates the current cost and accuracy.\r\n",
    "  - Prints the iteration number, cost, and accuracy.\r\n",
    "y.\n",
    "```\n"
   ]
  },
  {
   "cell_type": "code",
   "execution_count": 15,
   "metadata": {
    "collapsed": false,
    "jupyter": {
     "outputs_hidden": false
    }
   },
   "outputs": [
    {
     "name": "stdout",
     "output_type": "stream",
     "text": [
      "Iter:    1 | Cost: 1.1982077 | Accuracy: 0.7000000\n",
      "Iter:    2 | Cost: 1.1921779 | Accuracy: 0.7000000\n",
      "Iter:    3 | Cost: 1.1987324 | Accuracy: 0.7000000\n",
      "Iter:    4 | Cost: 1.5155498 | Accuracy: 0.7000000\n",
      "Iter:    5 | Cost: 2.1271257 | Accuracy: 0.6000000\n",
      "Iter:    6 | Cost: 1.1453663 | Accuracy: 0.7000000\n",
      "Iter:    7 | Cost: 1.3368889 | Accuracy: 0.7000000\n",
      "Iter:    8 | Cost: 0.7963113 | Accuracy: 0.7000000\n",
      "Iter:    9 | Cost: 0.8854933 | Accuracy: 0.6000000\n",
      "Iter:   10 | Cost: 1.3504250 | Accuracy: 0.6000000\n",
      "Iter:   11 | Cost: 1.2998483 | Accuracy: 0.5000000\n",
      "Iter:   12 | Cost: 0.8223170 | Accuracy: 0.6000000\n",
      "Iter:   13 | Cost: 0.3572720 | Accuracy: 1.0000000\n",
      "Iter:   14 | Cost: 0.1879121 | Accuracy: 1.0000000\n",
      "Iter:   15 | Cost: 0.3486388 | Accuracy: 0.9000000\n",
      "Iter:   16 | Cost: 0.3620678 | Accuracy: 0.9000000\n",
      "Iter:   17 | Cost: 0.4004274 | Accuracy: 0.9000000\n",
      "Iter:   18 | Cost: 0.2359822 | Accuracy: 1.0000000\n",
      "Iter:   19 | Cost: 0.0656729 | Accuracy: 1.0000000\n",
      "Iter:   20 | Cost: 0.0277633 | Accuracy: 1.0000000\n",
      "Iter:   21 | Cost: 0.0283607 | Accuracy: 1.0000000\n",
      "Iter:   22 | Cost: 0.0567961 | Accuracy: 1.0000000\n",
      "Iter:   23 | Cost: 0.0373956 | Accuracy: 1.0000000\n",
      "Iter:   24 | Cost: 0.0215704 | Accuracy: 1.0000000\n",
      "Iter:   25 | Cost: 0.0161611 | Accuracy: 1.0000000\n",
      "Iter:   26 | Cost: 0.0094487 | Accuracy: 1.0000000\n",
      "Iter:   27 | Cost: 0.0049081 | Accuracy: 1.0000000\n",
      "Iter:   28 | Cost: 0.0034223 | Accuracy: 1.0000000\n",
      "Iter:   29 | Cost: 0.0037931 | Accuracy: 1.0000000\n",
      "Iter:   30 | Cost: 0.0035975 | Accuracy: 1.0000000\n",
      "Iter:   31 | Cost: 0.0028694 | Accuracy: 1.0000000\n",
      "Iter:   32 | Cost: 0.0041976 | Accuracy: 1.0000000\n",
      "Iter:   33 | Cost: 0.0041389 | Accuracy: 1.0000000\n",
      "Iter:   34 | Cost: 0.0077587 | Accuracy: 1.0000000\n",
      "Iter:   35 | Cost: 0.0036920 | Accuracy: 1.0000000\n",
      "Iter:   36 | Cost: 0.0048447 | Accuracy: 1.0000000\n",
      "Iter:   37 | Cost: 0.0026170 | Accuracy: 1.0000000\n",
      "Iter:   38 | Cost: 0.0019127 | Accuracy: 1.0000000\n",
      "Iter:   39 | Cost: 0.0013740 | Accuracy: 1.0000000\n",
      "Iter:   40 | Cost: 0.0011416 | Accuracy: 1.0000000\n",
      "Iter:   41 | Cost: 0.0009192 | Accuracy: 1.0000000\n",
      "Iter:   42 | Cost: 0.0005465 | Accuracy: 1.0000000\n",
      "Iter:   43 | Cost: 0.0003839 | Accuracy: 1.0000000\n",
      "Iter:   44 | Cost: 0.0003395 | Accuracy: 1.0000000\n",
      "Iter:   45 | Cost: 0.0002635 | Accuracy: 1.0000000\n",
      "Iter:   46 | Cost: 0.0002888 | Accuracy: 1.0000000\n",
      "Iter:   47 | Cost: 0.0002061 | Accuracy: 1.0000000\n",
      "Iter:   48 | Cost: 0.0001616 | Accuracy: 1.0000000\n",
      "Iter:   49 | Cost: 0.0001582 | Accuracy: 1.0000000\n",
      "Iter:   50 | Cost: 0.0001249 | Accuracy: 1.0000000\n",
      "Iter:   51 | Cost: 0.0001602 | Accuracy: 1.0000000\n",
      "Iter:   52 | Cost: 0.0001052 | Accuracy: 1.0000000\n",
      "Iter:   53 | Cost: 0.0000938 | Accuracy: 1.0000000\n",
      "Iter:   54 | Cost: 0.0001095 | Accuracy: 1.0000000\n",
      "Iter:   55 | Cost: 0.0000852 | Accuracy: 1.0000000\n",
      "Iter:   56 | Cost: 0.0000736 | Accuracy: 1.0000000\n",
      "Iter:   57 | Cost: 0.0000564 | Accuracy: 1.0000000\n",
      "Iter:   58 | Cost: 0.0000552 | Accuracy: 1.0000000\n",
      "Iter:   59 | Cost: 0.0000498 | Accuracy: 1.0000000\n",
      "Iter:   60 | Cost: 0.0000454 | Accuracy: 1.0000000\n",
      "Iter:   61 | Cost: 0.0000350 | Accuracy: 1.0000000\n",
      "Iter:   62 | Cost: 0.0000344 | Accuracy: 1.0000000\n",
      "Iter:   63 | Cost: 0.0000290 | Accuracy: 1.0000000\n",
      "Iter:   64 | Cost: 0.0000246 | Accuracy: 1.0000000\n",
      "Iter:   65 | Cost: 0.0000269 | Accuracy: 1.0000000\n",
      "Iter:   66 | Cost: 0.0000193 | Accuracy: 1.0000000\n",
      "Iter:   67 | Cost: 0.0000182 | Accuracy: 1.0000000\n",
      "Iter:   68 | Cost: 0.0000259 | Accuracy: 1.0000000\n",
      "Iter:   69 | Cost: 0.0000183 | Accuracy: 1.0000000\n",
      "Iter:   70 | Cost: 0.0000126 | Accuracy: 1.0000000\n",
      "Iter:   71 | Cost: 0.0000114 | Accuracy: 1.0000000\n",
      "Iter:   72 | Cost: 0.0000101 | Accuracy: 1.0000000\n",
      "Iter:   73 | Cost: 0.0000128 | Accuracy: 1.0000000\n",
      "Iter:   74 | Cost: 0.0000092 | Accuracy: 1.0000000\n",
      "Iter:   75 | Cost: 0.0000084 | Accuracy: 1.0000000\n",
      "Iter:   76 | Cost: 0.0000101 | Accuracy: 1.0000000\n",
      "Iter:   77 | Cost: 0.0000078 | Accuracy: 1.0000000\n",
      "Iter:   78 | Cost: 0.0000068 | Accuracy: 1.0000000\n",
      "Iter:   79 | Cost: 0.0000058 | Accuracy: 1.0000000\n",
      "Iter:   80 | Cost: 0.0000065 | Accuracy: 1.0000000\n",
      "Iter:   81 | Cost: 0.0000051 | Accuracy: 1.0000000\n",
      "Iter:   82 | Cost: 0.0000050 | Accuracy: 1.0000000\n",
      "Iter:   83 | Cost: 0.0000102 | Accuracy: 1.0000000\n",
      "Iter:   84 | Cost: 0.0000039 | Accuracy: 1.0000000\n",
      "Iter:   85 | Cost: 0.0000037 | Accuracy: 1.0000000\n",
      "Iter:   86 | Cost: 0.0000040 | Accuracy: 1.0000000\n",
      "Iter:   87 | Cost: 0.0000033 | Accuracy: 1.0000000\n",
      "Iter:   88 | Cost: 0.0000041 | Accuracy: 1.0000000\n",
      "Iter:   89 | Cost: 0.0000036 | Accuracy: 1.0000000\n",
      "Iter:   90 | Cost: 0.0000029 | Accuracy: 1.0000000\n",
      "Iter:   91 | Cost: 0.0000027 | Accuracy: 1.0000000\n",
      "Iter:   92 | Cost: 0.0000031 | Accuracy: 1.0000000\n",
      "Iter:   93 | Cost: 0.0000025 | Accuracy: 1.0000000\n",
      "Iter:   94 | Cost: 0.0000024 | Accuracy: 1.0000000\n",
      "Iter:   95 | Cost: 0.0000032 | Accuracy: 1.0000000\n",
      "Iter:   96 | Cost: 0.0000021 | Accuracy: 1.0000000\n",
      "Iter:   97 | Cost: 0.0000021 | Accuracy: 1.0000000\n",
      "Iter:   98 | Cost: 0.0000021 | Accuracy: 1.0000000\n",
      "Iter:   99 | Cost: 0.0000023 | Accuracy: 1.0000000\n",
      "Iter:  100 | Cost: 0.0000018 | Accuracy: 1.0000000\n"
     ]
    }
   ],
   "source": [
    "weights = weights_init\n",
    "bias = bias_init\n",
    "for it in range(100):\n",
    "    \n",
    "\n",
    "    # Update the weights by one optimizer step, using only a limited batch of data\n",
    "    batch_index = np.random.randint(0, len(X), (batch_size,))\n",
    "    X_batch = X[batch_index]\n",
    "    Y_batch = Y[batch_index]\n",
    "    weights, bias = opt.step(cost, weights, bias, X=X_batch, Y=Y_batch)\n",
    "\n",
    "    # Compute accuracy\n",
    "    predictions = [np.sign(variational_classifier(weights, bias, x)) for x in X]\n",
    "\n",
    "    current_cost = cost(weights, bias, X, Y)\n",
    "    acc = accuracy(Y, predictions)\n",
    "\n",
    "    print(f\"Iter: {it+1:4d} | Cost: {current_cost:0.7f} | Accuracy: {acc:0.7f}\")"
   ]
  },
  {
   "cell_type": "code",
   "execution_count": 16,
   "metadata": {},
   "outputs": [
    {
     "data": {
      "text/plain": [
       "(tensor([[[ 1.76405235e-02,  1.56484980e+00,  1.00080245e-02],\n",
       "          [ 2.24089320e-02,  3.16170916e+00,  4.02908735e-01],\n",
       "          [ 9.50088418e-03,  3.41470299e-03,  3.04599463e-02],\n",
       "          [ 4.10598502e-03, -1.55724469e+00,  7.64965615e-03]],\n",
       " \n",
       "         [[ 2.44473266e-01,  1.05245593e-01, -2.34665335e-01],\n",
       "          [-1.10873587e-02,  1.57612140e+00, -8.42912778e-01],\n",
       "          [ 3.41876345e-02,  4.84829423e-01, -3.14490145e-02],\n",
       "          [ 5.11879509e-01,  1.54553109e+00,  1.14052497e-02]],\n",
       " \n",
       "         [[ 2.26975462e-02, -1.45436567e-02,  4.57585173e-04],\n",
       "          [-3.44770945e-03,  1.55500423e+00,  1.46935877e-02],\n",
       "          [ 7.77643950e-01,  2.52039292e-03, -8.87785748e-03],\n",
       "          [ 1.67189905e-02,  1.58347435e+00,  1.56348969e-03]]], requires_grad=True),\n",
       " tensor(0.00067284, requires_grad=True))"
      ]
     },
     "execution_count": 16,
     "metadata": {},
     "output_type": "execute_result"
    }
   ],
   "source": [
    "weights , bias"
   ]
  },
  {
   "cell_type": "markdown",
   "metadata": {},
   "source": [
    "**Evaluation**\n",
    "\n",
    "- Similar to machine learning, we aim to evaluate how well our model generalizes. This involves testing the model on unseen examples, which is achieved using test data.\r\n",
    "\r\n",
    "- Loads test data from a specified URL.\r\n",
    "- Splits the data into feature vectors (`X_test`) and labels (`Y_test`).\r\n",
    "- Transforms the labels from {0, 1} to {-1, 1}.\r\n",
    "- Generates predictions for the test data using the trained variational classifier.\r\n",
    "- Prints each feature vector, its true label, and its predicted label.\r\n",
    "- Calculates and prints the accuracy of the model on the test data.\r\n",
    "\n",
    "```\n"
   ]
  },
  {
   "cell_type": "code",
   "execution_count": 17,
   "metadata": {
    "collapsed": false,
    "jupyter": {
     "outputs_hidden": false
    }
   },
   "outputs": [
    {
     "name": "stdout",
     "output_type": "stream",
     "text": [
      "x = [0 0 0 0], y = -1, pred=-1.0\n",
      "x = [0 0 1 1], y = -1, pred=-1.0\n",
      "x = [1 0 1 0], y = -1, pred=-1.0\n",
      "x = [1 1 1 0], y = 1, pred=1.0\n",
      "x = [1 1 0 0], y = -1, pred=-1.0\n",
      "x = [1 1 0 1], y = 1, pred=1.0\n",
      "Accuracy on unseen data: 1.0\n"
     ]
    }
   ],
   "source": [
    "data = np.loadtxt(\"https://raw.githubusercontent.com/XanaduAI/qml/master/_static/demonstration_assets/variational_classifier/data/parity_test.txt\", dtype=int)\n",
    "X_test = np.array(data[:, :-1])\n",
    "Y_test = np.array(data[:, -1])\n",
    "Y_test = Y_test * 2 - 1  # shift label from {0, 1} to {-1, 1}\n",
    "    \n",
    "predictions_test = [np.sign(variational_classifier(weights, bias, x)) for x in X_test]\n",
    "\n",
    "for x,y,p in zip(X_test, Y_test, predictions_test):\n",
    "    print(f\"x = {x}, y = {y}, pred={p}\")\n",
    "    \n",
    "acc_test = accuracy(Y_test, predictions_test)\n",
    "print(\"Accuracy on unseen data:\", acc_test)"
   ]
  },
  {
   "cell_type": "markdown",
   "metadata": {},
   "source": [
    "# Iris classification\n",
    "\n",
    "This tutorial also demonstrated how to train a model for even more complex data. In this case, the encoding of the data was done based on the next code, which converts any vector `X` into another vector `W` composed of pure angles.\r\n",
    "\r\n",
    "**Function `get_angles(x)`**\r\n",
    "- **Purpose**: Computes a set of angles based on the input vector `x`.\r\n",
    "\r\n",
    "**Steps for the code**:\r\n",
    "1. Calculates three angles (`beta0`, `beta1`, `beta2`) using the `arcsin` function and norms of parts of `x`.\r\n",
    "2. Returns an array of these angles, with some adjustments.\r\n",
    "\r\n",
    "**Function `state_preparation(a)`**\r\n",
    "- **Purpose**: Prepares a quantum state using the angles `a`.\r\n",
    "\r\n",
    "**Steps**:\r\n",
    "1. Applies a series of quantum gates (`RY`, `CNOT`, `PauliX`) to the qubits.\r\n",
    "2. Uses the angles from `a` to rotate the qubits and entangle them.\r\n",
    "hem.\n",
    "```"
   ]
  },
  {
   "cell_type": "code",
   "execution_count": 18,
   "metadata": {
    "collapsed": false,
    "jupyter": {
     "outputs_hidden": false
    }
   },
   "outputs": [],
   "source": [
    "def get_angles(x):\n",
    "    beta0 = 2 * np.arcsin(np.sqrt(x[1] ** 2) / np.sqrt(x[0] ** 2 + x[1] ** 2 + 1e-12))\n",
    "    beta1 = 2 * np.arcsin(np.sqrt(x[3] ** 2) / np.sqrt(x[2] ** 2 + x[3] ** 2 + 1e-12))\n",
    "    beta2 = 2 * np.arcsin(np.linalg.norm(x[2:]) / np.linalg.norm(x))\n",
    "\n",
    "    return np.array([beta2, -beta1 / 2, beta1 / 2, -beta0 / 2, beta0 / 2])\n",
    "\n",
    "\n",
    "def state_preparation(a):\n",
    "    qml.RY(a[0], wires=0)\n",
    "\n",
    "    qml.CNOT(wires=[0, 1])\n",
    "    qml.RY(a[1], wires=1)\n",
    "    qml.CNOT(wires=[0, 1])\n",
    "    qml.RY(a[2], wires=1)\n",
    "\n",
    "    qml.PauliX(wires=0)\n",
    "    qml.CNOT(wires=[0, 1])\n",
    "    qml.RY(a[3], wires=1)\n",
    "    qml.CNOT(wires=[0, 1])\n",
    "    qml.RY(a[4], wires=1)\n",
    "    qml.PauliX(wires=0)"
   ]
  },
  {
   "cell_type": "markdown",
   "metadata": {},
   "source": [
    "This code demonstrates how to transform a classical input vector into a quantum state using angle encoding and then retrieve the resulting quantum state.\r\n",
    "\r\n",
    "1. **Initialization**:\r\n",
    "    \r\n",
    "    - Initializes a 4-dimensional input vector `x`.\r\n",
    "    - Computes angles `ang` based on `x` using the `get_angles` function.\r\n",
    "\r\n",
    "2. **Quantum Node Definition**:\r\n",
    "\r\n",
    "    - Defines a quantum node `test` that prepares a quantum state using the `state_preparation` function and returns the quantum state.\r\n",
    "\r\n",
    "3. **Execution and Output**:\r\n",
    "    \r\n",
    "    - Executes the quantum node with the computed angles.\r\n",
    "    - Prints the original input vector `x`, the computed angles `ang`, and the real part of the amplitude vector of the quantum state.\r\n",
    "ctor of the quantum state.\r\n",
    "\r\n"
   ]
  },
  {
   "cell_type": "code",
   "execution_count": 19,
   "metadata": {
    "collapsed": false,
    "jupyter": {
     "outputs_hidden": false
    }
   },
   "outputs": [
    {
     "name": "stdout",
     "output_type": "stream",
     "text": [
      "x               :  [0.538968 0.795036 0.278265 0.      ]\n",
      "angles          :  [ 0.563975 -0.        0.       -0.975046  0.975046]\n",
      "amplitude vector:  [ 0.538968  0.795036  0.278265 -0.      ]\n"
     ]
    }
   ],
   "source": [
    "x = np.array([0.53896774, 0.79503606, 0.27826503, 0.0], requires_grad=False)\n",
    "ang = get_angles(x)\n",
    "\n",
    "\n",
    "@qml.qnode(dev)\n",
    "def test(angles):\n",
    "    state_preparation(angles)\n",
    "\n",
    "    return qml.state()\n",
    "\n",
    "\n",
    "state = test(ang)\n",
    "\n",
    "print(\"x               : \", np.round(x, 6))\n",
    "print(\"angles          : \", np.round(ang, 6))\n",
    "print(\"amplitude vector: \", np.round(np.real(state), 6))"
   ]
  },
  {
   "cell_type": "markdown",
   "metadata": {},
   "source": [
    "As before, we need to define our layers, circuit, and cost function. In this case, the metric was not redefined because we are using the same one as before.\n",
    "0### `layer` Function\r\n",
    "- **Purpose**: Applies a layer of quantum operations to two qubits.\r\n",
    "- **Operations**:\r\n",
    "  - **Rotation Gates**: Uses weights to apply rotation gates to each qubit.\r\n",
    "  - **CNOT Gate**: Applies a CNOT gate between qubits 0 and 1.\r\n",
    "\r\n",
    "### `cost` Function\r\n",
    "- **Purpose**: Calculates the cost (or loss) of predictions made by the variational classifier.\r\n",
    "- **Operations**:\r\n",
    "  - **Transpose Input Data**: Ensures the input data is correctly formatted.\r\n",
    "  - **Predictions**: Generates predictions using the variational classifier.\r\n",
    "  - **Calculate Loss**: Computes the mean squared error between true labels and predictions.\r\n",
    ", 1])\r\n",
    "\r\n"
   ]
  },
  {
   "cell_type": "code",
   "execution_count": 20,
   "metadata": {
    "collapsed": false,
    "jupyter": {
     "outputs_hidden": false
    }
   },
   "outputs": [],
   "source": [
    "def layer(layer_weights):\n",
    "    for wire in range(2):\n",
    "        qml.Rot(*layer_weights[wire], wires=wire)\n",
    "    qml.CNOT(wires=[0, 1])\n",
    "\n",
    "\n",
    "def cost(weights, bias, X, Y):\n",
    "    # Transpose the batch of input data in order to make the indexing\n",
    "    # in state_preparation work\n",
    "    predictions = variational_classifier(weights, bias, X.T)\n",
    "    return square_loss(Y, predictions)"
   ]
  },
  {
   "cell_type": "markdown",
   "metadata": {},
   "source": [
    "We collect the data and perform several transformations. Initially, we convert 2-dimensional vectors into 4-dimensional ones. Then, we normalize these vectors. Lastly, we use angle encoding to transform the data into 5-dimensional vectors.\n",
    "\n",
    "- **Load Data**: Loads the dataset and extracts the first two columns as feature vectors \\( \\mathbf{X} \\).\r\n",
    "- **Pad Vectors**: Pads each feature vector to size 4 by adding two constant values (0.1).\r\n",
    "- **Normalize Vectors**: Normalizes each padded vector.\r\n",
    "- **Compute Angles**: Computes angles for state preparation from the normalized vectors.\r\n",
    "- **Extract Labels**: Extracts the labels from the last column of the dataset.\r\n",
    "\r\n"
   ]
  },
  {
   "cell_type": "code",
   "execution_count": 21,
   "metadata": {
    "collapsed": false,
    "jupyter": {
     "outputs_hidden": false
    }
   },
   "outputs": [
    {
     "name": "stdout",
     "output_type": "stream",
     "text": [
      "First X sample (original)  : [0.4  0.75]\n",
      "First X sample (padded)    : [0.4  0.75 0.1  0.1 ]\n",
      "First X sample (normalized): [0.46420708 0.87038828 0.11605177 0.11605177]\n",
      "First features sample      : [ 0.32973573 -0.78539816  0.78539816 -1.080839    1.080839  ]\n"
     ]
    }
   ],
   "source": [
    "data = np.loadtxt(\"https://raw.githubusercontent.com/XanaduAI/qml/master/_static/demonstration_assets/variational_classifier/data/iris_classes1and2_scaled.txt\")\n",
    "X = data[:, 0:2]\n",
    "print(f\"First X sample (original)  : {X[0]}\")\n",
    "\n",
    "# pad the vectors to size 2^2=4 with constant values\n",
    "padding = np.ones((len(X), 2)) * 0.1\n",
    "X_pad = np.c_[X, padding]\n",
    "print(f\"First X sample (padded)    : {X_pad[0]}\")\n",
    "\n",
    "# normalize each input\n",
    "normalization = np.sqrt(np.sum(X_pad**2, -1))\n",
    "X_norm = (X_pad.T / normalization).T\n",
    "print(f\"First X sample (normalized): {X_norm[0]}\")\n",
    "\n",
    "# the angles for state preparation are the features\n",
    "features = np.array([get_angles(x) for x in X_norm], requires_grad=False)\n",
    "print(f\"First features sample      : {features[0]}\")\n",
    "\n",
    "Y = data[:, -1]"
   ]
  },
  {
   "cell_type": "markdown",
   "metadata": {},
   "source": [
    "This section of the script is responsible for plotting the data. It is evident that the original data is linearly separable, indicating that any linear model can solve this classification task. Furthermore, the second and third plots also display data that is linearly separable.\n",
    "\n",
    "1. **Importing Matplotlib**: The code imports the `matplotlib.pyplot` module for creating plots.\r\n",
    "2. **Plotting Original Data**: It creates a scatter plot of the original data, distinguishing between two classes with different colors.\r\n",
    "3. **Plotting Padded and Normalized Data**: It plots the padded and normalized data, again distinguishing between the two classes.\r\n",
    "4. **Plotting Feature Vectors**: It plots the feature vectors, using different dimensions to visualize the data.\r\n",
    "\r\n",
    "These plots help visualize the data at different stages to understand the transformations and their effects on data distribution.\r\n",
    "\r\n"
   ]
  },
  {
   "cell_type": "code",
   "execution_count": 22,
   "metadata": {
    "collapsed": false,
    "jupyter": {
     "outputs_hidden": false
    }
   },
   "outputs": [
    {
     "data": {
      "image/png": "[encoded data removed]",
      "text/plain": [
       "<Figure size 640x480 with 1 Axes>"
      ]
     },
     "metadata": {},
     "output_type": "display_data"
    },
    {
     "data": {
      "image/png": "[encoded data removed]",
      "text/plain": [
       "<Figure size 640x480 with 1 Axes>"
      ]
     },
     "metadata": {},
     "output_type": "display_data"
    },
    {
     "data": {
      "image/png": "[encoded data removed]",
      "text/plain": [
       "<Figure size 640x480 with 1 Axes>"
      ]
     },
     "metadata": {},
     "output_type": "display_data"
    }
   ],
   "source": [
    "import matplotlib.pyplot as plt\n",
    "\n",
    "plt.figure()\n",
    "plt.scatter(X[:, 0][Y == 1], X[:, 1][Y == 1], c=\"b\", marker=\"o\", ec=\"k\")\n",
    "plt.scatter(X[:, 0][Y == -1], X[:, 1][Y == -1], c=\"r\", marker=\"o\", ec=\"k\")\n",
    "plt.title(\"Original data\")\n",
    "plt.show()\n",
    "\n",
    "plt.figure()\n",
    "dim1 = 0\n",
    "dim2 = 1\n",
    "plt.scatter(X_norm[:, dim1][Y == 1], X_norm[:, dim2][Y == 1], c=\"b\", marker=\"o\", ec=\"k\")\n",
    "plt.scatter(X_norm[:, dim1][Y == -1], X_norm[:, dim2][Y == -1], c=\"r\", marker=\"o\", ec=\"k\")\n",
    "plt.title(f\"Padded and normalised data (dims {dim1} and {dim2})\")\n",
    "plt.show()\n",
    "\n",
    "plt.figure()\n",
    "dim1 = 0\n",
    "dim2 = 3\n",
    "plt.scatter(features[:, dim1][Y == 1], features[:, dim2][Y == 1], c=\"b\", marker=\"o\", ec=\"k\")\n",
    "plt.scatter(features[:, dim1][Y == -1], features[:, dim2][Y == -1], c=\"r\", marker=\"o\", ec=\"k\")\n",
    "plt.title(f\"Feature vectors (dims {dim1} and {dim2})\")\n",
    "plt.show()"
   ]
  },
  {
   "cell_type": "markdown",
   "metadata": {},
   "source": [
    "Similar to the previous problem, we can optimize the model to enable it to make predictions. In this step, we define some variables and use a portion of the data to train the circuit.\n",
    "\n",
    "1. **Setting the Random Seed**: Ensures reproducibility by setting a fixed seed for the random number generator.\r\n",
    "2. **Calculating Data Points**: Determines the total number of data points and calculates 75% of this number for training data.\r\n",
    "3. **Generating Random Indices**: Creates a random permutation of indices to shuffle the data.\r\n",
    "4. **Splitting Data**: Divides the data into training and validation sets using the shuffled indices.\r\n",
    "5. **Preparing Data for Plotting**: Splits the original feature vectors into training and validation sets for consistent plotting.\r\n",
    "\r\n",
    "This code effectively splits the dataset into training and validation sets in a reproducible and random manner.\r\n",
    "\r\n"
   ]
  },
  {
   "cell_type": "code",
   "execution_count": 23,
   "metadata": {
    "collapsed": false,
    "jupyter": {
     "outputs_hidden": false
    }
   },
   "outputs": [],
   "source": [
    "np.random.seed(0)\n",
    "num_data = len(Y)\n",
    "num_train = int(0.75 * num_data)\n",
    "index = np.random.permutation(range(num_data))\n",
    "feats_train = features[index[:num_train]]\n",
    "Y_train = Y[index[:num_train]]\n",
    "feats_val = features[index[num_train:]]\n",
    "Y_val = Y[index[num_train:]]\n",
    "\n",
    "# We need these later for plotting\n",
    "X_train = X[index[:num_train]]\n",
    "X_val = X[index[num_train:]]"
   ]
  },
  {
   "cell_type": "markdown",
   "metadata": {},
   "source": [
    "1. **Setting the Number of Qubits and Layers**:\r\n",
    "   - Specifies that the quantum circuit will use 2 qubits and have 6 layers.\r\n",
    "\r\n",
    "2. **Initializing Weights**:\r\n",
    "   - Generates a random array of weights with small values, scaled by 0.01, and sets them to require gradients for optimization.\r\n",
    "\r\n",
    "3. **Initializing Bias**:\r\n",
    "   - Creates a scalar bias with the value 0.0 and sets it to require gradients for optimization.\r\n",
    "\r\n",
    "This code initializes the weights and bias for a quantum circuit, preparing them for gradient-based optimization during training.\r\n"
   ]
  },
  {
   "cell_type": "code",
   "execution_count": 24,
   "metadata": {
    "collapsed": false,
    "jupyter": {
     "outputs_hidden": false
    }
   },
   "outputs": [],
   "source": [
    "num_qubits = 2\n",
    "num_layers = 6\n",
    "\n",
    "weights_init = 0.01 * np.random.randn(num_layers, num_qubits, 3, requires_grad=True)\n",
    "bias_init = np.array(0.0, requires_grad=True)"
   ]
  },
  {
   "cell_type": "markdown",
   "metadata": {},
   "source": [
    "### **Optimization of the second problem**\n"
   ]
  },
  {
   "cell_type": "markdown",
   "metadata": {},
   "source": [
    "1. **Initialize** the Nesterov Momentum Optimizer with a learning rate of 0.01.\r\n",
    "2. **Set** the batch size to 5.\r\n",
    "3. **Loop** for 100 iterations:\r\n",
    "   - **Select** a random batch of training samples.\r\n",
    "   - **Update** weights and bias using the optimizer.\r\n",
    "   - **Make predictions** on training and validation sets.\r\n",
    "   - **Calculate accuracy** for both sets.\r\n",
    "   - **Log** the cost and accuracies every two iterations.\r\n",
    "\r\n",
    "This code trains a variational classifier using batch gradient descent with Nesterov Momentum, evaluating performance on both training and validation sets.\r\n"
   ]
  },
  {
   "cell_type": "code",
   "execution_count": 25,
   "metadata": {
    "collapsed": false,
    "jupyter": {
     "outputs_hidden": false
    }
   },
   "outputs": [
    {
     "name": "stdout",
     "output_type": "stream",
     "text": [
      "Iter:     2 | Cost: 1.6589456 | Acc train: 0.4800000 | Acc validation: 0.5600000\n",
      "Iter:     4 | Cost: 1.2054273 | Acc train: 0.4933333 | Acc validation: 0.5600000\n",
      "Iter:     6 | Cost: 0.9740740 | Acc train: 0.4933333 | Acc validation: 0.7200000\n",
      "Iter:     8 | Cost: 0.9660872 | Acc train: 0.6400000 | Acc validation: 0.6400000\n",
      "Iter:    10 | Cost: 0.9569019 | Acc train: 0.6000000 | Acc validation: 0.6000000\n",
      "Iter:    12 | Cost: 0.9445863 | Acc train: 0.4933333 | Acc validation: 0.7200000\n",
      "Iter:    14 | Cost: 1.0339978 | Acc train: 0.4800000 | Acc validation: 0.5600000\n",
      "Iter:    16 | Cost: 1.0774217 | Acc train: 0.4933333 | Acc validation: 0.5600000\n",
      "Iter:    18 | Cost: 0.9984426 | Acc train: 0.4800000 | Acc validation: 0.5600000\n",
      "Iter:    20 | Cost: 0.8975279 | Acc train: 0.5600000 | Acc validation: 0.7600000\n",
      "Iter:    22 | Cost: 0.8451699 | Acc train: 0.6400000 | Acc validation: 0.6400000\n",
      "Iter:    24 | Cost: 0.8337489 | Acc train: 0.5600000 | Acc validation: 0.5200000\n",
      "Iter:    26 | Cost: 0.7832025 | Acc train: 0.6000000 | Acc validation: 0.6000000\n",
      "Iter:    28 | Cost: 0.7397515 | Acc train: 0.6133333 | Acc validation: 0.6000000\n",
      "Iter:    30 | Cost: 0.6690522 | Acc train: 0.6666667 | Acc validation: 0.6400000\n",
      "Iter:    32 | Cost: 0.5640186 | Acc train: 0.8266667 | Acc validation: 0.8000000\n",
      "Iter:    34 | Cost: 0.4765597 | Acc train: 0.8933333 | Acc validation: 0.8800000\n",
      "Iter:    36 | Cost: 0.4144135 | Acc train: 0.9200000 | Acc validation: 0.9600000\n",
      "Iter:    38 | Cost: 0.3569566 | Acc train: 0.9600000 | Acc validation: 1.0000000\n",
      "Iter:    40 | Cost: 0.3186159 | Acc train: 0.9866667 | Acc validation: 1.0000000\n",
      "Iter:    42 | Cost: 0.2853043 | Acc train: 0.9866667 | Acc validation: 1.0000000\n",
      "Iter:    44 | Cost: 0.2652725 | Acc train: 1.0000000 | Acc validation: 1.0000000\n",
      "Iter:    46 | Cost: 0.2525848 | Acc train: 1.0000000 | Acc validation: 1.0000000\n",
      "Iter:    48 | Cost: 0.2444278 | Acc train: 1.0000000 | Acc validation: 1.0000000\n",
      "Iter:    50 | Cost: 0.2436316 | Acc train: 0.9866667 | Acc validation: 1.0000000\n",
      "Iter:    52 | Cost: 0.2376316 | Acc train: 1.0000000 | Acc validation: 1.0000000\n",
      "Iter:    54 | Cost: 0.2307475 | Acc train: 1.0000000 | Acc validation: 1.0000000\n",
      "Iter:    56 | Cost: 0.2341245 | Acc train: 1.0000000 | Acc validation: 1.0000000\n",
      "Iter:    58 | Cost: 0.2292663 | Acc train: 1.0000000 | Acc validation: 1.0000000\n",
      "Iter:    60 | Cost: 0.2241948 | Acc train: 1.0000000 | Acc validation: 1.0000000\n",
      "Iter:    62 | Cost: 0.2318161 | Acc train: 0.9866667 | Acc validation: 1.0000000\n",
      "Iter:    64 | Cost: 0.2393055 | Acc train: 0.9866667 | Acc validation: 1.0000000\n",
      "Iter:    66 | Cost: 0.2331346 | Acc train: 0.9866667 | Acc validation: 1.0000000\n",
      "Iter:    68 | Cost: 0.2185662 | Acc train: 1.0000000 | Acc validation: 1.0000000\n",
      "Iter:    70 | Cost: 0.2158422 | Acc train: 1.0000000 | Acc validation: 1.0000000\n",
      "Iter:    72 | Cost: 0.2145397 | Acc train: 1.0000000 | Acc validation: 1.0000000\n",
      "Iter:    74 | Cost: 0.2137724 | Acc train: 1.0000000 | Acc validation: 1.0000000\n",
      "Iter:    76 | Cost: 0.2140604 | Acc train: 1.0000000 | Acc validation: 1.0000000\n",
      "Iter:    78 | Cost: 0.2142304 | Acc train: 1.0000000 | Acc validation: 1.0000000\n",
      "Iter:    80 | Cost: 0.2119122 | Acc train: 1.0000000 | Acc validation: 1.0000000\n",
      "Iter:    82 | Cost: 0.2144283 | Acc train: 1.0000000 | Acc validation: 1.0000000\n",
      "Iter:    84 | Cost: 0.2114650 | Acc train: 1.0000000 | Acc validation: 1.0000000\n",
      "Iter:    86 | Cost: 0.2125620 | Acc train: 1.0000000 | Acc validation: 1.0000000\n",
      "Iter:    88 | Cost: 0.2200101 | Acc train: 1.0000000 | Acc validation: 1.0000000\n",
      "Iter:    90 | Cost: 0.2167048 | Acc train: 1.0000000 | Acc validation: 1.0000000\n",
      "Iter:    92 | Cost: 0.2109000 | Acc train: 1.0000000 | Acc validation: 1.0000000\n",
      "Iter:    94 | Cost: 0.2129692 | Acc train: 1.0000000 | Acc validation: 1.0000000\n",
      "Iter:    96 | Cost: 0.2123000 | Acc train: 1.0000000 | Acc validation: 1.0000000\n",
      "Iter:    98 | Cost: 0.2106915 | Acc train: 1.0000000 | Acc validation: 1.0000000\n",
      "Iter:   100 | Cost: 0.2112276 | Acc train: 1.0000000 | Acc validation: 1.0000000\n"
     ]
    }
   ],
   "source": [
    "opt = NesterovMomentumOptimizer(0.01)\n",
    "batch_size = 5\n",
    "\n",
    "# train the variational classifier\n",
    "weights = weights_init\n",
    "bias = bias_init\n",
    "for it in range(100):\n",
    "    # Update the weights by one optimizer step\n",
    "    batch_index = np.random.randint(0, num_train, (batch_size,))\n",
    "    feats_train_batch = feats_train[batch_index]\n",
    "    Y_train_batch = Y_train[batch_index]\n",
    "    weights, bias, _, _ = opt.step(cost, weights, bias, feats_train_batch, Y_train_batch)\n",
    "\n",
    "    # Compute predictions on train and validation set\n",
    "    predictions_train = np.sign(variational_classifier(weights, bias, feats_train.T))\n",
    "    predictions_val = np.sign(variational_classifier(weights, bias, feats_val.T))\n",
    "\n",
    "    # Compute accuracy on train and validation set\n",
    "    acc_train = accuracy(Y_train, predictions_train)\n",
    "    acc_val = accuracy(Y_val, predictions_val)\n",
    "\n",
    "    if (it + 1) % 2 == 0:\n",
    "        _cost = cost(weights, bias, features, Y)\n",
    "        print(\n",
    "            f\"Iter: {it + 1:5d} | Cost: {_cost:0.7f} | \"\n",
    "            f\"Acc train: {acc_train:0.7f} | Acc validation: {acc_val:0.7f}\"\n",
    "        )"
   ]
  },
  {
   "cell_type": "markdown",
   "metadata": {},
   "source": [
    "\n",
    "Once we train the model using the next cell, we can see how the variational classifier predicts. The plot’s center indicates the boundary between the classes.\n",
    "\n",
    "1. **Initialize** a new figure and set the colormap.\r\n",
    "2. **Create a grid** of points for decision regions.\r\n",
    "3. **Preprocess** the grid points by adding padding, normalizing, and converting to new features.\r\n",
    "4. **Predict** on the grid points using the variational classifier.\r\n",
    "5. **Plot** the decision regions and add a contour line at the decision boundary.\r\n",
    "6. **Plot** the training and validation data points with different colors and markers.\r\n",
    "7. **Show** the plot with a legend.\r\n",
    "\r\n",
    "This code visualizes the decision regions of a variational classifier along with the training and validation data points.\r\n",
    "\n"
   ]
  },
  {
   "cell_type": "code",
   "execution_count": 26,
   "metadata": {
    "collapsed": false,
    "jupyter": {
     "outputs_hidden": false
    }
   },
   "outputs": [
    {
     "data": {
      "image/png": "[encoded data removed]",
      "text/plain": [
       "<Figure size 640x480 with 2 Axes>"
      ]
     },
     "metadata": {},
     "output_type": "display_data"
    }
   ],
   "source": [
    "plt.figure()\n",
    "cm = plt.cm.RdBu\n",
    "\n",
    "# make data for decision regions\n",
    "xx, yy = np.meshgrid(np.linspace(0.0, 1.5, 30), np.linspace(0.0, 1.5, 30))\n",
    "X_grid = [np.array([x, y]) for x, y in zip(xx.flatten(), yy.flatten())]\n",
    "\n",
    "# preprocess grid points like data inputs above\n",
    "padding = 0.1 * np.ones((len(X_grid), 2))\n",
    "X_grid = np.c_[X_grid, padding]  # pad each input\n",
    "normalization = np.sqrt(np.sum(X_grid**2, -1))\n",
    "X_grid = (X_grid.T / normalization).T  # normalize each input\n",
    "features_grid = np.array([get_angles(x) for x in X_grid])  # angles are new features\n",
    "predictions_grid = variational_classifier(weights, bias, features_grid.T)\n",
    "Z = np.reshape(predictions_grid, xx.shape)\n",
    "\n",
    "# plot decision regions\n",
    "levels = np.arange(-1, 1.1, 0.1)\n",
    "cnt = plt.contourf(xx, yy, Z, levels=levels, cmap=cm, alpha=0.8, extend=\"both\")\n",
    "plt.contour(xx, yy, Z, levels=[0.0], colors=(\"black\",), linestyles=(\"--\",), linewidths=(0.8,))\n",
    "plt.colorbar(cnt, ticks=[-1, 0, 1])\n",
    "\n",
    "# plot data\n",
    "for color, label in zip([\"b\", \"r\"], [1, -1]):\n",
    "    plot_x = X_train[:, 0][Y_train == label]\n",
    "    plot_y = X_train[:, 1][Y_train == label]\n",
    "    plt.scatter(plot_x, plot_y, c=color, marker=\"o\", ec=\"k\", label=f\"class {label} train\")\n",
    "    plot_x = (X_val[:, 0][Y_val == label],)\n",
    "    plot_y = (X_val[:, 1][Y_val == label],)\n",
    "    plt.scatter(plot_x, plot_y, c=color, marker=\"^\", ec=\"k\", label=f\"class {label} validation\")\n",
    "\n",
    "plt.legend()\n",
    "plt.show()"
   ]
  },
  {
   "cell_type": "code",
   "execution_count": null,
   "metadata": {},
   "outputs": [],
   "source": []
  }
 ],
 "metadata": {
  "kernelspec": {
   "display_name": "Python 3 (ipykernel)",
   "language": "python",
   "name": "python3"
  },
  "language_info": {
   "codemirror_mode": {
    "name": "ipython",
    "version": 3
   },
   "file_extension": ".py",
   "mimetype": "text/x-python",
   "name": "python",
   "nbconvert_exporter": "python",
   "pygments_lexer": "ipython3",
   "version": "3.11.7"
  }
 },
 "nbformat": 4,
 "nbformat_minor": 4
}
